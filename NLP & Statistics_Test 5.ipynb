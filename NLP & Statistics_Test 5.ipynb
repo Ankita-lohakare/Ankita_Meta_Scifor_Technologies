{
 "cells": [
  {
   "cell_type": "markdown",
   "id": "f6d987e7",
   "metadata": {},
   "source": [
    "## NLP\n",
    "### 1.Write a program of text processing."
   ]
  },
  {
   "cell_type": "code",
   "execution_count": 1,
   "id": "7295b49a",
   "metadata": {},
   "outputs": [],
   "source": [
    "# Importing necessary libraries\n",
    "import re"
   ]
  },
  {
   "cell_type": "code",
   "execution_count": 2,
   "id": "b4456eea",
   "metadata": {},
   "outputs": [
    {
     "name": "stdout",
     "output_type": "stream",
     "text": [
      "Processed Text: hello world welcome to natural language processing\n"
     ]
    }
   ],
   "source": [
    "# Sample text\n",
    "text = \"Hello, World! Welcome to Natural Language Processing.\"  \n",
    "\n",
    "# Function for text processing\n",
    "def process_text(text):  \n",
    "    # Convert to lower case  \n",
    "    text = text.lower()  \n",
    "    # Remove punctuation  \n",
    "    text = re.sub(r'[^\\w\\s]', '', text)  \n",
    "    return text\n",
    "\n",
    "# Process the text  \n",
    "processed_text = process_text(text)  \n",
    "print(\"Processed Text:\", processed_text)"
   ]
  },
  {
   "cell_type": "markdown",
   "id": "2b430fbd",
   "metadata": {},
   "source": [
    "### 2.Write a program to implement NLP based upon spacy. "
   ]
  },
  {
   "cell_type": "code",
   "execution_count": 1,
   "id": "3abb4da9",
   "metadata": {},
   "outputs": [],
   "source": [
    "# Importing SpaCy library\n",
    "import spacy"
   ]
  },
  {
   "cell_type": "code",
   "execution_count": 2,
   "id": "7a650736",
   "metadata": {},
   "outputs": [
    {
     "name": "stdout",
     "output_type": "stream",
     "text": [
      "Apple ORG\n",
      "U.K. GPE\n",
      "$1 billion MONEY\n"
     ]
    }
   ],
   "source": [
    "# Load the English NLP model\n",
    "nlp = spacy.load(\"en_core_web_sm\")\n",
    "\n",
    "# Sample text for NLP processing\n",
    "text = \"Apple is looking at buying U.K. startup for $1 billion.\"\n",
    "\n",
    "# Process the text with SpaCy\n",
    "doc = nlp(text)\n",
    "\n",
    "# Extracting named entities\n",
    "for ent in doc.ents:\n",
    "    print(ent.text, ent.label_)"
   ]
  },
  {
   "cell_type": "markdown",
   "id": "240fea4f",
   "metadata": {},
   "source": [
    "## Statistics \n",
    "\n",
    "### Difference between descriptive and inferential statistics. Write down at least 10-15 differences."
   ]
  },
  {
   "cell_type": "markdown",
   "id": "ea44eb62",
   "metadata": {},
   "source": [
    "#### Descriptive Statistics:\n",
    "    \n",
    "Summarizes and describes data\n",
    "\n",
    "Deals with complete datasets\t\n",
    "\n",
    "Limited to the data at hand\t\n",
    "\n",
    "Examples of Measures- Mean, median, mode, standard deviation\n",
    "\n",
    "No assumptions about the underlying population\n",
    "\n",
    "Provides a clear summary of the dataset\n",
    "\n",
    "Used for reporting current data\t\n",
    "\n",
    "Involves complete data collection\t\n",
    "\n",
    "Does not account for sampling variability\n",
    "\n",
    "Simple descriptive techniques\t\n",
    "\n",
    "Exact results based on available data\n",
    "\n",
    "High precision as it uses complete data\n",
    "\n",
    "Focuses on what is present in the dataset\n",
    "\n",
    "Direct interpretation of results\t\n",
    "\n",
    "Often used in exploratory research\n",
    "\n",
    "Basic statistical tools suffice"
   ]
  },
  {
   "cell_type": "markdown",
   "id": "5ad5d1c1",
   "metadata": {},
   "source": [
    "#### Inferential Statistics:\n",
    "\n",
    "Makes inferences about a population based on a sample\n",
    "\n",
    "Works with samples drawn from a population\n",
    "\n",
    "Generalizes findings to a larger population\n",
    "\n",
    "Examples of Measures- t-tests, ANOVA, regression analysis\n",
    "\n",
    "Assumes population parameters based on sample data\n",
    "\n",
    "Provides estimates and predictions about population\n",
    "\n",
    "Used for hypothesis testing and predictions\n",
    "\n",
    "Involves sampling techniques\n",
    "\n",
    "Accounts for variability and uncertainty\n",
    "\n",
    "Complex inferential techniques\n",
    "\n",
    "Probabilistic results that estimate population parameters\n",
    "\n",
    "Lower precision due to reliance on sample data\n",
    "\n",
    "Focuses on what can be inferred about a larger group\n",
    "\n",
    "Requires interpretation of statistical significance\n",
    "\n",
    "Commonly used in confirmatory research\n",
    "\n",
    "Advanced statistical software needed"
   ]
  },
  {
   "cell_type": "code",
   "execution_count": null,
   "id": "d0d6c9c6",
   "metadata": {},
   "outputs": [],
   "source": []
  }
 ],
 "metadata": {
  "kernelspec": {
   "display_name": "spacy_kernel",
   "language": "python",
   "name": "spacy_kernel"
  },
  "language_info": {
   "codemirror_mode": {
    "name": "ipython",
    "version": 3
   },
   "file_extension": ".py",
   "mimetype": "text/x-python",
   "name": "python",
   "nbconvert_exporter": "python",
   "pygments_lexer": "ipython3",
   "version": "3.11.1"
  }
 },
 "nbformat": 4,
 "nbformat_minor": 5
}
