{
 "cells": [
  {
   "cell_type": "code",
   "execution_count": 1,
   "id": "781df016",
   "metadata": {},
   "outputs": [],
   "source": [
    "import numpy as np\n",
    "import pandas as pd\n",
    "import matplotlib.pyplot as plt\n",
    "import seaborn as sns\n",
    "import warnings\n",
    "warnings.filterwarnings('ignore')"
   ]
  },
  {
   "cell_type": "code",
   "execution_count": 2,
   "id": "cc721d19",
   "metadata": {},
   "outputs": [
    {
     "data": {
      "text/html": [
       "<div>\n",
       "<style scoped>\n",
       "    .dataframe tbody tr th:only-of-type {\n",
       "        vertical-align: middle;\n",
       "    }\n",
       "\n",
       "    .dataframe tbody tr th {\n",
       "        vertical-align: top;\n",
       "    }\n",
       "\n",
       "    .dataframe thead th {\n",
       "        text-align: right;\n",
       "    }\n",
       "</style>\n",
       "<table border=\"1\" class=\"dataframe\">\n",
       "  <thead>\n",
       "    <tr style=\"text-align: right;\">\n",
       "      <th></th>\n",
       "      <th>age</th>\n",
       "      <th>workclass</th>\n",
       "      <th>fnlwgt</th>\n",
       "      <th>education</th>\n",
       "      <th>educational-num</th>\n",
       "      <th>marital-status</th>\n",
       "      <th>occupation</th>\n",
       "      <th>relationship</th>\n",
       "      <th>race</th>\n",
       "      <th>gender</th>\n",
       "      <th>capital-gain</th>\n",
       "      <th>capital-loss</th>\n",
       "      <th>hours-per-week</th>\n",
       "      <th>native-country</th>\n",
       "      <th>income</th>\n",
       "    </tr>\n",
       "  </thead>\n",
       "  <tbody>\n",
       "    <tr>\n",
       "      <th>0</th>\n",
       "      <td>25.0</td>\n",
       "      <td>Private</td>\n",
       "      <td>226802</td>\n",
       "      <td>11th</td>\n",
       "      <td>7.0</td>\n",
       "      <td>Never-married</td>\n",
       "      <td>Machine-op-inspct</td>\n",
       "      <td>Own-child</td>\n",
       "      <td>Black</td>\n",
       "      <td>Male</td>\n",
       "      <td>0</td>\n",
       "      <td>0</td>\n",
       "      <td>40.0</td>\n",
       "      <td>United-States</td>\n",
       "      <td>&lt;=50K</td>\n",
       "    </tr>\n",
       "    <tr>\n",
       "      <th>1</th>\n",
       "      <td>38.0</td>\n",
       "      <td>Private</td>\n",
       "      <td>89814</td>\n",
       "      <td>HS-grad</td>\n",
       "      <td>9.0</td>\n",
       "      <td>Married-civ-spouse</td>\n",
       "      <td>Farming-fishing</td>\n",
       "      <td>Husband</td>\n",
       "      <td>White</td>\n",
       "      <td>Male</td>\n",
       "      <td>0</td>\n",
       "      <td>0</td>\n",
       "      <td>50.0</td>\n",
       "      <td>United-States</td>\n",
       "      <td>&lt;=50K</td>\n",
       "    </tr>\n",
       "    <tr>\n",
       "      <th>2</th>\n",
       "      <td>28.0</td>\n",
       "      <td>Local-gov</td>\n",
       "      <td>336951</td>\n",
       "      <td>Assoc-acdm</td>\n",
       "      <td>12.0</td>\n",
       "      <td>Married-civ-spouse</td>\n",
       "      <td>Protective-serv</td>\n",
       "      <td>Husband</td>\n",
       "      <td>White</td>\n",
       "      <td>Male</td>\n",
       "      <td>0</td>\n",
       "      <td>0</td>\n",
       "      <td>40.0</td>\n",
       "      <td>United-States</td>\n",
       "      <td>&gt;50K</td>\n",
       "    </tr>\n",
       "    <tr>\n",
       "      <th>3</th>\n",
       "      <td>44.0</td>\n",
       "      <td>Private</td>\n",
       "      <td>160323</td>\n",
       "      <td>Some-college</td>\n",
       "      <td>10.0</td>\n",
       "      <td>Married-civ-spouse</td>\n",
       "      <td>Machine-op-inspct</td>\n",
       "      <td>Husband</td>\n",
       "      <td>Black</td>\n",
       "      <td>Male</td>\n",
       "      <td>7688</td>\n",
       "      <td>0</td>\n",
       "      <td>40.0</td>\n",
       "      <td>United-States</td>\n",
       "      <td>&gt;50K</td>\n",
       "    </tr>\n",
       "    <tr>\n",
       "      <th>4</th>\n",
       "      <td>18.0</td>\n",
       "      <td>?</td>\n",
       "      <td>103497</td>\n",
       "      <td>Some-college</td>\n",
       "      <td>10.0</td>\n",
       "      <td>Never-married</td>\n",
       "      <td>?</td>\n",
       "      <td>Own-child</td>\n",
       "      <td>White</td>\n",
       "      <td>Female</td>\n",
       "      <td>0</td>\n",
       "      <td>0</td>\n",
       "      <td>30.0</td>\n",
       "      <td>United-States</td>\n",
       "      <td>&lt;=50K</td>\n",
       "    </tr>\n",
       "    <tr>\n",
       "      <th>...</th>\n",
       "      <td>...</td>\n",
       "      <td>...</td>\n",
       "      <td>...</td>\n",
       "      <td>...</td>\n",
       "      <td>...</td>\n",
       "      <td>...</td>\n",
       "      <td>...</td>\n",
       "      <td>...</td>\n",
       "      <td>...</td>\n",
       "      <td>...</td>\n",
       "      <td>...</td>\n",
       "      <td>...</td>\n",
       "      <td>...</td>\n",
       "      <td>...</td>\n",
       "      <td>...</td>\n",
       "    </tr>\n",
       "    <tr>\n",
       "      <th>48837</th>\n",
       "      <td>27.0</td>\n",
       "      <td>Private</td>\n",
       "      <td>257302</td>\n",
       "      <td>Assoc-acdm</td>\n",
       "      <td>12.0</td>\n",
       "      <td>Married-civ-spouse</td>\n",
       "      <td>Tech-support</td>\n",
       "      <td>Wife</td>\n",
       "      <td>White</td>\n",
       "      <td>Female</td>\n",
       "      <td>0</td>\n",
       "      <td>0</td>\n",
       "      <td>38.0</td>\n",
       "      <td>United-States</td>\n",
       "      <td>&lt;=50K</td>\n",
       "    </tr>\n",
       "    <tr>\n",
       "      <th>48838</th>\n",
       "      <td>40.0</td>\n",
       "      <td>Private</td>\n",
       "      <td>154374</td>\n",
       "      <td>HS-grad</td>\n",
       "      <td>9.0</td>\n",
       "      <td>Married-civ-spouse</td>\n",
       "      <td>Machine-op-inspct</td>\n",
       "      <td>Husband</td>\n",
       "      <td>White</td>\n",
       "      <td>Male</td>\n",
       "      <td>0</td>\n",
       "      <td>0</td>\n",
       "      <td>40.0</td>\n",
       "      <td>United-States</td>\n",
       "      <td>&gt;50K</td>\n",
       "    </tr>\n",
       "    <tr>\n",
       "      <th>48839</th>\n",
       "      <td>58.0</td>\n",
       "      <td>Private</td>\n",
       "      <td>151910</td>\n",
       "      <td>HS-grad</td>\n",
       "      <td>9.0</td>\n",
       "      <td>Widowed</td>\n",
       "      <td>Adm-clerical</td>\n",
       "      <td>Unmarried</td>\n",
       "      <td>White</td>\n",
       "      <td>Female</td>\n",
       "      <td>0</td>\n",
       "      <td>0</td>\n",
       "      <td>40.0</td>\n",
       "      <td>United-States</td>\n",
       "      <td>&lt;=50K</td>\n",
       "    </tr>\n",
       "    <tr>\n",
       "      <th>48840</th>\n",
       "      <td>22.0</td>\n",
       "      <td>Private</td>\n",
       "      <td>201490</td>\n",
       "      <td>HS-grad</td>\n",
       "      <td>9.0</td>\n",
       "      <td>Never-married</td>\n",
       "      <td>Adm-clerical</td>\n",
       "      <td>Own-child</td>\n",
       "      <td>White</td>\n",
       "      <td>Male</td>\n",
       "      <td>0</td>\n",
       "      <td>0</td>\n",
       "      <td>20.0</td>\n",
       "      <td>United-States</td>\n",
       "      <td>&lt;=50K</td>\n",
       "    </tr>\n",
       "    <tr>\n",
       "      <th>48841</th>\n",
       "      <td>52.0</td>\n",
       "      <td>Self-emp-inc</td>\n",
       "      <td>287927</td>\n",
       "      <td>HS-grad</td>\n",
       "      <td>9.0</td>\n",
       "      <td>Married-civ-spouse</td>\n",
       "      <td>Exec-managerial</td>\n",
       "      <td>Wife</td>\n",
       "      <td>White</td>\n",
       "      <td>Female</td>\n",
       "      <td>15024</td>\n",
       "      <td>0</td>\n",
       "      <td>40.0</td>\n",
       "      <td>United-States</td>\n",
       "      <td>&gt;50K</td>\n",
       "    </tr>\n",
       "  </tbody>\n",
       "</table>\n",
       "<p>48842 rows × 15 columns</p>\n",
       "</div>"
      ],
      "text/plain": [
       "        age     workclass  fnlwgt     education  educational-num  \\\n",
       "0      25.0       Private  226802          11th              7.0   \n",
       "1      38.0       Private   89814       HS-grad              9.0   \n",
       "2      28.0     Local-gov  336951    Assoc-acdm             12.0   \n",
       "3      44.0       Private  160323  Some-college             10.0   \n",
       "4      18.0             ?  103497  Some-college             10.0   \n",
       "...     ...           ...     ...           ...              ...   \n",
       "48837  27.0       Private  257302    Assoc-acdm             12.0   \n",
       "48838  40.0       Private  154374       HS-grad              9.0   \n",
       "48839  58.0       Private  151910       HS-grad              9.0   \n",
       "48840  22.0       Private  201490       HS-grad              9.0   \n",
       "48841  52.0  Self-emp-inc  287927       HS-grad              9.0   \n",
       "\n",
       "           marital-status         occupation relationship   race  gender  \\\n",
       "0           Never-married  Machine-op-inspct    Own-child  Black    Male   \n",
       "1      Married-civ-spouse    Farming-fishing      Husband  White    Male   \n",
       "2      Married-civ-spouse    Protective-serv      Husband  White    Male   \n",
       "3      Married-civ-spouse  Machine-op-inspct      Husband  Black    Male   \n",
       "4           Never-married                  ?    Own-child  White  Female   \n",
       "...                   ...                ...          ...    ...     ...   \n",
       "48837  Married-civ-spouse       Tech-support         Wife  White  Female   \n",
       "48838  Married-civ-spouse  Machine-op-inspct      Husband  White    Male   \n",
       "48839             Widowed       Adm-clerical    Unmarried  White  Female   \n",
       "48840       Never-married       Adm-clerical    Own-child  White    Male   \n",
       "48841  Married-civ-spouse    Exec-managerial         Wife  White  Female   \n",
       "\n",
       "       capital-gain  capital-loss  hours-per-week native-country income  \n",
       "0                 0             0            40.0  United-States  <=50K  \n",
       "1                 0             0            50.0  United-States  <=50K  \n",
       "2                 0             0            40.0  United-States   >50K  \n",
       "3              7688             0            40.0  United-States   >50K  \n",
       "4                 0             0            30.0  United-States  <=50K  \n",
       "...             ...           ...             ...            ...    ...  \n",
       "48837             0             0            38.0  United-States  <=50K  \n",
       "48838             0             0            40.0  United-States   >50K  \n",
       "48839             0             0            40.0  United-States  <=50K  \n",
       "48840             0             0            20.0  United-States  <=50K  \n",
       "48841         15024             0            40.0  United-States   >50K  \n",
       "\n",
       "[48842 rows x 15 columns]"
      ]
     },
     "execution_count": 2,
     "metadata": {},
     "output_type": "execute_result"
    }
   ],
   "source": [
    "df = pd.read_csv('income.csv')\n",
    "df"
   ]
  },
  {
   "cell_type": "code",
   "execution_count": 3,
   "id": "eb49b65a",
   "metadata": {},
   "outputs": [
    {
     "data": {
      "text/html": [
       "<div>\n",
       "<style scoped>\n",
       "    .dataframe tbody tr th:only-of-type {\n",
       "        vertical-align: middle;\n",
       "    }\n",
       "\n",
       "    .dataframe tbody tr th {\n",
       "        vertical-align: top;\n",
       "    }\n",
       "\n",
       "    .dataframe thead th {\n",
       "        text-align: right;\n",
       "    }\n",
       "</style>\n",
       "<table border=\"1\" class=\"dataframe\">\n",
       "  <thead>\n",
       "    <tr style=\"text-align: right;\">\n",
       "      <th></th>\n",
       "      <th>age</th>\n",
       "      <th>workclass</th>\n",
       "      <th>fnlwgt</th>\n",
       "      <th>education</th>\n",
       "      <th>educational-num</th>\n",
       "      <th>marital-status</th>\n",
       "      <th>occupation</th>\n",
       "      <th>relationship</th>\n",
       "      <th>race</th>\n",
       "      <th>gender</th>\n",
       "      <th>capital-gain</th>\n",
       "      <th>capital-loss</th>\n",
       "      <th>hours-per-week</th>\n",
       "      <th>native-country</th>\n",
       "      <th>income</th>\n",
       "    </tr>\n",
       "  </thead>\n",
       "  <tbody>\n",
       "    <tr>\n",
       "      <th>0</th>\n",
       "      <td>25.0</td>\n",
       "      <td>Private</td>\n",
       "      <td>226802</td>\n",
       "      <td>11th</td>\n",
       "      <td>7.0</td>\n",
       "      <td>Never-married</td>\n",
       "      <td>Machine-op-inspct</td>\n",
       "      <td>Own-child</td>\n",
       "      <td>Black</td>\n",
       "      <td>Male</td>\n",
       "      <td>0</td>\n",
       "      <td>0</td>\n",
       "      <td>40.0</td>\n",
       "      <td>United-States</td>\n",
       "      <td>&lt;=50K</td>\n",
       "    </tr>\n",
       "    <tr>\n",
       "      <th>1</th>\n",
       "      <td>38.0</td>\n",
       "      <td>Private</td>\n",
       "      <td>89814</td>\n",
       "      <td>HS-grad</td>\n",
       "      <td>9.0</td>\n",
       "      <td>Married-civ-spouse</td>\n",
       "      <td>Farming-fishing</td>\n",
       "      <td>Husband</td>\n",
       "      <td>White</td>\n",
       "      <td>Male</td>\n",
       "      <td>0</td>\n",
       "      <td>0</td>\n",
       "      <td>50.0</td>\n",
       "      <td>United-States</td>\n",
       "      <td>&lt;=50K</td>\n",
       "    </tr>\n",
       "    <tr>\n",
       "      <th>2</th>\n",
       "      <td>28.0</td>\n",
       "      <td>Local-gov</td>\n",
       "      <td>336951</td>\n",
       "      <td>Assoc-acdm</td>\n",
       "      <td>12.0</td>\n",
       "      <td>Married-civ-spouse</td>\n",
       "      <td>Protective-serv</td>\n",
       "      <td>Husband</td>\n",
       "      <td>White</td>\n",
       "      <td>Male</td>\n",
       "      <td>0</td>\n",
       "      <td>0</td>\n",
       "      <td>40.0</td>\n",
       "      <td>United-States</td>\n",
       "      <td>&gt;50K</td>\n",
       "    </tr>\n",
       "    <tr>\n",
       "      <th>3</th>\n",
       "      <td>44.0</td>\n",
       "      <td>Private</td>\n",
       "      <td>160323</td>\n",
       "      <td>Some-college</td>\n",
       "      <td>10.0</td>\n",
       "      <td>Married-civ-spouse</td>\n",
       "      <td>Machine-op-inspct</td>\n",
       "      <td>Husband</td>\n",
       "      <td>Black</td>\n",
       "      <td>Male</td>\n",
       "      <td>7688</td>\n",
       "      <td>0</td>\n",
       "      <td>40.0</td>\n",
       "      <td>United-States</td>\n",
       "      <td>&gt;50K</td>\n",
       "    </tr>\n",
       "    <tr>\n",
       "      <th>4</th>\n",
       "      <td>18.0</td>\n",
       "      <td>?</td>\n",
       "      <td>103497</td>\n",
       "      <td>Some-college</td>\n",
       "      <td>10.0</td>\n",
       "      <td>Never-married</td>\n",
       "      <td>?</td>\n",
       "      <td>Own-child</td>\n",
       "      <td>White</td>\n",
       "      <td>Female</td>\n",
       "      <td>0</td>\n",
       "      <td>0</td>\n",
       "      <td>30.0</td>\n",
       "      <td>United-States</td>\n",
       "      <td>&lt;=50K</td>\n",
       "    </tr>\n",
       "    <tr>\n",
       "      <th>5</th>\n",
       "      <td>34.0</td>\n",
       "      <td>Private</td>\n",
       "      <td>198693</td>\n",
       "      <td>10th</td>\n",
       "      <td>6.0</td>\n",
       "      <td>Never-married</td>\n",
       "      <td>Other-service</td>\n",
       "      <td>Not-in-family</td>\n",
       "      <td>White</td>\n",
       "      <td>Male</td>\n",
       "      <td>0</td>\n",
       "      <td>0</td>\n",
       "      <td>30.0</td>\n",
       "      <td>United-States</td>\n",
       "      <td>&lt;=50K</td>\n",
       "    </tr>\n",
       "    <tr>\n",
       "      <th>6</th>\n",
       "      <td>29.0</td>\n",
       "      <td>?</td>\n",
       "      <td>227026</td>\n",
       "      <td>HS-grad</td>\n",
       "      <td>9.0</td>\n",
       "      <td>Never-married</td>\n",
       "      <td>?</td>\n",
       "      <td>Unmarried</td>\n",
       "      <td>Black</td>\n",
       "      <td>Male</td>\n",
       "      <td>0</td>\n",
       "      <td>0</td>\n",
       "      <td>40.0</td>\n",
       "      <td>United-States</td>\n",
       "      <td>&lt;=50K</td>\n",
       "    </tr>\n",
       "    <tr>\n",
       "      <th>7</th>\n",
       "      <td>63.0</td>\n",
       "      <td>Self-emp-not-inc</td>\n",
       "      <td>104626</td>\n",
       "      <td>Prof-school</td>\n",
       "      <td>15.0</td>\n",
       "      <td>Married-civ-spouse</td>\n",
       "      <td>Prof-specialty</td>\n",
       "      <td>Husband</td>\n",
       "      <td>White</td>\n",
       "      <td>Male</td>\n",
       "      <td>3103</td>\n",
       "      <td>0</td>\n",
       "      <td>32.0</td>\n",
       "      <td>United-States</td>\n",
       "      <td>&gt;50K</td>\n",
       "    </tr>\n",
       "    <tr>\n",
       "      <th>8</th>\n",
       "      <td>24.0</td>\n",
       "      <td>Private</td>\n",
       "      <td>369667</td>\n",
       "      <td>Some-college</td>\n",
       "      <td>10.0</td>\n",
       "      <td>Never-married</td>\n",
       "      <td>Other-service</td>\n",
       "      <td>Unmarried</td>\n",
       "      <td>White</td>\n",
       "      <td>Female</td>\n",
       "      <td>0</td>\n",
       "      <td>0</td>\n",
       "      <td>40.0</td>\n",
       "      <td>United-States</td>\n",
       "      <td>&lt;=50K</td>\n",
       "    </tr>\n",
       "    <tr>\n",
       "      <th>9</th>\n",
       "      <td>55.0</td>\n",
       "      <td>Private</td>\n",
       "      <td>104996</td>\n",
       "      <td>7th-8th</td>\n",
       "      <td>4.0</td>\n",
       "      <td>Married-civ-spouse</td>\n",
       "      <td>Craft-repair</td>\n",
       "      <td>Husband</td>\n",
       "      <td>White</td>\n",
       "      <td>Male</td>\n",
       "      <td>0</td>\n",
       "      <td>0</td>\n",
       "      <td>10.0</td>\n",
       "      <td>United-States</td>\n",
       "      <td>&lt;=50K</td>\n",
       "    </tr>\n",
       "  </tbody>\n",
       "</table>\n",
       "</div>"
      ],
      "text/plain": [
       "    age         workclass  fnlwgt     education  educational-num  \\\n",
       "0  25.0           Private  226802          11th              7.0   \n",
       "1  38.0           Private   89814       HS-grad              9.0   \n",
       "2  28.0         Local-gov  336951    Assoc-acdm             12.0   \n",
       "3  44.0           Private  160323  Some-college             10.0   \n",
       "4  18.0                 ?  103497  Some-college             10.0   \n",
       "5  34.0           Private  198693          10th              6.0   \n",
       "6  29.0                 ?  227026       HS-grad              9.0   \n",
       "7  63.0  Self-emp-not-inc  104626   Prof-school             15.0   \n",
       "8  24.0           Private  369667  Some-college             10.0   \n",
       "9  55.0           Private  104996       7th-8th              4.0   \n",
       "\n",
       "       marital-status         occupation   relationship   race  gender  \\\n",
       "0       Never-married  Machine-op-inspct      Own-child  Black    Male   \n",
       "1  Married-civ-spouse    Farming-fishing        Husband  White    Male   \n",
       "2  Married-civ-spouse    Protective-serv        Husband  White    Male   \n",
       "3  Married-civ-spouse  Machine-op-inspct        Husband  Black    Male   \n",
       "4       Never-married                  ?      Own-child  White  Female   \n",
       "5       Never-married      Other-service  Not-in-family  White    Male   \n",
       "6       Never-married                  ?      Unmarried  Black    Male   \n",
       "7  Married-civ-spouse     Prof-specialty        Husband  White    Male   \n",
       "8       Never-married      Other-service      Unmarried  White  Female   \n",
       "9  Married-civ-spouse       Craft-repair        Husband  White    Male   \n",
       "\n",
       "   capital-gain  capital-loss  hours-per-week native-country income  \n",
       "0             0             0            40.0  United-States  <=50K  \n",
       "1             0             0            50.0  United-States  <=50K  \n",
       "2             0             0            40.0  United-States   >50K  \n",
       "3          7688             0            40.0  United-States   >50K  \n",
       "4             0             0            30.0  United-States  <=50K  \n",
       "5             0             0            30.0  United-States  <=50K  \n",
       "6             0             0            40.0  United-States  <=50K  \n",
       "7          3103             0            32.0  United-States   >50K  \n",
       "8             0             0            40.0  United-States  <=50K  \n",
       "9             0             0            10.0  United-States  <=50K  "
      ]
     },
     "execution_count": 3,
     "metadata": {},
     "output_type": "execute_result"
    }
   ],
   "source": [
    "df.head(10)"
   ]
  },
  {
   "cell_type": "code",
   "execution_count": 4,
   "id": "324105d5",
   "metadata": {},
   "outputs": [
    {
     "data": {
      "text/html": [
       "<div>\n",
       "<style scoped>\n",
       "    .dataframe tbody tr th:only-of-type {\n",
       "        vertical-align: middle;\n",
       "    }\n",
       "\n",
       "    .dataframe tbody tr th {\n",
       "        vertical-align: top;\n",
       "    }\n",
       "\n",
       "    .dataframe thead th {\n",
       "        text-align: right;\n",
       "    }\n",
       "</style>\n",
       "<table border=\"1\" class=\"dataframe\">\n",
       "  <thead>\n",
       "    <tr style=\"text-align: right;\">\n",
       "      <th></th>\n",
       "      <th>age</th>\n",
       "      <th>workclass</th>\n",
       "      <th>fnlwgt</th>\n",
       "      <th>education</th>\n",
       "      <th>educational-num</th>\n",
       "      <th>marital-status</th>\n",
       "      <th>occupation</th>\n",
       "      <th>relationship</th>\n",
       "      <th>race</th>\n",
       "      <th>gender</th>\n",
       "      <th>capital-gain</th>\n",
       "      <th>capital-loss</th>\n",
       "      <th>hours-per-week</th>\n",
       "      <th>native-country</th>\n",
       "      <th>income</th>\n",
       "    </tr>\n",
       "  </thead>\n",
       "  <tbody>\n",
       "    <tr>\n",
       "      <th>48832</th>\n",
       "      <td>32.0</td>\n",
       "      <td>Private</td>\n",
       "      <td>34066</td>\n",
       "      <td>10th</td>\n",
       "      <td>6.0</td>\n",
       "      <td>Married-civ-spouse</td>\n",
       "      <td>Handlers-cleaners</td>\n",
       "      <td>Husband</td>\n",
       "      <td>Amer-Indian-Eskimo</td>\n",
       "      <td>Male</td>\n",
       "      <td>0</td>\n",
       "      <td>0</td>\n",
       "      <td>40.0</td>\n",
       "      <td>United-States</td>\n",
       "      <td>&lt;=50K</td>\n",
       "    </tr>\n",
       "    <tr>\n",
       "      <th>48833</th>\n",
       "      <td>43.0</td>\n",
       "      <td>Private</td>\n",
       "      <td>84661</td>\n",
       "      <td>Assoc-voc</td>\n",
       "      <td>11.0</td>\n",
       "      <td>Married-civ-spouse</td>\n",
       "      <td>Sales</td>\n",
       "      <td>Husband</td>\n",
       "      <td>White</td>\n",
       "      <td>Male</td>\n",
       "      <td>0</td>\n",
       "      <td>0</td>\n",
       "      <td>45.0</td>\n",
       "      <td>United-States</td>\n",
       "      <td>&lt;=50K</td>\n",
       "    </tr>\n",
       "    <tr>\n",
       "      <th>48834</th>\n",
       "      <td>32.0</td>\n",
       "      <td>Private</td>\n",
       "      <td>116138</td>\n",
       "      <td>Masters</td>\n",
       "      <td>14.0</td>\n",
       "      <td>Never-married</td>\n",
       "      <td>Tech-support</td>\n",
       "      <td>Not-in-family</td>\n",
       "      <td>Asian-Pac-Islander</td>\n",
       "      <td>Male</td>\n",
       "      <td>0</td>\n",
       "      <td>0</td>\n",
       "      <td>11.0</td>\n",
       "      <td>Taiwan</td>\n",
       "      <td>&lt;=50K</td>\n",
       "    </tr>\n",
       "    <tr>\n",
       "      <th>48835</th>\n",
       "      <td>53.0</td>\n",
       "      <td>Private</td>\n",
       "      <td>321865</td>\n",
       "      <td>Masters</td>\n",
       "      <td>14.0</td>\n",
       "      <td>Married-civ-spouse</td>\n",
       "      <td>Exec-managerial</td>\n",
       "      <td>Husband</td>\n",
       "      <td>White</td>\n",
       "      <td>Male</td>\n",
       "      <td>0</td>\n",
       "      <td>0</td>\n",
       "      <td>40.0</td>\n",
       "      <td>United-States</td>\n",
       "      <td>&gt;50K</td>\n",
       "    </tr>\n",
       "    <tr>\n",
       "      <th>48836</th>\n",
       "      <td>22.0</td>\n",
       "      <td>Private</td>\n",
       "      <td>310152</td>\n",
       "      <td>Some-college</td>\n",
       "      <td>10.0</td>\n",
       "      <td>Never-married</td>\n",
       "      <td>Protective-serv</td>\n",
       "      <td>Not-in-family</td>\n",
       "      <td>White</td>\n",
       "      <td>Male</td>\n",
       "      <td>0</td>\n",
       "      <td>0</td>\n",
       "      <td>40.0</td>\n",
       "      <td>United-States</td>\n",
       "      <td>&lt;=50K</td>\n",
       "    </tr>\n",
       "    <tr>\n",
       "      <th>48837</th>\n",
       "      <td>27.0</td>\n",
       "      <td>Private</td>\n",
       "      <td>257302</td>\n",
       "      <td>Assoc-acdm</td>\n",
       "      <td>12.0</td>\n",
       "      <td>Married-civ-spouse</td>\n",
       "      <td>Tech-support</td>\n",
       "      <td>Wife</td>\n",
       "      <td>White</td>\n",
       "      <td>Female</td>\n",
       "      <td>0</td>\n",
       "      <td>0</td>\n",
       "      <td>38.0</td>\n",
       "      <td>United-States</td>\n",
       "      <td>&lt;=50K</td>\n",
       "    </tr>\n",
       "    <tr>\n",
       "      <th>48838</th>\n",
       "      <td>40.0</td>\n",
       "      <td>Private</td>\n",
       "      <td>154374</td>\n",
       "      <td>HS-grad</td>\n",
       "      <td>9.0</td>\n",
       "      <td>Married-civ-spouse</td>\n",
       "      <td>Machine-op-inspct</td>\n",
       "      <td>Husband</td>\n",
       "      <td>White</td>\n",
       "      <td>Male</td>\n",
       "      <td>0</td>\n",
       "      <td>0</td>\n",
       "      <td>40.0</td>\n",
       "      <td>United-States</td>\n",
       "      <td>&gt;50K</td>\n",
       "    </tr>\n",
       "    <tr>\n",
       "      <th>48839</th>\n",
       "      <td>58.0</td>\n",
       "      <td>Private</td>\n",
       "      <td>151910</td>\n",
       "      <td>HS-grad</td>\n",
       "      <td>9.0</td>\n",
       "      <td>Widowed</td>\n",
       "      <td>Adm-clerical</td>\n",
       "      <td>Unmarried</td>\n",
       "      <td>White</td>\n",
       "      <td>Female</td>\n",
       "      <td>0</td>\n",
       "      <td>0</td>\n",
       "      <td>40.0</td>\n",
       "      <td>United-States</td>\n",
       "      <td>&lt;=50K</td>\n",
       "    </tr>\n",
       "    <tr>\n",
       "      <th>48840</th>\n",
       "      <td>22.0</td>\n",
       "      <td>Private</td>\n",
       "      <td>201490</td>\n",
       "      <td>HS-grad</td>\n",
       "      <td>9.0</td>\n",
       "      <td>Never-married</td>\n",
       "      <td>Adm-clerical</td>\n",
       "      <td>Own-child</td>\n",
       "      <td>White</td>\n",
       "      <td>Male</td>\n",
       "      <td>0</td>\n",
       "      <td>0</td>\n",
       "      <td>20.0</td>\n",
       "      <td>United-States</td>\n",
       "      <td>&lt;=50K</td>\n",
       "    </tr>\n",
       "    <tr>\n",
       "      <th>48841</th>\n",
       "      <td>52.0</td>\n",
       "      <td>Self-emp-inc</td>\n",
       "      <td>287927</td>\n",
       "      <td>HS-grad</td>\n",
       "      <td>9.0</td>\n",
       "      <td>Married-civ-spouse</td>\n",
       "      <td>Exec-managerial</td>\n",
       "      <td>Wife</td>\n",
       "      <td>White</td>\n",
       "      <td>Female</td>\n",
       "      <td>15024</td>\n",
       "      <td>0</td>\n",
       "      <td>40.0</td>\n",
       "      <td>United-States</td>\n",
       "      <td>&gt;50K</td>\n",
       "    </tr>\n",
       "  </tbody>\n",
       "</table>\n",
       "</div>"
      ],
      "text/plain": [
       "        age     workclass  fnlwgt     education  educational-num  \\\n",
       "48832  32.0       Private   34066          10th              6.0   \n",
       "48833  43.0       Private   84661     Assoc-voc             11.0   \n",
       "48834  32.0       Private  116138       Masters             14.0   \n",
       "48835  53.0       Private  321865       Masters             14.0   \n",
       "48836  22.0       Private  310152  Some-college             10.0   \n",
       "48837  27.0       Private  257302    Assoc-acdm             12.0   \n",
       "48838  40.0       Private  154374       HS-grad              9.0   \n",
       "48839  58.0       Private  151910       HS-grad              9.0   \n",
       "48840  22.0       Private  201490       HS-grad              9.0   \n",
       "48841  52.0  Self-emp-inc  287927       HS-grad              9.0   \n",
       "\n",
       "           marital-status         occupation   relationship  \\\n",
       "48832  Married-civ-spouse  Handlers-cleaners        Husband   \n",
       "48833  Married-civ-spouse              Sales        Husband   \n",
       "48834       Never-married       Tech-support  Not-in-family   \n",
       "48835  Married-civ-spouse    Exec-managerial        Husband   \n",
       "48836       Never-married    Protective-serv  Not-in-family   \n",
       "48837  Married-civ-spouse       Tech-support           Wife   \n",
       "48838  Married-civ-spouse  Machine-op-inspct        Husband   \n",
       "48839             Widowed       Adm-clerical      Unmarried   \n",
       "48840       Never-married       Adm-clerical      Own-child   \n",
       "48841  Married-civ-spouse    Exec-managerial           Wife   \n",
       "\n",
       "                     race  gender  capital-gain  capital-loss  hours-per-week  \\\n",
       "48832  Amer-Indian-Eskimo    Male             0             0            40.0   \n",
       "48833               White    Male             0             0            45.0   \n",
       "48834  Asian-Pac-Islander    Male             0             0            11.0   \n",
       "48835               White    Male             0             0            40.0   \n",
       "48836               White    Male             0             0            40.0   \n",
       "48837               White  Female             0             0            38.0   \n",
       "48838               White    Male             0             0            40.0   \n",
       "48839               White  Female             0             0            40.0   \n",
       "48840               White    Male             0             0            20.0   \n",
       "48841               White  Female         15024             0            40.0   \n",
       "\n",
       "      native-country income  \n",
       "48832  United-States  <=50K  \n",
       "48833  United-States  <=50K  \n",
       "48834         Taiwan  <=50K  \n",
       "48835  United-States   >50K  \n",
       "48836  United-States  <=50K  \n",
       "48837  United-States  <=50K  \n",
       "48838  United-States   >50K  \n",
       "48839  United-States  <=50K  \n",
       "48840  United-States  <=50K  \n",
       "48841  United-States   >50K  "
      ]
     },
     "execution_count": 4,
     "metadata": {},
     "output_type": "execute_result"
    }
   ],
   "source": [
    "df.tail(10)"
   ]
  },
  {
   "cell_type": "code",
   "execution_count": 1,
   "id": "aca110f2",
   "metadata": {},
   "outputs": [
    {
     "ename": "NameError",
     "evalue": "name 'df' is not defined",
     "output_type": "error",
     "traceback": [
      "\u001b[1;31m---------------------------------------------------------------------------\u001b[0m",
      "\u001b[1;31mNameError\u001b[0m                                 Traceback (most recent call last)",
      "\u001b[1;32m~\\AppData\\Local\\Temp\\ipykernel_1780\\857714779.py\u001b[0m in \u001b[0;36m<module>\u001b[1;34m\u001b[0m\n\u001b[1;32m----> 1\u001b[1;33m \u001b[0mdf\u001b[0m\u001b[1;33m.\u001b[0m\u001b[0mshape\u001b[0m\u001b[1;33m\u001b[0m\u001b[1;33m\u001b[0m\u001b[0m\n\u001b[0m",
      "\u001b[1;31mNameError\u001b[0m: name 'df' is not defined"
     ]
    }
   ],
   "source": [
    "df.shape"
   ]
  },
  {
   "cell_type": "markdown",
   "id": "2792633a",
   "metadata": {},
   "source": [
    "Our Dataset contains 48,842 rows and 15 columns."
   ]
  },
  {
   "cell_type": "code",
   "execution_count": 6,
   "id": "f1e6ccbe",
   "metadata": {},
   "outputs": [
    {
     "name": "stdout",
     "output_type": "stream",
     "text": [
      "<class 'pandas.core.frame.DataFrame'>\n",
      "RangeIndex: 48842 entries, 0 to 48841\n",
      "Data columns (total 15 columns):\n",
      " #   Column           Non-Null Count  Dtype  \n",
      "---  ------           --------------  -----  \n",
      " 0   age              48822 non-null  float64\n",
      " 1   workclass        48842 non-null  object \n",
      " 2   fnlwgt           48842 non-null  int64  \n",
      " 3   education        48842 non-null  object \n",
      " 4   educational-num  48829 non-null  float64\n",
      " 5   marital-status   48842 non-null  object \n",
      " 6   occupation       48842 non-null  object \n",
      " 7   relationship     48836 non-null  object \n",
      " 8   race             48842 non-null  object \n",
      " 9   gender           48842 non-null  object \n",
      " 10  capital-gain     48842 non-null  int64  \n",
      " 11  capital-loss     48842 non-null  int64  \n",
      " 12  hours-per-week   48838 non-null  float64\n",
      " 13  native-country   48842 non-null  object \n",
      " 14  income           48842 non-null  object \n",
      "dtypes: float64(3), int64(3), object(9)\n",
      "memory usage: 5.6+ MB\n"
     ]
    }
   ],
   "source": [
    "df.info()"
   ]
  },
  {
   "cell_type": "code",
   "execution_count": 7,
   "id": "3120314d",
   "metadata": {},
   "outputs": [
    {
     "data": {
      "text/html": [
       "<div>\n",
       "<style scoped>\n",
       "    .dataframe tbody tr th:only-of-type {\n",
       "        vertical-align: middle;\n",
       "    }\n",
       "\n",
       "    .dataframe tbody tr th {\n",
       "        vertical-align: top;\n",
       "    }\n",
       "\n",
       "    .dataframe thead th {\n",
       "        text-align: right;\n",
       "    }\n",
       "</style>\n",
       "<table border=\"1\" class=\"dataframe\">\n",
       "  <thead>\n",
       "    <tr style=\"text-align: right;\">\n",
       "      <th></th>\n",
       "      <th>age</th>\n",
       "      <th>fnlwgt</th>\n",
       "      <th>educational-num</th>\n",
       "      <th>capital-gain</th>\n",
       "      <th>capital-loss</th>\n",
       "      <th>hours-per-week</th>\n",
       "    </tr>\n",
       "  </thead>\n",
       "  <tbody>\n",
       "    <tr>\n",
       "      <th>count</th>\n",
       "      <td>48822.000000</td>\n",
       "      <td>4.884200e+04</td>\n",
       "      <td>48829.000000</td>\n",
       "      <td>48842.000000</td>\n",
       "      <td>48842.000000</td>\n",
       "      <td>48838.000000</td>\n",
       "    </tr>\n",
       "    <tr>\n",
       "      <th>mean</th>\n",
       "      <td>38.643153</td>\n",
       "      <td>1.896641e+05</td>\n",
       "      <td>10.078294</td>\n",
       "      <td>1079.067626</td>\n",
       "      <td>87.502314</td>\n",
       "      <td>40.422826</td>\n",
       "    </tr>\n",
       "    <tr>\n",
       "      <th>std</th>\n",
       "      <td>13.709941</td>\n",
       "      <td>1.056040e+05</td>\n",
       "      <td>2.570986</td>\n",
       "      <td>7452.019058</td>\n",
       "      <td>403.004552</td>\n",
       "      <td>12.391606</td>\n",
       "    </tr>\n",
       "    <tr>\n",
       "      <th>min</th>\n",
       "      <td>17.000000</td>\n",
       "      <td>1.228500e+04</td>\n",
       "      <td>1.000000</td>\n",
       "      <td>0.000000</td>\n",
       "      <td>0.000000</td>\n",
       "      <td>1.000000</td>\n",
       "    </tr>\n",
       "    <tr>\n",
       "      <th>25%</th>\n",
       "      <td>28.000000</td>\n",
       "      <td>1.175505e+05</td>\n",
       "      <td>9.000000</td>\n",
       "      <td>0.000000</td>\n",
       "      <td>0.000000</td>\n",
       "      <td>40.000000</td>\n",
       "    </tr>\n",
       "    <tr>\n",
       "      <th>50%</th>\n",
       "      <td>37.000000</td>\n",
       "      <td>1.781445e+05</td>\n",
       "      <td>10.000000</td>\n",
       "      <td>0.000000</td>\n",
       "      <td>0.000000</td>\n",
       "      <td>40.000000</td>\n",
       "    </tr>\n",
       "    <tr>\n",
       "      <th>75%</th>\n",
       "      <td>48.000000</td>\n",
       "      <td>2.376420e+05</td>\n",
       "      <td>12.000000</td>\n",
       "      <td>0.000000</td>\n",
       "      <td>0.000000</td>\n",
       "      <td>45.000000</td>\n",
       "    </tr>\n",
       "    <tr>\n",
       "      <th>max</th>\n",
       "      <td>90.000000</td>\n",
       "      <td>1.490400e+06</td>\n",
       "      <td>16.000000</td>\n",
       "      <td>99999.000000</td>\n",
       "      <td>4356.000000</td>\n",
       "      <td>99.000000</td>\n",
       "    </tr>\n",
       "  </tbody>\n",
       "</table>\n",
       "</div>"
      ],
      "text/plain": [
       "                age        fnlwgt  educational-num  capital-gain  \\\n",
       "count  48822.000000  4.884200e+04     48829.000000  48842.000000   \n",
       "mean      38.643153  1.896641e+05        10.078294   1079.067626   \n",
       "std       13.709941  1.056040e+05         2.570986   7452.019058   \n",
       "min       17.000000  1.228500e+04         1.000000      0.000000   \n",
       "25%       28.000000  1.175505e+05         9.000000      0.000000   \n",
       "50%       37.000000  1.781445e+05        10.000000      0.000000   \n",
       "75%       48.000000  2.376420e+05        12.000000      0.000000   \n",
       "max       90.000000  1.490400e+06        16.000000  99999.000000   \n",
       "\n",
       "       capital-loss  hours-per-week  \n",
       "count  48842.000000    48838.000000  \n",
       "mean      87.502314       40.422826  \n",
       "std      403.004552       12.391606  \n",
       "min        0.000000        1.000000  \n",
       "25%        0.000000       40.000000  \n",
       "50%        0.000000       40.000000  \n",
       "75%        0.000000       45.000000  \n",
       "max     4356.000000       99.000000  "
      ]
     },
     "execution_count": 7,
     "metadata": {},
     "output_type": "execute_result"
    }
   ],
   "source": [
    "df.describe()"
   ]
  },
  {
   "cell_type": "markdown",
   "id": "08b4cc86",
   "metadata": {},
   "source": [
    "### Check Null values, outliers and duplicate data and perform data cleaning"
   ]
  },
  {
   "cell_type": "code",
   "execution_count": 8,
   "id": "ce010d09",
   "metadata": {},
   "outputs": [
    {
     "data": {
      "text/plain": [
       "age                20\n",
       "workclass           0\n",
       "fnlwgt              0\n",
       "education           0\n",
       "educational-num    13\n",
       "marital-status      0\n",
       "occupation          0\n",
       "relationship        6\n",
       "race                0\n",
       "gender              0\n",
       "capital-gain        0\n",
       "capital-loss        0\n",
       "hours-per-week      4\n",
       "native-country      0\n",
       "income              0\n",
       "dtype: int64"
      ]
     },
     "execution_count": 8,
     "metadata": {},
     "output_type": "execute_result"
    }
   ],
   "source": [
    "df.isnull().sum()"
   ]
  },
  {
   "cell_type": "code",
   "execution_count": 9,
   "id": "82d6c042",
   "metadata": {},
   "outputs": [
    {
     "name": "stdout",
     "output_type": "stream",
     "text": [
      "[48, 91, 107, 110, 150, 177, 207, 312, 351, 390, 426, 513, 39524, 39531, 39541, 39567, 39573, 39584, 39678, 39690]\n"
     ]
    }
   ],
   "source": [
    "print(df[df['age'].isnull()].index.tolist())"
   ]
  },
  {
   "cell_type": "code",
   "execution_count": 10,
   "id": "46bbf7b1",
   "metadata": {},
   "outputs": [],
   "source": [
    "df = df.fillna({'age': df['age'].mean()})"
   ]
  },
  {
   "cell_type": "code",
   "execution_count": 11,
   "id": "59fb86fc",
   "metadata": {},
   "outputs": [
    {
     "data": {
      "text/plain": [
       "array(['Private', 'Local-gov', '?', 'Self-emp-not-inc', 'Federal-gov',\n",
       "       'State-gov', 'Self-emp-inc', 'Without-pay', 'Never-worked'],\n",
       "      dtype=object)"
      ]
     },
     "execution_count": 11,
     "metadata": {},
     "output_type": "execute_result"
    }
   ],
   "source": [
    "df.workclass.unique()"
   ]
  },
  {
   "cell_type": "code",
   "execution_count": 12,
   "id": "efa68867",
   "metadata": {
    "scrolled": true
   },
   "outputs": [
    {
     "name": "stdout",
     "output_type": "stream",
     "text": [
      "[4, 6, 13, 22, 35, 75, 89, 100, 113, 132, 182, 185, 193, 228, 229, 245, 266, 268, 274, 316, 331, 350, 378, 394, 397, 413, 429, 434, 437, 470, 505, 516, 563, 604, 612, 626, 637, 640, 641, 647, 657, 664, 693, 703, 717, 728, 765, 768, 781, 816, 873, 880, 913, 915, 926, 933, 960, 981, 1000, 1002, 1005, 1009, 1018, 1029, 1043, 1048, 1063, 1120, 1127, 1130, 1142, 1156, 1167, 1169, 1177, 1197, 1205, 1241, 1251, 1258, 1259, 1285, 1306, 1338, 1362, 1367, 1377, 1395, 1417, 1427, 1438, 1465, 1480, 1522, 1524, 1535, 1560, 1593, 1595, 1606, 1607, 1612, 1625, 1626, 1641, 1665, 1681, 1700, 1733, 1746, 1750, 1774, 1778, 1780, 1787, 1791, 1801, 1813, 1828, 1832, 1834, 1837, 1863, 1866, 1893, 1939, 1944, 1955, 1982, 2023, 2042, 2055, 2088, 2092, 2117, 2122, 2160, 2163, 2201, 2228, 2255, 2281, 2323, 2333, 2364, 2410, 2415, 2416, 2438, 2447, 2492, 2494, 2498, 2507, 2510, 2531, 2536, 2539, 2547, 2556, 2579, 2584, 2593, 2612, 2634, 2642, 2650, 2651, 2655, 2666, 2721, 2760, 2774, 2775, 2778, 2797, 2804, 2808, 2848, 2902, 2920, 2955, 2965, 2995, 3004, 3018, 3024, 3037, 3067, 3074, 3083, 3090, 3102, 3130, 3143, 3200, 3206, 3216, 3219, 3228, 3232, 3237, 3259, 3288, 3297, 3313, 3407, 3413, 3421, 3431, 3479, 3492, 3540, 3569, 3638, 3669, 3671, 3690, 3698, 3725, 3744, 3746, 3757, 3816, 3853, 3859, 3867, 3870, 3882, 3920, 3963, 3977, 3982, 3994, 3997, 4003, 4005, 4017, 4043, 4055, 4058, 4067, 4081, 4108, 4117, 4136, 4148, 4155, 4176, 4216, 4221, 4227, 4230, 4233, 4238, 4241, 4259, 4265, 4270, 4274, 4281, 4297, 4304, 4321, 4330, 4350, 4372, 4440, 4455, 4467, 4483, 4486, 4519, 4575, 4585, 4597, 4610, 4624, 4640, 4641, 4646, 4661, 4662, 4668, 4708, 4728, 4744, 4745, 4748, 4753, 4759, 4776, 4777, 4783, 4788, 4802, 4821, 4823, 4840, 4843, 4846, 4858, 4861, 4870, 4885, 4898, 4927, 4934, 4935, 4946, 4959, 4984, 4989, 4995, 4998, 5023, 5046, 5052, 5066, 5078, 5087, 5108, 5109, 5134, 5145, 5146, 5164, 5174, 5181, 5227, 5245, 5256, 5289, 5329, 5348, 5360, 5372, 5373, 5379, 5391, 5400, 5425, 5434, 5470, 5473, 5476, 5486, 5515, 5518, 5530, 5532, 5536, 5573, 5583, 5587, 5623, 5635, 5646, 5649, 5681, 5682, 5701, 5714, 5726, 5732, 5735, 5746, 5783, 5816, 5824, 5838, 5885, 5888, 5896, 5900, 5936, 5952, 5957, 5972, 5990, 5991, 6050, 6064, 6082, 6095, 6099, 6130, 6152, 6186, 6219, 6221, 6231, 6232, 6250, 6265, 6320, 6325, 6334, 6365, 6384, 6385, 6398, 6432, 6433, 6491, 6499, 6508, 6525, 6611, 6613, 6614, 6623, 6642, 6648, 6660, 6673, 6684, 6751, 6766, 6783, 6790, 6800, 6805, 6839, 6841, 6869, 6874, 6884, 6917, 6928, 6941, 6992, 7066, 7071, 7138, 7141, 7152, 7169, 7170, 7223, 7231, 7251, 7263, 7266, 7270, 7303, 7374, 7425, 7435, 7444, 7456, 7480, 7511, 7529, 7534, 7539, 7558, 7561, 7566, 7610, 7620, 7623, 7633, 7640, 7647, 7723, 7724, 7734, 7771, 7775, 7785, 7793, 7799, 7811, 7828, 7871, 7882, 7892, 7895, 7900, 7923, 7924, 7926, 7947, 7970, 8018, 8023, 8027, 8041, 8079, 8103, 8104, 8111, 8115, 8116, 8122, 8161, 8183, 8189, 8203, 8206, 8223, 8231, 8234, 8246, 8248, 8250, 8258, 8284, 8289, 8290, 8337, 8341, 8346, 8383, 8584, 8611, 8626, 8635, 8648, 8660, 8667, 8681, 8694, 8702, 8710, 8713, 8721, 8753, 8760, 8763, 8794, 8803, 8836, 8837, 8839, 8851, 8869, 8875, 8900, 8916, 8921, 8953, 8988, 9030, 9032, 9054, 9081, 9083, 9089, 9091, 9102, 9128, 9135, 9137, 9145, 9175, 9211, 9251, 9257, 9274, 9289, 9312, 9319, 9354, 9361, 9367, 9380, 9381, 9382, 9417, 9437, 9493, 9494, 9501, 9516, 9524, 9563, 9567, 9584, 9585, 9602, 9607, 9608, 9623, 9636, 9648, 9667, 9708, 9715, 9723, 9735, 9750, 9752, 9767, 9802, 9807, 9831, 9841, 9849, 9875, 9898, 9904, 10001, 10024, 10028, 10056, 10065, 10076, 10100, 10110, 10116, 10132, 10177, 10179, 10205, 10214, 10241, 10248, 10261, 10265, 10266, 10270, 10272, 10285, 10318, 10364, 10408, 10431, 10436, 10508, 10539, 10559, 10570, 10578, 10612, 10620, 10666, 10670, 10673, 10699, 10726, 10756, 10767, 10795, 10801, 10833, 10850, 10871, 10883, 10890, 10891, 10914, 10941, 10978, 11003, 11054, 11109, 11132, 11201, 11224, 11230, 11253, 11285, 11303, 11338, 11355, 11366, 11403, 11437, 11457, 11467, 11493, 11517, 11561, 11562, 11595, 11623, 11646, 11655, 11701, 11709, 11762, 11767, 11788, 11802, 11848, 11871, 11881, 11901, 11905, 11907, 11921, 11939, 11946, 11947, 11966, 11968, 11973, 11976, 11987, 12021, 12026, 12034, 12035, 12037, 12052, 12063, 12065, 12123, 12162, 12189, 12194, 12219, 12237, 12240, 12249, 12288, 12307, 12313, 12322, 12357, 12361, 12368, 12371, 12373, 12398, 12408, 12421, 12422, 12424, 12429, 12461, 12510, 12561, 12568, 12576, 12603, 12611, 12616, 12676, 12698, 12707, 12751, 12773, 12788, 12801, 12839, 12856, 12859, 12867, 12872, 12875, 12883, 12892, 12978, 12993, 13071, 13073, 13084, 13094, 13098, 13123, 13135, 13138, 13158, 13183, 13195, 13205, 13240, 13289, 13314, 13322, 13326, 13330, 13341, 13379, 13405, 13406, 13414, 13416, 13417, 13432, 13439, 13467, 13472, 13473, 13490, 13495, 13520, 13530, 13577, 13596, 13659, 13661, 13663, 13679, 13768, 13771, 13779, 13796, 13825, 13833, 13837, 13838, 13853, 13870, 13872, 13891, 13897, 13907, 13935, 13951, 13957, 13984, 13987, 13989, 14018, 14033, 14047, 14056, 14073, 14131, 14134, 14178, 14202, 14208, 14239, 14285, 14315, 14362, 14372, 14377, 14385, 14424, 14430, 14448, 14458, 14464, 14489, 14490, 14504, 14522, 14547, 14555, 14557, 14561, 14573, 14604, 14605, 14628, 14652, 14656, 14664, 14665, 14669, 14674, 14680, 14705, 14721, 14723, 14726, 14728, 14737, 14757, 14758, 14761, 14779, 14791, 14815, 14865, 14883, 14931, 14941, 14960, 14980, 15003, 15007, 15049, 15074, 15140, 15170, 15180, 15181, 15192, 15200, 15207, 15220, 15237, 15248, 15258, 15259, 15285, 15286, 15317, 15324, 15334, 15336, 15342, 15366, 15408, 15413, 15418, 15427, 15470, 15479, 15502, 15520, 15524, 15529, 15550, 15557, 15573, 15592, 15599, 15637, 15638, 15654, 15678, 15679, 15683, 15710, 15712, 15732, 15747, 15748, 15768, 15781, 15787, 15796, 15812, 15822, 15823, 15832, 15836, 15839, 15846, 15851, 15856, 15861, 15864, 15876, 15879, 15909, 15912, 15916, 15922, 15924, 15952, 15983, 15988, 15992, 16001, 16006, 16018, 16032, 16035, 16117, 16121, 16208, 16239, 16251, 16277, 16308, 16342, 16350, 16358, 16387, 16409, 16430, 16435, 16441, 16468, 16482, 16502, 16507, 16524, 16547, 16578, 16593, 16607, 16627, 16628, 16635, 16678, 16689, 16711, 16712, 16730, 16740, 16752, 16765, 16767, 16780, 16792, 16796, 16798, 16799, 16820, 16857, 16861, 16871, 16872, 16877, 16929, 16937, 16949, 16952, 16967, 16976, 17015, 17069, 17070, 17073, 17087, 17092, 17111, 17115, 17166, 17171, 17184, 17205, 17212, 17250, 17263, 17300, 17315, 17316, 17320, 17327, 17378, 17381, 17412, 17415, 17433, 17448, 17456, 17461, 17466, 17489, 17496, 17498, 17543, 17563, 17571, 17593, 17598, 17606, 17628, 17630, 17652, 17669, 17685, 17701, 17714, 17722, 17733, 17739, 17785, 17825, 17843, 17850, 17851, 17855, 17860, 17873, 17887, 17910, 17937, 17946, 17957, 17985, 17988, 18039, 18042, 18054, 18059, 18104, 18127, 18132, 18146, 18159, 18204, 18212, 18252, 18268, 18306, 18317, 18327, 18342, 18353, 18365, 18372, 18375, 18386, 18399, 18407, 18433, 18436, 18444, 18445, 18491, 18494, 18503, 18562, 18573, 18604, 18608, 18621, 18635, 18637, 18639, 18640, 18653, 18661, 18663, 18678, 18701, 18708, 18745, 18757, 18767, 18772, 18777, 18787, 18794, 18802, 18825, 18847, 18851, 18852, 18859, 18867, 18875, 18887, 18913, 18915, 18919, 18954, 18957, 18970, 19032, 19041, 19042, 19128, 19137, 19138, 19139, 19166, 19211, 19213, 19228, 19233, 19242, 19280, 19286, 19314, 19323, 19346, 19353, 19369, 19377, 19400, 19412, 19427, 19488, 19492, 19509, 19512, 19520, 19536, 19550, 19572, 19578, 19611, 19619, 19632, 19652, 19668, 19683, 19720, 19734, 19737, 19740, 19767, 19797, 19812, 19836, 19853, 19854, 19860, 19869, 19873, 19875, 19878, 19912, 19951, 19984, 20006, 20017, 20025, 20028, 20040, 20054, 20056, 20086, 20103, 20115, 20124, 20132, 20144, 20168, 20176, 20178, 20182, 20183, 20197, 20223, 20228, 20230, 20231, 20244, 20250, 20261, 20271, 20284, 20298, 20299, 20302, 20353, 20361, 20367, 20371, 20390, 20428, 20433, 20436, 20450, 20455, 20481, 20493, 20496, 20498, 20521, 20553, 20569, 20580, 20590, 20596, 20618, 20650, 20674, 20690, 20694, 20703, 20716, 20718, 20741, 20745, 20780, 20781, 20800, 20812, 20829, 20834, 20873, 20887, 20888, 20894, 20902, 20908, 20936, 20966, 20969, 21002, 21010, 21026, 21033, 21036, 21047, 21059, 21063, 21082, 21093, 21099, 21116, 21119, 21165, 21206, 21223, 21239, 21251, 21261, 21263, 21301, 21345, 21428, 21437, 21453, 21474, 21479, 21488, 21490, 21495, 21509, 21536, 21575, 21577, 21583, 21588, 21601, 21602, 21621, 21625, 21627, 21664, 21665, 21721, 21727, 21752, 21773, 21807, 21810, 21829, 21842, 21846, 21871, 21904, 21913, 21933, 21960, 21968, 22001, 22034, 22047, 22069, 22084, 22089, 22113, 22134, 22197, 22202, 22209, 22258, 22264, 22296, 22320, 22332, 22340, 22412, 22459, 22512, 22565, 22566, 22595, 22623, 22632, 22688, 22713, 22729, 22791, 22802, 22817, 22823, 22830, 22839, 22845, 22872, 22921, 22927, 22944, 22960, 23014, 23015, 23034, 23047, 23079, 23115, 23141, 23143, 23158, 23177, 23195, 23216, 23229, 23274, 23276, 23292, 23308, 23330, 23356, 23381, 23383, 23387, 23417, 23430, 23445, 23448, 23454, 23474, 23572, 23582, 23603, 23621, 23633, 23718, 23738, 23744, 23753, 23791, 23835, 23840, 23841, 23857, 23860, 23865, 23892, 23944, 23964, 24005, 24021, 24027, 24031, 24044, 24054, 24065, 24068, 24096, 24107, 24120, 24143, 24153, 24157, 24181, 24186, 24223, 24244, 24252, 24258, 24280, 24283, 24288, 24303, 24323, 24334, 24338, 24350, 24366, 24369, 24377, 24379, 24381, 24415, 24428, 24449, 24470, 24474, 24503, 24522, 24578, 24603, 24645, 24668, 24710, 24727, 24728, 24753, 24780, 24813, 24824, 24846, 24888, 24917, 24924, 24954, 24973, 24975, 25030, 25038, 25045, 25050, 25063, 25069, 25076, 25086, 25103, 25128, 25134, 25189, 25201, 25221, 25230, 25235, 25244, 25266, 25272, 25277, 25309, 25311, 25387, 25419, 25421, 25422, 25428, 25429, 25436, 25451, 25459, 25478, 25492, 25495, 25526, 25574, 25605, 25621, 25623, 25632, 25634, 25639, 25648, 25690, 25733, 25758, 25765, 25771, 25781, 25812, 25817, 25830, 25838, 25858, 25863, 25897, 25907, 25931, 25984, 25989, 25993, 26059, 26068, 26141, 26153, 26166, 26188, 26207, 26208, 26219, 26268, 26294, 26296, 26297, 26316, 26337, 26345, 26375, 26379, 26383, 26391, 26398, 26407, 26420, 26424, 26442, 26503, 26513, 26534, 26609, 26623, 26642, 26692, 26706, 26718, 26721, 26741, 26756, 26766, 26767, 26820, 26827, 26851, 26862, 26954, 26960, 26962, 26964, 26965, 26981, 26985, 26990, 26996, 26999, 27026, 27027, 27065, 27086, 27101, 27109, 27118, 27137, 27162, 27212, 27213, 27236, 27240, 27276, 27282, 27308, 27320, 27327, 27337, 27340, 27366, 27368, 27380, 27439, 27440, 27445, 27473, 27479, 27498, 27509, 27515, 27542, 27567, 27575, 27597, 27609, 27615, 27621, 27627, 27636, 27672, 27694, 27702, 27711, 27741, 27755, 27765, 27781, 27797, 27807, 27813, 27825, 27831, 27854, 27859, 27861, 27872, 27895, 27902, 27939, 27969, 27972, 27994, 28012, 28013, 28015, 28049, 28051, 28054, 28074, 28132, 28145, 28219, 28288, 28289, 28301, 28310, 28349, 28374, 28379, 28411, 28434, 28442, 28456, 28479, 28494, 28495, 28499, 28534, 28580, 28607, 28615, 28632, 28654, 28658, 28686, 28692, 28709, 28719, 28732, 28772, 28773, 28824, 28834, 28870, 28890, 28908, 28932, 28948, 29065, 29075, 29130, 29134, 29139, 29189, 29199, 29200, 29217, 29262, 29272, 29277, 29306, 29307, 29323, 29324, 29346, 29350, 29355, 29376, 29391, 29434, 29442, 29458, 29462, 29463, 29484, 29515, 29571, 29583, 29602, 29628, 29646, 29651, 29665, 29728, 29774, 29779, 29785, 29796, 29806, 29815, 29833, 29837, 29850, 29867, 29889, 29907, 29927, 29992, 30025, 30065, 30096, 30124, 30126, 30165, 30214, 30230, 30286, 30334, 30348, 30389, 30399, 30404, 30432, 30459, 30484, 30494, 30498, 30535, 30536, 30561, 30611, 30625, 30629, 30641, 30644, 30651, 30679, 30699, 30711, 30722, 30780, 30815, 30816, 30817, 30822, 30829, 30852, 30855, 30859, 30883, 30899, 30927, 30953, 30969, 30973, 30998, 30999, 31006, 31023, 31027, 31140, 31141, 31151, 31168, 31192, 31220, 31226, 31261, 31263, 31293, 31303, 31314, 31345, 31350, 31411, 31457, 31473, 31501, 31519, 31537, 31547, 31567, 31573, 31590, 31591, 31631, 31695, 31705, 31707, 31745, 31752, 31757, 31765, 31780, 31804, 31813, 31823, 31828, 31860, 31861, 31865, 31877, 31879, 31897, 31924, 31955, 31966, 31977, 32024, 32054, 32059, 32063, 32127, 32141, 32152, 32192, 32241, 32280, 32285, 32300, 32344, 32346, 32363, 32384, 32398, 32404, 32411, 32417, 32427, 32432, 32436, 32454, 32460, 32466, 32477, 32493, 32502, 32573, 32575, 32627, 32660, 32663, 32680, 32685, 32691, 32735, 32737, 32769, 32771, 32796, 32804, 32816, 32847, 32864, 32876, 32883, 32923, 32940, 32960, 33006, 33012, 33024, 33029, 33031, 33036, 33041, 33043, 33075, 33079, 33083, 33091, 33098, 33108, 33116, 33119, 33159, 33188, 33247, 33259, 33265, 33296, 33311, 33320, 33377, 33379, 33413, 33449, 33490, 33528, 33560, 33580, 33595, 33602, 33607, 33628, 33672, 33693, 33695, 33743, 33751, 33786, 33812, 33818, 33868, 33875, 33916, 33924, 33925, 33929, 33989, 33991, 33998, 34004, 34006, 34031, 34033, 34038, 34043, 34054, 34071, 34092, 34118, 34157, 34163, 34183, 34186, 34289, 34291, 34300, 34317, 34337, 34375, 34442, 34445, 34462, 34475, 34482, 34498, 34499, 34513, 34517, 34525, 34538, 34540, 34575, 34603, 34612, 34618, 34623, 34637, 34639, 34643, 34665, 34667, 34690, 34747, 34751, 34777, 34815, 34822, 34841, 34845, 34858, 34880, 34881, 34885, 34896, 34903, 34936, 35001, 35011, 35031, 35034, 35075, 35086, 35127, 35193, 35204, 35205, 35212, 35215, 35223, 35233, 35245, 35270, 35273, 35322, 35339, 35354, 35371, 35414, 35415, 35434, 35449, 35461, 35511, 35514, 35521, 35534, 35536, 35565, 35592, 35599, 35601, 35618, 35626, 35714, 35719, 35736, 35742, 35743, 35773, 35790, 35825, 35827, 35829, 35842, 35897, 35901, 35938, 35987, 35989, 36045, 36056, 36067, 36069, 36093, 36095, 36100, 36101, 36111, 36123, 36138, 36170, 36177, 36267, 36284, 36288, 36290, 36298, 36304, 36310, 36312, 36319, 36345, 36349, 36353, 36375, 36380, 36386, 36440, 36442, 36468, 36472, 36486, 36508, 36547, 36550, 36552, 36572, 36583, 36595, 36602, 36614, 36677, 36680, 36715, 36717, 36755, 36761, 36808, 36811, 36825, 36832, 36844, 36857, 36876, 36889, 36893, 36927, 36937, 36945, 36967, 37005, 37038, 37054, 37056, 37057, 37063, 37078, 37084, 37106, 37107, 37110, 37149, 37158, 37161, 37196, 37211, 37219, 37222, 37234, 37244, 37320, 37377, 37395, 37406, 37423, 37427, 37433, 37439, 37457, 37460, 37523, 37524, 37553, 37555, 37570, 37629, 37637, 37675, 37691, 37694, 37703, 37709, 37718, 37734, 37736, 37746, 37764, 37768, 37772, 37797, 37805, 37809, 37818, 37826, 37830, 37867, 37907, 37912, 37929, 37947, 37967, 37979, 38006, 38027, 38043, 38080, 38084, 38086, 38093, 38110, 38128, 38132, 38138, 38142, 38173, 38195, 38200, 38227, 38287, 38303, 38314, 38323, 38341, 38356, 38375, 38382, 38390, 38411, 38446, 38454, 38506, 38535, 38562, 38629, 38631, 38654, 38659, 38660, 38668, 38677, 38686, 38703, 38776, 38783, 38791, 38826, 38837, 38914, 38925, 39012, 39032, 39038, 39067, 39076, 39079, 39101, 39114, 39122, 39129, 39166, 39179, 39191, 39209, 39232, 39257, 39264, 39278, 39290, 39300, 39343, 39380, 39390, 39404, 39417, 39457, 39473, 39490, 39509, 39518, 39548, 39562, 39596, 39611, 39614, 39617, 39623, 39632, 39634, 39654, 39656, 39669, 39676, 39696, 39702, 39783, 39816, 39817, 39819, 39825, 39832, 39873, 39917, 39951, 39992, 40010, 40025, 40036, 40040, 40074, 40099, 40103, 40106, 40134, 40146, 40161, 40196, 40199, 40201, 40217, 40235, 40261, 40284, 40296, 40328, 40334, 40335, 40354, 40365, 40390, 40414, 40430, 40436, 40464, 40476, 40513, 40519, 40522, 40528, 40580, 40589, 40599, 40660, 40667, 40686, 40710, 40742, 40756, 40766, 40808, 40813, 40860, 40861, 40917, 40925, 40967, 40975, 40985, 40995, 41016, 41033, 41041, 41054, 41060, 41062, 41068, 41077, 41090, 41094, 41102, 41109, 41156, 41157, 41175, 41183, 41194, 41230, 41279, 41290, 41315, 41325, 41334, 41337, 41341, 41348, 41357, 41380, 41403, 41415, 41444, 41467, 41489, 41497, 41506, 41519, 41547, 41551, 41576, 41584, 41602, 41640, 41678, 41698, 41705, 41711, 41722, 41738, 41800, 41803, 41805, 41818, 41849, 41859, 41869, 41917, 41950, 41966, 41984, 42007, 42029, 42036, 42053, 42083, 42087, 42094, 42100, 42107, 42116, 42127, 42134, 42158, 42183, 42209, 42210, 42211, 42257, 42261, 42293, 42321, 42332, 42362, 42374, 42400, 42408, 42418, 42424, 42426, 42444, 42506, 42525, 42540, 42568, 42576, 42577, 42593, 42612, 42629, 42644, 42654, 42656, 42691, 42697, 42702, 42731, 42770, 42784, 42793, 42794, 42803, 42830, 42847, 42867, 42879, 42880, 42962, 42968, 42969, 43057, 43072, 43119, 43147, 43205, 43209, 43239, 43263, 43267, 43273, 43279, 43290, 43299, 43303, 43319, 43332, 43366, 43367, 43381, 43388, 43421, 43425, 43460, 43482, 43506, 43546, 43548, 43598, 43602, 43612, 43631, 43663, 43676, 43707, 43733, 43747, 43756, 43779, 43788, 43794, 43799, 43803, 43830, 43844, 43850, 43859, 43860, 43871, 43876, 43894, 43923, 43938, 43946, 43957, 43979, 43983, 43988, 44004, 44011, 44051, 44055, 44089, 44125, 44134, 44179, 44196, 44216, 44225, 44252, 44274, 44290, 44301, 44318, 44324, 44393, 44419, 44424, 44425, 44426, 44429, 44445, 44456, 44475, 44487, 44491, 44522, 44552, 44557, 44574, 44584, 44601, 44625, 44646, 44663, 44665, 44675, 44706, 44757, 44759, 44784, 44824, 44829, 44867, 44884, 44910, 44967, 44969, 44996, 45054, 45064, 45083, 45092, 45130, 45136, 45140, 45166, 45172, 45185, 45199, 45203, 45214, 45224, 45234, 45238, 45242, 45307, 45321, 45342, 45343, 45353, 45375, 45378, 45382, 45400, 45409, 45458, 45487, 45503, 45540, 45578, 45591, 45599, 45605, 45606, 45621, 45640, 45641, 45656, 45672, 45678, 45702, 45717, 45728, 45736, 45746, 45761, 45808, 45863, 45867, 45882, 45895, 45943, 45974, 45979, 45991, 46005, 46018, 46033, 46072, 46079, 46088, 46095, 46100, 46116, 46123, 46162, 46183, 46237, 46248, 46323, 46340, 46342, 46349, 46383, 46437, 46439, 46444, 46487, 46489, 46490, 46499, 46549, 46558, 46576, 46594, 46615, 46650, 46665, 46678, 46683, 46693, 46725, 46731, 46737, 46749, 46794, 46839, 46850, 46865, 46896, 46904, 46905, 46909, 46922, 46941, 46954, 46958, 46968, 46974, 46979, 46988, 46992, 46994, 47004, 47008, 47025, 47038, 47057, 47062, 47065, 47103, 47108, 47111, 47178, 47211, 47228, 47258, 47299, 47313, 47317, 47324, 47342, 47343, 47354, 47375, 47382, 47389, 47399, 47404, 47459, 47474, 47482, 47501, 47516, 47528, 47534, 47554, 47557, 47560, 47588, 47594, 47641, 47653, 47671, 47702, 47713, 47808, 47817, 47821, 47849, 47858, 47872, 47875, 47886, 47902, 47914, 47916, 47942, 47945, 47949, 47977, 47979, 47991, 47992, 48004, 48012, 48020, 48032, 48034, 48039, 48046, 48053, 48056, 48071, 48073, 48074, 48091, 48102, 48117, 48143, 48152, 48166, 48189, 48193, 48194, 48278, 48279, 48289, 48297, 48320, 48343, 48351, 48354, 48356, 48361, 48364, 48369, 48374, 48384, 48470, 48482, 48487, 48556, 48572, 48591, 48598, 48616, 48624, 48707, 48758, 48771, 48775, 48806, 48811, 48812, 48820, 48822, 48823]\n"
     ]
    }
   ],
   "source": [
    "print(df[df['workclass'] == \"?\"].index.tolist())"
   ]
  },
  {
   "cell_type": "code",
   "execution_count": 13,
   "id": "f205f2a7",
   "metadata": {},
   "outputs": [],
   "source": [
    "df.workclass = df['workclass'].replace('?', np.nan)"
   ]
  },
  {
   "cell_type": "code",
   "execution_count": 14,
   "id": "ec43c723",
   "metadata": {},
   "outputs": [
    {
     "data": {
      "text/plain": [
       "array(['Private', 'Local-gov', nan, 'Self-emp-not-inc', 'Federal-gov',\n",
       "       'State-gov', 'Self-emp-inc', 'Without-pay', 'Never-worked'],\n",
       "      dtype=object)"
      ]
     },
     "execution_count": 14,
     "metadata": {},
     "output_type": "execute_result"
    }
   ],
   "source": [
    "df.workclass.unique()"
   ]
  },
  {
   "cell_type": "code",
   "execution_count": 15,
   "id": "95aacbb0",
   "metadata": {},
   "outputs": [
    {
     "data": {
      "text/plain": [
       "0    Private\n",
       "Name: workclass, dtype: object"
      ]
     },
     "execution_count": 15,
     "metadata": {},
     "output_type": "execute_result"
    }
   ],
   "source": [
    "df.workclass.mode()"
   ]
  },
  {
   "cell_type": "code",
   "execution_count": 16,
   "id": "3d4c0da3",
   "metadata": {},
   "outputs": [],
   "source": [
    "df = df.fillna({'workclass': df['workclass'].mode()[0]})"
   ]
  },
  {
   "cell_type": "code",
   "execution_count": 17,
   "id": "20e9d9a2",
   "metadata": {},
   "outputs": [],
   "source": [
    "df = df.fillna({'educational-num': df['educational-num'].mean()})"
   ]
  },
  {
   "cell_type": "code",
   "execution_count": 18,
   "id": "8c28a06c",
   "metadata": {},
   "outputs": [
    {
     "data": {
      "text/plain": [
       "0"
      ]
     },
     "execution_count": 18,
     "metadata": {},
     "output_type": "execute_result"
    }
   ],
   "source": [
    "df['educational-num'].isnull().sum()"
   ]
  },
  {
   "cell_type": "code",
   "execution_count": 19,
   "id": "c35dbaf6",
   "metadata": {},
   "outputs": [
    {
     "data": {
      "text/plain": [
       "array(['Machine-op-inspct', 'Farming-fishing', 'Protective-serv', '?',\n",
       "       'Other-service', 'Prof-specialty', 'Craft-repair', 'Adm-clerical',\n",
       "       'Exec-managerial', 'Tech-support', 'Sales', 'Priv-house-serv',\n",
       "       'Transport-moving', 'Handlers-cleaners', 'Armed-Forces'],\n",
       "      dtype=object)"
      ]
     },
     "execution_count": 19,
     "metadata": {},
     "output_type": "execute_result"
    }
   ],
   "source": [
    "df.occupation.unique()"
   ]
  },
  {
   "cell_type": "code",
   "execution_count": 20,
   "id": "e48ea077",
   "metadata": {},
   "outputs": [
    {
     "name": "stdout",
     "output_type": "stream",
     "text": [
      "[4, 6, 13, 22, 35, 75, 89, 100, 113, 132, 182, 185, 193, 228, 229, 245, 266, 268, 274, 316, 331, 350, 378, 394, 397, 413, 429, 434, 437, 470, 505, 516, 563, 604, 612, 626, 637, 640, 641, 647, 657, 664, 693, 703, 717, 728, 765, 768, 781, 816, 873, 880, 913, 915, 926, 933, 960, 981, 1000, 1002, 1005, 1009, 1018, 1029, 1043, 1048, 1063, 1120, 1127, 1130, 1142, 1156, 1167, 1169, 1177, 1197, 1205, 1241, 1251, 1258, 1259, 1285, 1306, 1338, 1362, 1367, 1377, 1395, 1417, 1427, 1438, 1465, 1480, 1522, 1524, 1535, 1560, 1593, 1595, 1606, 1607, 1612, 1625, 1626, 1641, 1665, 1681, 1700, 1733, 1746, 1750, 1774, 1778, 1780, 1787, 1791, 1801, 1813, 1828, 1832, 1834, 1837, 1863, 1866, 1893, 1939, 1944, 1955, 1982, 2023, 2042, 2055, 2088, 2092, 2117, 2122, 2160, 2163, 2201, 2228, 2255, 2281, 2323, 2333, 2364, 2410, 2415, 2416, 2438, 2447, 2492, 2494, 2498, 2507, 2510, 2531, 2536, 2539, 2547, 2556, 2579, 2584, 2593, 2612, 2634, 2642, 2650, 2651, 2655, 2666, 2721, 2760, 2774, 2775, 2778, 2797, 2804, 2808, 2848, 2902, 2920, 2955, 2965, 2995, 3004, 3018, 3024, 3037, 3067, 3074, 3083, 3090, 3102, 3130, 3143, 3200, 3206, 3216, 3219, 3228, 3232, 3237, 3259, 3288, 3297, 3313, 3407, 3413, 3421, 3431, 3479, 3492, 3540, 3569, 3638, 3669, 3671, 3690, 3698, 3725, 3744, 3746, 3757, 3816, 3853, 3859, 3867, 3870, 3882, 3920, 3963, 3977, 3982, 3994, 3997, 4003, 4005, 4017, 4043, 4055, 4058, 4067, 4081, 4108, 4117, 4136, 4148, 4155, 4176, 4216, 4221, 4227, 4230, 4233, 4238, 4241, 4259, 4265, 4270, 4274, 4281, 4297, 4304, 4321, 4330, 4350, 4372, 4440, 4455, 4467, 4483, 4486, 4519, 4575, 4585, 4597, 4610, 4624, 4640, 4641, 4646, 4661, 4662, 4668, 4708, 4728, 4744, 4745, 4748, 4753, 4759, 4776, 4777, 4783, 4788, 4802, 4821, 4823, 4840, 4843, 4846, 4858, 4861, 4870, 4885, 4898, 4927, 4934, 4935, 4946, 4959, 4984, 4989, 4995, 4998, 5023, 5046, 5052, 5066, 5078, 5087, 5108, 5109, 5134, 5145, 5146, 5164, 5174, 5181, 5227, 5245, 5256, 5289, 5329, 5348, 5360, 5372, 5373, 5379, 5391, 5400, 5425, 5434, 5470, 5473, 5476, 5486, 5515, 5518, 5530, 5532, 5536, 5573, 5583, 5587, 5623, 5635, 5646, 5649, 5681, 5682, 5701, 5714, 5726, 5732, 5735, 5746, 5783, 5816, 5824, 5838, 5885, 5888, 5896, 5900, 5936, 5952, 5957, 5972, 5990, 5991, 6050, 6064, 6082, 6095, 6099, 6130, 6152, 6186, 6219, 6221, 6231, 6232, 6250, 6265, 6320, 6325, 6334, 6365, 6384, 6385, 6398, 6432, 6433, 6491, 6499, 6508, 6525, 6611, 6613, 6614, 6623, 6642, 6648, 6660, 6673, 6684, 6751, 6766, 6783, 6790, 6800, 6805, 6839, 6841, 6869, 6874, 6884, 6917, 6928, 6941, 6992, 7066, 7071, 7138, 7141, 7152, 7169, 7170, 7223, 7231, 7251, 7263, 7266, 7270, 7303, 7374, 7425, 7435, 7444, 7456, 7480, 7511, 7529, 7534, 7539, 7558, 7561, 7566, 7610, 7620, 7623, 7633, 7640, 7647, 7723, 7724, 7734, 7771, 7775, 7785, 7793, 7799, 7811, 7828, 7871, 7882, 7892, 7895, 7900, 7923, 7924, 7926, 7947, 7970, 8018, 8023, 8027, 8041, 8079, 8103, 8104, 8111, 8115, 8116, 8122, 8161, 8183, 8189, 8203, 8206, 8223, 8231, 8234, 8246, 8248, 8250, 8258, 8284, 8289, 8290, 8337, 8341, 8346, 8383, 8584, 8611, 8626, 8635, 8648, 8660, 8667, 8681, 8694, 8702, 8710, 8713, 8721, 8753, 8760, 8763, 8785, 8794, 8803, 8836, 8837, 8839, 8851, 8869, 8875, 8900, 8916, 8921, 8953, 8988, 9030, 9032, 9054, 9081, 9083, 9089, 9091, 9102, 9128, 9135, 9137, 9145, 9175, 9211, 9251, 9257, 9274, 9289, 9312, 9319, 9354, 9361, 9367, 9380, 9381, 9382, 9417, 9437, 9493, 9494, 9501, 9516, 9524, 9563, 9567, 9584, 9585, 9602, 9607, 9608, 9623, 9636, 9648, 9667, 9708, 9715, 9723, 9735, 9750, 9752, 9767, 9802, 9807, 9831, 9841, 9849, 9875, 9898, 9904, 10001, 10024, 10028, 10056, 10065, 10076, 10100, 10110, 10116, 10132, 10177, 10179, 10205, 10214, 10241, 10248, 10261, 10265, 10266, 10270, 10272, 10285, 10318, 10364, 10408, 10431, 10436, 10508, 10539, 10559, 10570, 10578, 10612, 10620, 10666, 10670, 10673, 10699, 10726, 10756, 10767, 10795, 10801, 10833, 10850, 10871, 10883, 10890, 10891, 10914, 10941, 10978, 11003, 11054, 11109, 11132, 11201, 11224, 11230, 11253, 11285, 11303, 11338, 11355, 11366, 11403, 11437, 11457, 11467, 11493, 11517, 11561, 11562, 11595, 11607, 11623, 11646, 11655, 11701, 11709, 11762, 11767, 11788, 11802, 11848, 11871, 11881, 11901, 11905, 11907, 11921, 11939, 11946, 11947, 11966, 11968, 11973, 11976, 11987, 12021, 12026, 12034, 12035, 12037, 12052, 12063, 12065, 12123, 12162, 12189, 12194, 12219, 12237, 12240, 12249, 12288, 12307, 12313, 12322, 12357, 12361, 12368, 12371, 12373, 12398, 12408, 12421, 12422, 12424, 12429, 12461, 12510, 12561, 12568, 12576, 12603, 12611, 12616, 12676, 12698, 12707, 12751, 12773, 12788, 12801, 12839, 12856, 12859, 12867, 12872, 12875, 12883, 12892, 12978, 12993, 13071, 13073, 13084, 13094, 13098, 13123, 13135, 13138, 13158, 13183, 13195, 13205, 13240, 13289, 13314, 13322, 13326, 13330, 13341, 13379, 13405, 13406, 13414, 13416, 13417, 13432, 13439, 13467, 13472, 13473, 13490, 13495, 13520, 13530, 13577, 13596, 13659, 13661, 13663, 13679, 13768, 13771, 13779, 13796, 13825, 13833, 13837, 13838, 13853, 13870, 13872, 13891, 13897, 13898, 13907, 13935, 13951, 13957, 13984, 13987, 13989, 14018, 14033, 14047, 14056, 14073, 14131, 14134, 14178, 14202, 14208, 14239, 14285, 14315, 14362, 14372, 14377, 14385, 14424, 14430, 14448, 14458, 14464, 14489, 14490, 14504, 14522, 14547, 14555, 14557, 14561, 14573, 14604, 14605, 14628, 14652, 14656, 14664, 14665, 14669, 14674, 14680, 14705, 14721, 14723, 14726, 14728, 14737, 14757, 14758, 14761, 14779, 14791, 14815, 14865, 14883, 14931, 14941, 14960, 14980, 15003, 15007, 15049, 15074, 15140, 15170, 15180, 15181, 15192, 15200, 15207, 15220, 15237, 15248, 15258, 15259, 15285, 15286, 15317, 15324, 15334, 15336, 15342, 15366, 15408, 15413, 15418, 15427, 15470, 15479, 15502, 15520, 15524, 15529, 15550, 15557, 15573, 15592, 15599, 15637, 15638, 15654, 15678, 15679, 15683, 15710, 15712, 15732, 15747, 15748, 15768, 15781, 15787, 15796, 15812, 15822, 15823, 15832, 15836, 15839, 15846, 15851, 15856, 15861, 15864, 15876, 15879, 15909, 15912, 15916, 15922, 15924, 15952, 15983, 15988, 15992, 16001, 16006, 16018, 16032, 16035, 16117, 16121, 16208, 16239, 16251, 16277, 16308, 16342, 16350, 16358, 16387, 16409, 16430, 16435, 16441, 16468, 16482, 16502, 16507, 16524, 16547, 16578, 16593, 16607, 16627, 16628, 16635, 16678, 16689, 16711, 16712, 16730, 16740, 16752, 16765, 16767, 16780, 16792, 16796, 16798, 16799, 16820, 16857, 16861, 16871, 16872, 16877, 16929, 16937, 16949, 16952, 16967, 16976, 17015, 17069, 17070, 17073, 17087, 17092, 17111, 17115, 17166, 17171, 17184, 17205, 17212, 17250, 17263, 17300, 17315, 17316, 17320, 17327, 17378, 17381, 17412, 17415, 17433, 17448, 17456, 17461, 17466, 17489, 17496, 17498, 17543, 17563, 17571, 17593, 17598, 17606, 17628, 17630, 17652, 17669, 17685, 17701, 17714, 17722, 17733, 17739, 17785, 17825, 17843, 17850, 17851, 17855, 17860, 17873, 17887, 17910, 17937, 17946, 17957, 17985, 17988, 18039, 18042, 18054, 18059, 18104, 18127, 18132, 18146, 18159, 18204, 18212, 18252, 18268, 18306, 18317, 18327, 18342, 18353, 18365, 18372, 18375, 18386, 18399, 18407, 18433, 18436, 18444, 18445, 18491, 18494, 18503, 18562, 18573, 18604, 18608, 18621, 18635, 18637, 18639, 18640, 18653, 18661, 18663, 18678, 18701, 18708, 18745, 18757, 18767, 18772, 18777, 18787, 18794, 18802, 18825, 18847, 18851, 18852, 18859, 18867, 18875, 18887, 18913, 18915, 18919, 18954, 18957, 18970, 19032, 19041, 19042, 19128, 19137, 19138, 19139, 19166, 19211, 19213, 19228, 19233, 19242, 19280, 19286, 19314, 19323, 19346, 19353, 19369, 19377, 19400, 19412, 19427, 19488, 19492, 19509, 19512, 19520, 19536, 19550, 19572, 19578, 19611, 19619, 19632, 19652, 19668, 19683, 19720, 19734, 19737, 19740, 19767, 19797, 19812, 19836, 19853, 19854, 19860, 19869, 19873, 19875, 19878, 19912, 19951, 19984, 20006, 20017, 20025, 20028, 20040, 20054, 20056, 20086, 20103, 20115, 20124, 20132, 20144, 20168, 20176, 20178, 20182, 20183, 20197, 20223, 20228, 20230, 20231, 20244, 20250, 20261, 20271, 20284, 20298, 20299, 20302, 20353, 20361, 20367, 20371, 20390, 20428, 20433, 20436, 20450, 20455, 20481, 20493, 20496, 20498, 20521, 20553, 20569, 20580, 20590, 20596, 20618, 20650, 20674, 20690, 20694, 20703, 20716, 20718, 20741, 20745, 20780, 20781, 20800, 20812, 20829, 20834, 20873, 20887, 20888, 20894, 20902, 20908, 20936, 20966, 20969, 21002, 21010, 21026, 21033, 21036, 21047, 21059, 21063, 21082, 21093, 21099, 21116, 21119, 21165, 21206, 21223, 21239, 21251, 21261, 21263, 21301, 21345, 21428, 21437, 21453, 21474, 21479, 21488, 21490, 21495, 21509, 21536, 21575, 21577, 21583, 21588, 21601, 21602, 21621, 21625, 21627, 21642, 21664, 21665, 21721, 21727, 21752, 21773, 21807, 21810, 21829, 21842, 21846, 21871, 21904, 21913, 21933, 21960, 21968, 22001, 22034, 22047, 22069, 22084, 22089, 22113, 22134, 22197, 22202, 22209, 22258, 22264, 22296, 22320, 22332, 22340, 22412, 22459, 22512, 22565, 22566, 22595, 22623, 22632, 22688, 22713, 22729, 22791, 22802, 22817, 22823, 22830, 22839, 22845, 22872, 22921, 22927, 22944, 22960, 23014, 23015, 23034, 23047, 23079, 23115, 23141, 23143, 23158, 23177, 23195, 23216, 23229, 23274, 23276, 23292, 23308, 23330, 23356, 23381, 23383, 23387, 23417, 23430, 23445, 23448, 23454, 23474, 23572, 23582, 23603, 23621, 23633, 23718, 23738, 23744, 23753, 23791, 23835, 23840, 23841, 23857, 23860, 23865, 23892, 23944, 23964, 24005, 24021, 24027, 24031, 24044, 24054, 24065, 24068, 24096, 24107, 24120, 24143, 24153, 24157, 24181, 24186, 24223, 24244, 24252, 24258, 24280, 24283, 24288, 24303, 24323, 24334, 24338, 24350, 24366, 24369, 24377, 24379, 24381, 24415, 24428, 24449, 24470, 24474, 24503, 24522, 24578, 24603, 24645, 24668, 24710, 24727, 24728, 24753, 24780, 24813, 24824, 24846, 24888, 24917, 24924, 24954, 24973, 24975, 25030, 25038, 25045, 25050, 25063, 25069, 25076, 25086, 25103, 25128, 25134, 25189, 25201, 25221, 25230, 25235, 25244, 25266, 25272, 25277, 25309, 25311, 25387, 25419, 25421, 25422, 25428, 25429, 25436, 25451, 25459, 25478, 25492, 25495, 25526, 25574, 25605, 25621, 25623, 25632, 25634, 25639, 25648, 25690, 25733, 25758, 25765, 25771, 25781, 25812, 25817, 25830, 25838, 25858, 25863, 25897, 25907, 25931, 25984, 25989, 25993, 26059, 26068, 26141, 26153, 26166, 26188, 26207, 26208, 26219, 26268, 26294, 26296, 26297, 26316, 26337, 26345, 26375, 26379, 26383, 26391, 26398, 26407, 26420, 26424, 26442, 26503, 26513, 26534, 26609, 26623, 26642, 26692, 26706, 26718, 26721, 26741, 26756, 26766, 26767, 26820, 26827, 26851, 26862, 26954, 26960, 26962, 26964, 26965, 26981, 26985, 26990, 26996, 26999, 27026, 27027, 27065, 27086, 27101, 27109, 27118, 27126, 27137, 27162, 27212, 27213, 27236, 27240, 27276, 27282, 27308, 27320, 27327, 27337, 27340, 27366, 27368, 27380, 27439, 27440, 27445, 27473, 27479, 27498, 27509, 27515, 27542, 27567, 27575, 27597, 27609, 27615, 27621, 27627, 27636, 27672, 27694, 27702, 27711, 27741, 27755, 27765, 27781, 27797, 27807, 27813, 27825, 27831, 27854, 27859, 27861, 27872, 27895, 27902, 27939, 27969, 27972, 27994, 28012, 28013, 28015, 28049, 28051, 28054, 28074, 28132, 28145, 28219, 28288, 28289, 28301, 28310, 28349, 28374, 28379, 28411, 28434, 28442, 28456, 28479, 28494, 28495, 28499, 28534, 28580, 28607, 28615, 28632, 28654, 28658, 28686, 28692, 28709, 28719, 28732, 28772, 28773, 28824, 28834, 28870, 28890, 28908, 28932, 28948, 29065, 29075, 29130, 29134, 29139, 29189, 29199, 29200, 29217, 29262, 29272, 29277, 29306, 29307, 29323, 29324, 29346, 29350, 29355, 29376, 29391, 29434, 29442, 29458, 29462, 29463, 29484, 29515, 29571, 29583, 29602, 29628, 29646, 29651, 29665, 29728, 29774, 29779, 29785, 29796, 29806, 29815, 29833, 29837, 29850, 29867, 29889, 29907, 29927, 29992, 30025, 30065, 30096, 30124, 30126, 30165, 30214, 30230, 30286, 30334, 30348, 30389, 30399, 30404, 30432, 30459, 30484, 30494, 30498, 30535, 30536, 30561, 30611, 30625, 30629, 30641, 30644, 30651, 30679, 30699, 30711, 30722, 30780, 30815, 30816, 30817, 30822, 30829, 30852, 30855, 30859, 30883, 30899, 30927, 30953, 30969, 30973, 30998, 30999, 31006, 31023, 31027, 31053, 31140, 31141, 31151, 31168, 31192, 31220, 31226, 31261, 31263, 31293, 31303, 31314, 31345, 31350, 31411, 31457, 31473, 31501, 31519, 31537, 31547, 31567, 31573, 31590, 31591, 31631, 31695, 31705, 31707, 31745, 31752, 31757, 31765, 31780, 31804, 31813, 31823, 31828, 31860, 31861, 31865, 31877, 31879, 31897, 31924, 31955, 31966, 31977, 32024, 32054, 32059, 32063, 32127, 32141, 32152, 32192, 32241, 32280, 32285, 32300, 32344, 32346, 32363, 32384, 32398, 32404, 32411, 32417, 32427, 32432, 32436, 32454, 32460, 32466, 32477, 32493, 32502, 32573, 32575, 32627, 32660, 32663, 32680, 32685, 32691, 32735, 32737, 32769, 32771, 32796, 32804, 32816, 32847, 32864, 32876, 32883, 32923, 32940, 32960, 33006, 33012, 33024, 33029, 33031, 33036, 33041, 33043, 33075, 33079, 33083, 33091, 33098, 33108, 33116, 33119, 33159, 33188, 33247, 33259, 33265, 33296, 33311, 33320, 33377, 33379, 33413, 33449, 33490, 33528, 33560, 33580, 33595, 33602, 33607, 33628, 33672, 33693, 33695, 33743, 33751, 33786, 33812, 33818, 33868, 33875, 33916, 33924, 33925, 33929, 33989, 33991, 33998, 34004, 34006, 34031, 34033, 34038, 34043, 34054, 34071, 34092, 34118, 34157, 34163, 34183, 34186, 34289, 34291, 34300, 34317, 34337, 34375, 34442, 34445, 34462, 34475, 34482, 34498, 34499, 34513, 34517, 34525, 34538, 34540, 34575, 34603, 34612, 34618, 34623, 34637, 34639, 34643, 34665, 34667, 34690, 34747, 34751, 34777, 34815, 34822, 34841, 34845, 34858, 34880, 34881, 34885, 34896, 34903, 34936, 35001, 35011, 35031, 35034, 35075, 35086, 35127, 35193, 35204, 35205, 35212, 35215, 35223, 35233, 35245, 35270, 35273, 35322, 35339, 35354, 35371, 35414, 35415, 35434, 35449, 35461, 35511, 35514, 35521, 35534, 35536, 35565, 35592, 35599, 35601, 35618, 35626, 35714, 35719, 35736, 35742, 35743, 35773, 35790, 35825, 35827, 35829, 35842, 35897, 35901, 35938, 35987, 35989, 36045, 36056, 36067, 36069, 36093, 36095, 36100, 36101, 36111, 36123, 36138, 36170, 36177, 36267, 36284, 36288, 36290, 36298, 36304, 36310, 36312, 36319, 36345, 36349, 36353, 36375, 36380, 36386, 36440, 36442, 36468, 36472, 36486, 36508, 36547, 36550, 36552, 36572, 36583, 36595, 36602, 36614, 36618, 36677, 36680, 36715, 36717, 36755, 36761, 36808, 36811, 36825, 36832, 36844, 36857, 36876, 36889, 36893, 36927, 36937, 36945, 36967, 37005, 37038, 37054, 37056, 37057, 37063, 37078, 37084, 37106, 37107, 37110, 37149, 37158, 37161, 37196, 37211, 37219, 37222, 37234, 37244, 37320, 37377, 37395, 37406, 37423, 37427, 37433, 37439, 37457, 37460, 37523, 37524, 37553, 37555, 37570, 37629, 37637, 37675, 37691, 37694, 37703, 37709, 37718, 37734, 37736, 37746, 37764, 37768, 37772, 37797, 37805, 37809, 37818, 37826, 37830, 37867, 37907, 37912, 37929, 37947, 37967, 37979, 38006, 38027, 38043, 38080, 38084, 38086, 38093, 38110, 38128, 38132, 38138, 38142, 38173, 38195, 38200, 38227, 38287, 38303, 38314, 38323, 38341, 38356, 38375, 38382, 38390, 38411, 38446, 38454, 38506, 38535, 38562, 38629, 38631, 38654, 38659, 38660, 38668, 38677, 38686, 38703, 38776, 38783, 38791, 38826, 38837, 38914, 38925, 39012, 39032, 39038, 39067, 39076, 39079, 39101, 39114, 39122, 39129, 39166, 39179, 39191, 39209, 39232, 39257, 39264, 39278, 39290, 39300, 39343, 39380, 39390, 39404, 39417, 39457, 39473, 39490, 39509, 39513, 39518, 39548, 39562, 39596, 39611, 39614, 39617, 39623, 39632, 39634, 39654, 39656, 39669, 39676, 39696, 39702, 39783, 39816, 39817, 39819, 39825, 39832, 39873, 39917, 39951, 39992, 40010, 40025, 40036, 40040, 40074, 40099, 40103, 40106, 40134, 40146, 40161, 40196, 40199, 40201, 40217, 40235, 40261, 40284, 40296, 40328, 40334, 40335, 40354, 40365, 40390, 40414, 40430, 40436, 40464, 40476, 40513, 40519, 40522, 40528, 40580, 40589, 40599, 40660, 40667, 40686, 40710, 40742, 40756, 40766, 40808, 40813, 40860, 40861, 40917, 40925, 40967, 40975, 40985, 40995, 41016, 41033, 41041, 41054, 41060, 41062, 41068, 41077, 41090, 41094, 41102, 41109, 41156, 41157, 41175, 41183, 41194, 41230, 41279, 41290, 41315, 41325, 41334, 41337, 41341, 41348, 41357, 41380, 41403, 41415, 41444, 41467, 41489, 41497, 41506, 41519, 41547, 41551, 41576, 41584, 41602, 41640, 41678, 41698, 41705, 41711, 41722, 41738, 41800, 41803, 41805, 41818, 41849, 41859, 41869, 41917, 41950, 41966, 41984, 42007, 42029, 42036, 42053, 42083, 42087, 42094, 42100, 42107, 42116, 42127, 42134, 42158, 42183, 42209, 42210, 42211, 42257, 42261, 42293, 42321, 42332, 42362, 42374, 42400, 42408, 42418, 42424, 42426, 42444, 42506, 42525, 42540, 42568, 42576, 42577, 42593, 42612, 42629, 42644, 42654, 42656, 42691, 42697, 42702, 42731, 42770, 42784, 42793, 42794, 42803, 42830, 42847, 42867, 42879, 42880, 42962, 42968, 42969, 43057, 43072, 43119, 43147, 43205, 43209, 43239, 43263, 43267, 43273, 43279, 43290, 43299, 43303, 43319, 43332, 43366, 43367, 43381, 43388, 43421, 43425, 43460, 43482, 43506, 43546, 43548, 43598, 43602, 43612, 43631, 43663, 43676, 43707, 43733, 43747, 43756, 43779, 43788, 43794, 43799, 43803, 43830, 43844, 43850, 43859, 43860, 43871, 43876, 43894, 43923, 43938, 43946, 43957, 43979, 43983, 43988, 44004, 44011, 44051, 44055, 44089, 44125, 44134, 44179, 44196, 44216, 44225, 44252, 44274, 44290, 44301, 44318, 44324, 44393, 44419, 44424, 44425, 44426, 44429, 44445, 44456, 44475, 44487, 44491, 44522, 44552, 44557, 44574, 44584, 44601, 44625, 44646, 44663, 44665, 44675, 44706, 44757, 44759, 44784, 44824, 44829, 44867, 44884, 44910, 44967, 44969, 44996, 45054, 45064, 45083, 45092, 45130, 45136, 45140, 45166, 45172, 45185, 45199, 45203, 45214, 45224, 45234, 45238, 45242, 45307, 45321, 45342, 45343, 45353, 45375, 45378, 45382, 45400, 45409, 45458, 45487, 45503, 45540, 45578, 45591, 45599, 45605, 45606, 45621, 45640, 45641, 45656, 45672, 45678, 45702, 45717, 45728, 45736, 45746, 45761, 45808, 45863, 45867, 45882, 45895, 45943, 45974, 45979, 45991, 46005, 46018, 46033, 46072, 46079, 46088, 46095, 46100, 46116, 46123, 46162, 46183, 46237, 46248, 46323, 46340, 46342, 46349, 46383, 46437, 46439, 46444, 46487, 46489, 46490, 46499, 46549, 46558, 46576, 46594, 46615, 46650, 46665, 46678, 46683, 46693, 46725, 46731, 46737, 46749, 46794, 46839, 46850, 46865, 46896, 46904, 46905, 46909, 46922, 46941, 46954, 46958, 46968, 46974, 46979, 46988, 46992, 46994, 47004, 47008, 47025, 47038, 47057, 47062, 47065, 47103, 47108, 47111, 47178, 47211, 47228, 47258, 47299, 47313, 47317, 47324, 47342, 47343, 47354, 47375, 47382, 47389, 47399, 47404, 47459, 47474, 47482, 47501, 47516, 47528, 47534, 47554, 47557, 47560, 47588, 47594, 47641, 47653, 47671, 47702, 47713, 47808, 47817, 47821, 47849, 47858, 47872, 47875, 47886, 47902, 47914, 47916, 47942, 47945, 47949, 47977, 47979, 47991, 47992, 48004, 48012, 48020, 48032, 48034, 48039, 48046, 48053, 48056, 48071, 48073, 48074, 48091, 48102, 48117, 48143, 48152, 48166, 48189, 48193, 48194, 48278, 48279, 48289, 48297, 48320, 48343, 48351, 48354, 48356, 48361, 48364, 48369, 48374, 48384, 48470, 48482, 48487, 48556, 48572, 48585, 48591, 48595, 48598, 48616, 48624, 48707, 48758, 48771, 48775, 48806, 48811, 48812, 48820, 48822, 48823]\n"
     ]
    }
   ],
   "source": [
    "print(df[df['occupation'] == \"?\"].index.tolist())"
   ]
  },
  {
   "cell_type": "code",
   "execution_count": 21,
   "id": "c309f755",
   "metadata": {},
   "outputs": [],
   "source": [
    "df.occupation = df['occupation'].replace('?', np.nan)"
   ]
  },
  {
   "cell_type": "code",
   "execution_count": 22,
   "id": "6ed9469f",
   "metadata": {},
   "outputs": [
    {
     "data": {
      "text/plain": [
       "array(['Machine-op-inspct', 'Farming-fishing', 'Protective-serv', nan,\n",
       "       'Other-service', 'Prof-specialty', 'Craft-repair', 'Adm-clerical',\n",
       "       'Exec-managerial', 'Tech-support', 'Sales', 'Priv-house-serv',\n",
       "       'Transport-moving', 'Handlers-cleaners', 'Armed-Forces'],\n",
       "      dtype=object)"
      ]
     },
     "execution_count": 22,
     "metadata": {},
     "output_type": "execute_result"
    }
   ],
   "source": [
    "df.occupation.unique()"
   ]
  },
  {
   "cell_type": "code",
   "execution_count": 23,
   "id": "0ef2bb4f",
   "metadata": {},
   "outputs": [
    {
     "data": {
      "text/plain": [
       "0    Prof-specialty\n",
       "Name: occupation, dtype: object"
      ]
     },
     "execution_count": 23,
     "metadata": {},
     "output_type": "execute_result"
    }
   ],
   "source": [
    "df.occupation.mode() "
   ]
  },
  {
   "cell_type": "code",
   "execution_count": 24,
   "id": "eda12143",
   "metadata": {},
   "outputs": [],
   "source": [
    "df = df.fillna({'occupation': df['occupation'].mode()[0]})"
   ]
  },
  {
   "cell_type": "code",
   "execution_count": 25,
   "id": "a50274a9",
   "metadata": {},
   "outputs": [
    {
     "data": {
      "text/plain": [
       "0    Husband\n",
       "Name: relationship, dtype: object"
      ]
     },
     "execution_count": 25,
     "metadata": {},
     "output_type": "execute_result"
    }
   ],
   "source": [
    "df.relationship.mode()"
   ]
  },
  {
   "cell_type": "code",
   "execution_count": 26,
   "id": "f3ae887d",
   "metadata": {},
   "outputs": [],
   "source": [
    "df = df.fillna({'relationship': df['relationship'].mode()[0]})"
   ]
  },
  {
   "cell_type": "code",
   "execution_count": 27,
   "id": "e8c76eeb",
   "metadata": {},
   "outputs": [
    {
     "data": {
      "text/plain": [
       "40.0"
      ]
     },
     "execution_count": 27,
     "metadata": {},
     "output_type": "execute_result"
    }
   ],
   "source": [
    "df['hours-per-week'].median()"
   ]
  },
  {
   "cell_type": "code",
   "execution_count": 28,
   "id": "bd00dcb0",
   "metadata": {},
   "outputs": [
    {
     "data": {
      "text/plain": [
       "40.42282648757115"
      ]
     },
     "execution_count": 28,
     "metadata": {},
     "output_type": "execute_result"
    }
   ],
   "source": [
    "df['hours-per-week'].mean()"
   ]
  },
  {
   "cell_type": "code",
   "execution_count": 29,
   "id": "30f05f22",
   "metadata": {},
   "outputs": [],
   "source": [
    "df = df.fillna({'hours-per-week': df['hours-per-week'].median()})"
   ]
  },
  {
   "cell_type": "code",
   "execution_count": 30,
   "id": "41532813",
   "metadata": {},
   "outputs": [
    {
     "data": {
      "text/plain": [
       "array(['Black', 'White', 'Asian-Pac-Islander', 'Other',\n",
       "       'Amer-Indian-Eskimo'], dtype=object)"
      ]
     },
     "execution_count": 30,
     "metadata": {},
     "output_type": "execute_result"
    }
   ],
   "source": [
    "df['race'].unique()"
   ]
  },
  {
   "cell_type": "code",
   "execution_count": 31,
   "id": "e91483ac",
   "metadata": {},
   "outputs": [
    {
     "data": {
      "text/plain": [
       "array(['United-States', '?', 'Peru', 'Guatemala', 'Mexico',\n",
       "       'Dominican-Republic', 'Ireland', 'Germany', 'Philippines',\n",
       "       'Thailand', 'Haiti', 'El-Salvador', 'Puerto-Rico', 'Vietnam',\n",
       "       'South', 'Columbia', 'Japan', 'India', 'Cambodia', 'Poland',\n",
       "       'Laos', 'England', 'Cuba', 'Taiwan', 'Italy', 'Canada', 'Portugal',\n",
       "       'China', 'Nicaragua', 'Honduras', 'Iran', 'Scotland', 'Jamaica',\n",
       "       'Ecuador', 'Yugoslavia', 'Hungary', 'Hong', 'Greece',\n",
       "       'Trinadad&Tobago', 'Outlying-US(Guam-USVI-etc)', 'France',\n",
       "       'Holand-Netherlands'], dtype=object)"
      ]
     },
     "execution_count": 31,
     "metadata": {},
     "output_type": "execute_result"
    }
   ],
   "source": [
    "df['native-country'].unique()"
   ]
  },
  {
   "cell_type": "code",
   "execution_count": 32,
   "id": "e28475d6",
   "metadata": {},
   "outputs": [],
   "source": [
    "df['native-country'] = df['native-country'].replace('?', np.nan)"
   ]
  },
  {
   "cell_type": "code",
   "execution_count": 33,
   "id": "a2a208aa",
   "metadata": {},
   "outputs": [
    {
     "data": {
      "text/plain": [
       "array(['United-States', nan, 'Peru', 'Guatemala', 'Mexico',\n",
       "       'Dominican-Republic', 'Ireland', 'Germany', 'Philippines',\n",
       "       'Thailand', 'Haiti', 'El-Salvador', 'Puerto-Rico', 'Vietnam',\n",
       "       'South', 'Columbia', 'Japan', 'India', 'Cambodia', 'Poland',\n",
       "       'Laos', 'England', 'Cuba', 'Taiwan', 'Italy', 'Canada', 'Portugal',\n",
       "       'China', 'Nicaragua', 'Honduras', 'Iran', 'Scotland', 'Jamaica',\n",
       "       'Ecuador', 'Yugoslavia', 'Hungary', 'Hong', 'Greece',\n",
       "       'Trinadad&Tobago', 'Outlying-US(Guam-USVI-etc)', 'France',\n",
       "       'Holand-Netherlands'], dtype=object)"
      ]
     },
     "execution_count": 33,
     "metadata": {},
     "output_type": "execute_result"
    }
   ],
   "source": [
    "df['native-country'].unique()"
   ]
  },
  {
   "cell_type": "code",
   "execution_count": 34,
   "id": "74a14bd3",
   "metadata": {},
   "outputs": [
    {
     "data": {
      "text/plain": [
       "0    United-States\n",
       "Name: native-country, dtype: object"
      ]
     },
     "execution_count": 34,
     "metadata": {},
     "output_type": "execute_result"
    }
   ],
   "source": [
    "df['native-country'].mode()"
   ]
  },
  {
   "cell_type": "code",
   "execution_count": 35,
   "id": "70b9f6df",
   "metadata": {},
   "outputs": [],
   "source": [
    "df = df.fillna({'native-country': df['native-country'].mode()[0]})"
   ]
  },
  {
   "cell_type": "code",
   "execution_count": 36,
   "id": "c0eb3c8f",
   "metadata": {},
   "outputs": [
    {
     "data": {
      "text/plain": [
       "age                0\n",
       "workclass          0\n",
       "fnlwgt             0\n",
       "education          0\n",
       "educational-num    0\n",
       "marital-status     0\n",
       "occupation         0\n",
       "relationship       0\n",
       "race               0\n",
       "gender             0\n",
       "capital-gain       0\n",
       "capital-loss       0\n",
       "hours-per-week     0\n",
       "native-country     0\n",
       "income             0\n",
       "dtype: int64"
      ]
     },
     "execution_count": 36,
     "metadata": {},
     "output_type": "execute_result"
    }
   ],
   "source": [
    "df.isnull().sum()"
   ]
  },
  {
   "cell_type": "markdown",
   "id": "bcb5e957",
   "metadata": {},
   "source": [
    "##  Our data is now null-value free."
   ]
  },
  {
   "cell_type": "markdown",
   "id": "905ebcae",
   "metadata": {},
   "source": [
    "## Duplicate Data Removal:"
   ]
  },
  {
   "cell_type": "code",
   "execution_count": 37,
   "id": "5801557b",
   "metadata": {},
   "outputs": [
    {
     "data": {
      "text/plain": [
       "0        False\n",
       "1        False\n",
       "2        False\n",
       "3        False\n",
       "4        False\n",
       "         ...  \n",
       "48837    False\n",
       "48838    False\n",
       "48839    False\n",
       "48840    False\n",
       "48841    False\n",
       "Length: 48842, dtype: bool"
      ]
     },
     "execution_count": 37,
     "metadata": {},
     "output_type": "execute_result"
    }
   ],
   "source": [
    "df.duplicated()"
   ]
  },
  {
   "cell_type": "code",
   "execution_count": 38,
   "id": "1da2c31b",
   "metadata": {},
   "outputs": [],
   "source": [
    "df.drop_duplicates(inplace = True)"
   ]
  },
  {
   "cell_type": "code",
   "execution_count": 39,
   "id": "23164934",
   "metadata": {},
   "outputs": [],
   "source": [
    "df.reset_index(drop = True, inplace = True)"
   ]
  },
  {
   "cell_type": "code",
   "execution_count": 40,
   "id": "00adca91",
   "metadata": {},
   "outputs": [
    {
     "data": {
      "text/html": [
       "<div>\n",
       "<style scoped>\n",
       "    .dataframe tbody tr th:only-of-type {\n",
       "        vertical-align: middle;\n",
       "    }\n",
       "\n",
       "    .dataframe tbody tr th {\n",
       "        vertical-align: top;\n",
       "    }\n",
       "\n",
       "    .dataframe thead th {\n",
       "        text-align: right;\n",
       "    }\n",
       "</style>\n",
       "<table border=\"1\" class=\"dataframe\">\n",
       "  <thead>\n",
       "    <tr style=\"text-align: right;\">\n",
       "      <th></th>\n",
       "      <th>age</th>\n",
       "      <th>workclass</th>\n",
       "      <th>fnlwgt</th>\n",
       "      <th>education</th>\n",
       "      <th>educational-num</th>\n",
       "      <th>marital-status</th>\n",
       "      <th>occupation</th>\n",
       "      <th>relationship</th>\n",
       "      <th>race</th>\n",
       "      <th>gender</th>\n",
       "      <th>capital-gain</th>\n",
       "      <th>capital-loss</th>\n",
       "      <th>hours-per-week</th>\n",
       "      <th>native-country</th>\n",
       "      <th>income</th>\n",
       "    </tr>\n",
       "  </thead>\n",
       "  <tbody>\n",
       "    <tr>\n",
       "      <th>0</th>\n",
       "      <td>25.0</td>\n",
       "      <td>Private</td>\n",
       "      <td>226802</td>\n",
       "      <td>11th</td>\n",
       "      <td>7.0</td>\n",
       "      <td>Never-married</td>\n",
       "      <td>Machine-op-inspct</td>\n",
       "      <td>Own-child</td>\n",
       "      <td>Black</td>\n",
       "      <td>Male</td>\n",
       "      <td>0</td>\n",
       "      <td>0</td>\n",
       "      <td>40.0</td>\n",
       "      <td>United-States</td>\n",
       "      <td>&lt;=50K</td>\n",
       "    </tr>\n",
       "    <tr>\n",
       "      <th>1</th>\n",
       "      <td>38.0</td>\n",
       "      <td>Private</td>\n",
       "      <td>89814</td>\n",
       "      <td>HS-grad</td>\n",
       "      <td>9.0</td>\n",
       "      <td>Married-civ-spouse</td>\n",
       "      <td>Farming-fishing</td>\n",
       "      <td>Husband</td>\n",
       "      <td>White</td>\n",
       "      <td>Male</td>\n",
       "      <td>0</td>\n",
       "      <td>0</td>\n",
       "      <td>50.0</td>\n",
       "      <td>United-States</td>\n",
       "      <td>&lt;=50K</td>\n",
       "    </tr>\n",
       "    <tr>\n",
       "      <th>2</th>\n",
       "      <td>28.0</td>\n",
       "      <td>Local-gov</td>\n",
       "      <td>336951</td>\n",
       "      <td>Assoc-acdm</td>\n",
       "      <td>12.0</td>\n",
       "      <td>Married-civ-spouse</td>\n",
       "      <td>Protective-serv</td>\n",
       "      <td>Husband</td>\n",
       "      <td>White</td>\n",
       "      <td>Male</td>\n",
       "      <td>0</td>\n",
       "      <td>0</td>\n",
       "      <td>40.0</td>\n",
       "      <td>United-States</td>\n",
       "      <td>&gt;50K</td>\n",
       "    </tr>\n",
       "    <tr>\n",
       "      <th>3</th>\n",
       "      <td>44.0</td>\n",
       "      <td>Private</td>\n",
       "      <td>160323</td>\n",
       "      <td>Some-college</td>\n",
       "      <td>10.0</td>\n",
       "      <td>Married-civ-spouse</td>\n",
       "      <td>Machine-op-inspct</td>\n",
       "      <td>Husband</td>\n",
       "      <td>Black</td>\n",
       "      <td>Male</td>\n",
       "      <td>7688</td>\n",
       "      <td>0</td>\n",
       "      <td>40.0</td>\n",
       "      <td>United-States</td>\n",
       "      <td>&gt;50K</td>\n",
       "    </tr>\n",
       "    <tr>\n",
       "      <th>4</th>\n",
       "      <td>18.0</td>\n",
       "      <td>Private</td>\n",
       "      <td>103497</td>\n",
       "      <td>Some-college</td>\n",
       "      <td>10.0</td>\n",
       "      <td>Never-married</td>\n",
       "      <td>Prof-specialty</td>\n",
       "      <td>Own-child</td>\n",
       "      <td>White</td>\n",
       "      <td>Female</td>\n",
       "      <td>0</td>\n",
       "      <td>0</td>\n",
       "      <td>30.0</td>\n",
       "      <td>United-States</td>\n",
       "      <td>&lt;=50K</td>\n",
       "    </tr>\n",
       "    <tr>\n",
       "      <th>...</th>\n",
       "      <td>...</td>\n",
       "      <td>...</td>\n",
       "      <td>...</td>\n",
       "      <td>...</td>\n",
       "      <td>...</td>\n",
       "      <td>...</td>\n",
       "      <td>...</td>\n",
       "      <td>...</td>\n",
       "      <td>...</td>\n",
       "      <td>...</td>\n",
       "      <td>...</td>\n",
       "      <td>...</td>\n",
       "      <td>...</td>\n",
       "      <td>...</td>\n",
       "      <td>...</td>\n",
       "    </tr>\n",
       "    <tr>\n",
       "      <th>48784</th>\n",
       "      <td>27.0</td>\n",
       "      <td>Private</td>\n",
       "      <td>257302</td>\n",
       "      <td>Assoc-acdm</td>\n",
       "      <td>12.0</td>\n",
       "      <td>Married-civ-spouse</td>\n",
       "      <td>Tech-support</td>\n",
       "      <td>Wife</td>\n",
       "      <td>White</td>\n",
       "      <td>Female</td>\n",
       "      <td>0</td>\n",
       "      <td>0</td>\n",
       "      <td>38.0</td>\n",
       "      <td>United-States</td>\n",
       "      <td>&lt;=50K</td>\n",
       "    </tr>\n",
       "    <tr>\n",
       "      <th>48785</th>\n",
       "      <td>40.0</td>\n",
       "      <td>Private</td>\n",
       "      <td>154374</td>\n",
       "      <td>HS-grad</td>\n",
       "      <td>9.0</td>\n",
       "      <td>Married-civ-spouse</td>\n",
       "      <td>Machine-op-inspct</td>\n",
       "      <td>Husband</td>\n",
       "      <td>White</td>\n",
       "      <td>Male</td>\n",
       "      <td>0</td>\n",
       "      <td>0</td>\n",
       "      <td>40.0</td>\n",
       "      <td>United-States</td>\n",
       "      <td>&gt;50K</td>\n",
       "    </tr>\n",
       "    <tr>\n",
       "      <th>48786</th>\n",
       "      <td>58.0</td>\n",
       "      <td>Private</td>\n",
       "      <td>151910</td>\n",
       "      <td>HS-grad</td>\n",
       "      <td>9.0</td>\n",
       "      <td>Widowed</td>\n",
       "      <td>Adm-clerical</td>\n",
       "      <td>Unmarried</td>\n",
       "      <td>White</td>\n",
       "      <td>Female</td>\n",
       "      <td>0</td>\n",
       "      <td>0</td>\n",
       "      <td>40.0</td>\n",
       "      <td>United-States</td>\n",
       "      <td>&lt;=50K</td>\n",
       "    </tr>\n",
       "    <tr>\n",
       "      <th>48787</th>\n",
       "      <td>22.0</td>\n",
       "      <td>Private</td>\n",
       "      <td>201490</td>\n",
       "      <td>HS-grad</td>\n",
       "      <td>9.0</td>\n",
       "      <td>Never-married</td>\n",
       "      <td>Adm-clerical</td>\n",
       "      <td>Own-child</td>\n",
       "      <td>White</td>\n",
       "      <td>Male</td>\n",
       "      <td>0</td>\n",
       "      <td>0</td>\n",
       "      <td>20.0</td>\n",
       "      <td>United-States</td>\n",
       "      <td>&lt;=50K</td>\n",
       "    </tr>\n",
       "    <tr>\n",
       "      <th>48788</th>\n",
       "      <td>52.0</td>\n",
       "      <td>Self-emp-inc</td>\n",
       "      <td>287927</td>\n",
       "      <td>HS-grad</td>\n",
       "      <td>9.0</td>\n",
       "      <td>Married-civ-spouse</td>\n",
       "      <td>Exec-managerial</td>\n",
       "      <td>Wife</td>\n",
       "      <td>White</td>\n",
       "      <td>Female</td>\n",
       "      <td>15024</td>\n",
       "      <td>0</td>\n",
       "      <td>40.0</td>\n",
       "      <td>United-States</td>\n",
       "      <td>&gt;50K</td>\n",
       "    </tr>\n",
       "  </tbody>\n",
       "</table>\n",
       "<p>48789 rows × 15 columns</p>\n",
       "</div>"
      ],
      "text/plain": [
       "        age     workclass  fnlwgt     education  educational-num  \\\n",
       "0      25.0       Private  226802          11th              7.0   \n",
       "1      38.0       Private   89814       HS-grad              9.0   \n",
       "2      28.0     Local-gov  336951    Assoc-acdm             12.0   \n",
       "3      44.0       Private  160323  Some-college             10.0   \n",
       "4      18.0       Private  103497  Some-college             10.0   \n",
       "...     ...           ...     ...           ...              ...   \n",
       "48784  27.0       Private  257302    Assoc-acdm             12.0   \n",
       "48785  40.0       Private  154374       HS-grad              9.0   \n",
       "48786  58.0       Private  151910       HS-grad              9.0   \n",
       "48787  22.0       Private  201490       HS-grad              9.0   \n",
       "48788  52.0  Self-emp-inc  287927       HS-grad              9.0   \n",
       "\n",
       "           marital-status         occupation relationship   race  gender  \\\n",
       "0           Never-married  Machine-op-inspct    Own-child  Black    Male   \n",
       "1      Married-civ-spouse    Farming-fishing      Husband  White    Male   \n",
       "2      Married-civ-spouse    Protective-serv      Husband  White    Male   \n",
       "3      Married-civ-spouse  Machine-op-inspct      Husband  Black    Male   \n",
       "4           Never-married     Prof-specialty    Own-child  White  Female   \n",
       "...                   ...                ...          ...    ...     ...   \n",
       "48784  Married-civ-spouse       Tech-support         Wife  White  Female   \n",
       "48785  Married-civ-spouse  Machine-op-inspct      Husband  White    Male   \n",
       "48786             Widowed       Adm-clerical    Unmarried  White  Female   \n",
       "48787       Never-married       Adm-clerical    Own-child  White    Male   \n",
       "48788  Married-civ-spouse    Exec-managerial         Wife  White  Female   \n",
       "\n",
       "       capital-gain  capital-loss  hours-per-week native-country income  \n",
       "0                 0             0            40.0  United-States  <=50K  \n",
       "1                 0             0            50.0  United-States  <=50K  \n",
       "2                 0             0            40.0  United-States   >50K  \n",
       "3              7688             0            40.0  United-States   >50K  \n",
       "4                 0             0            30.0  United-States  <=50K  \n",
       "...             ...           ...             ...            ...    ...  \n",
       "48784             0             0            38.0  United-States  <=50K  \n",
       "48785             0             0            40.0  United-States   >50K  \n",
       "48786             0             0            40.0  United-States  <=50K  \n",
       "48787             0             0            20.0  United-States  <=50K  \n",
       "48788         15024             0            40.0  United-States   >50K  \n",
       "\n",
       "[48789 rows x 15 columns]"
      ]
     },
     "execution_count": 40,
     "metadata": {},
     "output_type": "execute_result"
    }
   ],
   "source": [
    "df"
   ]
  },
  {
   "cell_type": "markdown",
   "id": "23612c49",
   "metadata": {},
   "source": [
    "## Typecasting the data types"
   ]
  },
  {
   "cell_type": "code",
   "execution_count": 45,
   "id": "7766ee5a",
   "metadata": {},
   "outputs": [],
   "source": [
    "df['age'] = df['age'].astype('int')"
   ]
  },
  {
   "cell_type": "code",
   "execution_count": 46,
   "id": "dab727a7",
   "metadata": {},
   "outputs": [],
   "source": [
    "df['educational-num'] = df['educational-num'].astype('int')"
   ]
  },
  {
   "cell_type": "code",
   "execution_count": 47,
   "id": "dfc5c39f",
   "metadata": {},
   "outputs": [
    {
     "name": "stdout",
     "output_type": "stream",
     "text": [
      "<class 'pandas.core.frame.DataFrame'>\n",
      "RangeIndex: 48789 entries, 0 to 48788\n",
      "Data columns (total 15 columns):\n",
      " #   Column           Non-Null Count  Dtype  \n",
      "---  ------           --------------  -----  \n",
      " 0   age              48789 non-null  int32  \n",
      " 1   workclass        48789 non-null  object \n",
      " 2   fnlwgt           48789 non-null  int64  \n",
      " 3   education        48789 non-null  object \n",
      " 4   educational-num  48789 non-null  int32  \n",
      " 5   marital-status   48789 non-null  object \n",
      " 6   occupation       48789 non-null  object \n",
      " 7   relationship     48789 non-null  object \n",
      " 8   race             48789 non-null  object \n",
      " 9   gender           48789 non-null  object \n",
      " 10  capital-gain     48789 non-null  int64  \n",
      " 11  capital-loss     48789 non-null  int64  \n",
      " 12  hours-per-week   48789 non-null  float64\n",
      " 13  native-country   48789 non-null  object \n",
      " 14  income           48789 non-null  object \n",
      "dtypes: float64(1), int32(2), int64(3), object(9)\n",
      "memory usage: 5.2+ MB\n"
     ]
    }
   ],
   "source": [
    "df.info()"
   ]
  },
  {
   "cell_type": "code",
   "execution_count": 48,
   "id": "2b7ac09c",
   "metadata": {},
   "outputs": [],
   "source": [
    "df['hours-per-week'] = df['hours-per-week'].astype('int')"
   ]
  },
  {
   "cell_type": "code",
   "execution_count": 49,
   "id": "3302b2a6",
   "metadata": {},
   "outputs": [
    {
     "data": {
      "text/plain": [
       "array(['<=50K', '>50K'], dtype=object)"
      ]
     },
     "execution_count": 49,
     "metadata": {},
     "output_type": "execute_result"
    }
   ],
   "source": [
    "df['income'].unique()"
   ]
  },
  {
   "cell_type": "code",
   "execution_count": 50,
   "id": "50efe285",
   "metadata": {},
   "outputs": [],
   "source": [
    "df['income'] = df['income'].replace('<=50K', 0)"
   ]
  },
  {
   "cell_type": "code",
   "execution_count": 51,
   "id": "18e9cea0",
   "metadata": {},
   "outputs": [],
   "source": [
    "df['income'] = df['income'].replace('>50K', 1)"
   ]
  },
  {
   "cell_type": "code",
   "execution_count": 52,
   "id": "50effa35",
   "metadata": {},
   "outputs": [],
   "source": [
    "df['income_>_50K'] = df['income']"
   ]
  },
  {
   "cell_type": "code",
   "execution_count": 53,
   "id": "a4d5a7f0",
   "metadata": {},
   "outputs": [],
   "source": [
    "df = df.drop(['income'], axis = 1)"
   ]
  },
  {
   "cell_type": "code",
   "execution_count": 54,
   "id": "46a88db9",
   "metadata": {},
   "outputs": [
    {
     "data": {
      "text/html": [
       "<div>\n",
       "<style scoped>\n",
       "    .dataframe tbody tr th:only-of-type {\n",
       "        vertical-align: middle;\n",
       "    }\n",
       "\n",
       "    .dataframe tbody tr th {\n",
       "        vertical-align: top;\n",
       "    }\n",
       "\n",
       "    .dataframe thead th {\n",
       "        text-align: right;\n",
       "    }\n",
       "</style>\n",
       "<table border=\"1\" class=\"dataframe\">\n",
       "  <thead>\n",
       "    <tr style=\"text-align: right;\">\n",
       "      <th></th>\n",
       "      <th>age</th>\n",
       "      <th>workclass</th>\n",
       "      <th>fnlwgt</th>\n",
       "      <th>education</th>\n",
       "      <th>educational-num</th>\n",
       "      <th>marital-status</th>\n",
       "      <th>occupation</th>\n",
       "      <th>relationship</th>\n",
       "      <th>race</th>\n",
       "      <th>gender</th>\n",
       "      <th>capital-gain</th>\n",
       "      <th>capital-loss</th>\n",
       "      <th>hours-per-week</th>\n",
       "      <th>native-country</th>\n",
       "      <th>income_&gt;_50K</th>\n",
       "    </tr>\n",
       "  </thead>\n",
       "  <tbody>\n",
       "    <tr>\n",
       "      <th>0</th>\n",
       "      <td>25</td>\n",
       "      <td>Private</td>\n",
       "      <td>226802</td>\n",
       "      <td>11th</td>\n",
       "      <td>7</td>\n",
       "      <td>Never-married</td>\n",
       "      <td>Machine-op-inspct</td>\n",
       "      <td>Own-child</td>\n",
       "      <td>Black</td>\n",
       "      <td>Male</td>\n",
       "      <td>0</td>\n",
       "      <td>0</td>\n",
       "      <td>40</td>\n",
       "      <td>United-States</td>\n",
       "      <td>0</td>\n",
       "    </tr>\n",
       "    <tr>\n",
       "      <th>1</th>\n",
       "      <td>38</td>\n",
       "      <td>Private</td>\n",
       "      <td>89814</td>\n",
       "      <td>HS-grad</td>\n",
       "      <td>9</td>\n",
       "      <td>Married-civ-spouse</td>\n",
       "      <td>Farming-fishing</td>\n",
       "      <td>Husband</td>\n",
       "      <td>White</td>\n",
       "      <td>Male</td>\n",
       "      <td>0</td>\n",
       "      <td>0</td>\n",
       "      <td>50</td>\n",
       "      <td>United-States</td>\n",
       "      <td>0</td>\n",
       "    </tr>\n",
       "    <tr>\n",
       "      <th>2</th>\n",
       "      <td>28</td>\n",
       "      <td>Local-gov</td>\n",
       "      <td>336951</td>\n",
       "      <td>Assoc-acdm</td>\n",
       "      <td>12</td>\n",
       "      <td>Married-civ-spouse</td>\n",
       "      <td>Protective-serv</td>\n",
       "      <td>Husband</td>\n",
       "      <td>White</td>\n",
       "      <td>Male</td>\n",
       "      <td>0</td>\n",
       "      <td>0</td>\n",
       "      <td>40</td>\n",
       "      <td>United-States</td>\n",
       "      <td>1</td>\n",
       "    </tr>\n",
       "    <tr>\n",
       "      <th>3</th>\n",
       "      <td>44</td>\n",
       "      <td>Private</td>\n",
       "      <td>160323</td>\n",
       "      <td>Some-college</td>\n",
       "      <td>10</td>\n",
       "      <td>Married-civ-spouse</td>\n",
       "      <td>Machine-op-inspct</td>\n",
       "      <td>Husband</td>\n",
       "      <td>Black</td>\n",
       "      <td>Male</td>\n",
       "      <td>7688</td>\n",
       "      <td>0</td>\n",
       "      <td>40</td>\n",
       "      <td>United-States</td>\n",
       "      <td>1</td>\n",
       "    </tr>\n",
       "    <tr>\n",
       "      <th>4</th>\n",
       "      <td>18</td>\n",
       "      <td>Private</td>\n",
       "      <td>103497</td>\n",
       "      <td>Some-college</td>\n",
       "      <td>10</td>\n",
       "      <td>Never-married</td>\n",
       "      <td>Prof-specialty</td>\n",
       "      <td>Own-child</td>\n",
       "      <td>White</td>\n",
       "      <td>Female</td>\n",
       "      <td>0</td>\n",
       "      <td>0</td>\n",
       "      <td>30</td>\n",
       "      <td>United-States</td>\n",
       "      <td>0</td>\n",
       "    </tr>\n",
       "    <tr>\n",
       "      <th>...</th>\n",
       "      <td>...</td>\n",
       "      <td>...</td>\n",
       "      <td>...</td>\n",
       "      <td>...</td>\n",
       "      <td>...</td>\n",
       "      <td>...</td>\n",
       "      <td>...</td>\n",
       "      <td>...</td>\n",
       "      <td>...</td>\n",
       "      <td>...</td>\n",
       "      <td>...</td>\n",
       "      <td>...</td>\n",
       "      <td>...</td>\n",
       "      <td>...</td>\n",
       "      <td>...</td>\n",
       "    </tr>\n",
       "    <tr>\n",
       "      <th>48784</th>\n",
       "      <td>27</td>\n",
       "      <td>Private</td>\n",
       "      <td>257302</td>\n",
       "      <td>Assoc-acdm</td>\n",
       "      <td>12</td>\n",
       "      <td>Married-civ-spouse</td>\n",
       "      <td>Tech-support</td>\n",
       "      <td>Wife</td>\n",
       "      <td>White</td>\n",
       "      <td>Female</td>\n",
       "      <td>0</td>\n",
       "      <td>0</td>\n",
       "      <td>38</td>\n",
       "      <td>United-States</td>\n",
       "      <td>0</td>\n",
       "    </tr>\n",
       "    <tr>\n",
       "      <th>48785</th>\n",
       "      <td>40</td>\n",
       "      <td>Private</td>\n",
       "      <td>154374</td>\n",
       "      <td>HS-grad</td>\n",
       "      <td>9</td>\n",
       "      <td>Married-civ-spouse</td>\n",
       "      <td>Machine-op-inspct</td>\n",
       "      <td>Husband</td>\n",
       "      <td>White</td>\n",
       "      <td>Male</td>\n",
       "      <td>0</td>\n",
       "      <td>0</td>\n",
       "      <td>40</td>\n",
       "      <td>United-States</td>\n",
       "      <td>1</td>\n",
       "    </tr>\n",
       "    <tr>\n",
       "      <th>48786</th>\n",
       "      <td>58</td>\n",
       "      <td>Private</td>\n",
       "      <td>151910</td>\n",
       "      <td>HS-grad</td>\n",
       "      <td>9</td>\n",
       "      <td>Widowed</td>\n",
       "      <td>Adm-clerical</td>\n",
       "      <td>Unmarried</td>\n",
       "      <td>White</td>\n",
       "      <td>Female</td>\n",
       "      <td>0</td>\n",
       "      <td>0</td>\n",
       "      <td>40</td>\n",
       "      <td>United-States</td>\n",
       "      <td>0</td>\n",
       "    </tr>\n",
       "    <tr>\n",
       "      <th>48787</th>\n",
       "      <td>22</td>\n",
       "      <td>Private</td>\n",
       "      <td>201490</td>\n",
       "      <td>HS-grad</td>\n",
       "      <td>9</td>\n",
       "      <td>Never-married</td>\n",
       "      <td>Adm-clerical</td>\n",
       "      <td>Own-child</td>\n",
       "      <td>White</td>\n",
       "      <td>Male</td>\n",
       "      <td>0</td>\n",
       "      <td>0</td>\n",
       "      <td>20</td>\n",
       "      <td>United-States</td>\n",
       "      <td>0</td>\n",
       "    </tr>\n",
       "    <tr>\n",
       "      <th>48788</th>\n",
       "      <td>52</td>\n",
       "      <td>Self-emp-inc</td>\n",
       "      <td>287927</td>\n",
       "      <td>HS-grad</td>\n",
       "      <td>9</td>\n",
       "      <td>Married-civ-spouse</td>\n",
       "      <td>Exec-managerial</td>\n",
       "      <td>Wife</td>\n",
       "      <td>White</td>\n",
       "      <td>Female</td>\n",
       "      <td>15024</td>\n",
       "      <td>0</td>\n",
       "      <td>40</td>\n",
       "      <td>United-States</td>\n",
       "      <td>1</td>\n",
       "    </tr>\n",
       "  </tbody>\n",
       "</table>\n",
       "<p>48789 rows × 15 columns</p>\n",
       "</div>"
      ],
      "text/plain": [
       "       age     workclass  fnlwgt     education  educational-num  \\\n",
       "0       25       Private  226802          11th                7   \n",
       "1       38       Private   89814       HS-grad                9   \n",
       "2       28     Local-gov  336951    Assoc-acdm               12   \n",
       "3       44       Private  160323  Some-college               10   \n",
       "4       18       Private  103497  Some-college               10   \n",
       "...    ...           ...     ...           ...              ...   \n",
       "48784   27       Private  257302    Assoc-acdm               12   \n",
       "48785   40       Private  154374       HS-grad                9   \n",
       "48786   58       Private  151910       HS-grad                9   \n",
       "48787   22       Private  201490       HS-grad                9   \n",
       "48788   52  Self-emp-inc  287927       HS-grad                9   \n",
       "\n",
       "           marital-status         occupation relationship   race  gender  \\\n",
       "0           Never-married  Machine-op-inspct    Own-child  Black    Male   \n",
       "1      Married-civ-spouse    Farming-fishing      Husband  White    Male   \n",
       "2      Married-civ-spouse    Protective-serv      Husband  White    Male   \n",
       "3      Married-civ-spouse  Machine-op-inspct      Husband  Black    Male   \n",
       "4           Never-married     Prof-specialty    Own-child  White  Female   \n",
       "...                   ...                ...          ...    ...     ...   \n",
       "48784  Married-civ-spouse       Tech-support         Wife  White  Female   \n",
       "48785  Married-civ-spouse  Machine-op-inspct      Husband  White    Male   \n",
       "48786             Widowed       Adm-clerical    Unmarried  White  Female   \n",
       "48787       Never-married       Adm-clerical    Own-child  White    Male   \n",
       "48788  Married-civ-spouse    Exec-managerial         Wife  White  Female   \n",
       "\n",
       "       capital-gain  capital-loss  hours-per-week native-country  income_>_50K  \n",
       "0                 0             0              40  United-States             0  \n",
       "1                 0             0              50  United-States             0  \n",
       "2                 0             0              40  United-States             1  \n",
       "3              7688             0              40  United-States             1  \n",
       "4                 0             0              30  United-States             0  \n",
       "...             ...           ...             ...            ...           ...  \n",
       "48784             0             0              38  United-States             0  \n",
       "48785             0             0              40  United-States             1  \n",
       "48786             0             0              40  United-States             0  \n",
       "48787             0             0              20  United-States             0  \n",
       "48788         15024             0              40  United-States             1  \n",
       "\n",
       "[48789 rows x 15 columns]"
      ]
     },
     "execution_count": 54,
     "metadata": {},
     "output_type": "execute_result"
    }
   ],
   "source": [
    "df"
   ]
  },
  {
   "cell_type": "code",
   "execution_count": 55,
   "id": "16e0c02a",
   "metadata": {},
   "outputs": [
    {
     "name": "stdout",
     "output_type": "stream",
     "text": [
      "<class 'pandas.core.frame.DataFrame'>\n",
      "RangeIndex: 48789 entries, 0 to 48788\n",
      "Data columns (total 15 columns):\n",
      " #   Column           Non-Null Count  Dtype \n",
      "---  ------           --------------  ----- \n",
      " 0   age              48789 non-null  int32 \n",
      " 1   workclass        48789 non-null  object\n",
      " 2   fnlwgt           48789 non-null  int64 \n",
      " 3   education        48789 non-null  object\n",
      " 4   educational-num  48789 non-null  int32 \n",
      " 5   marital-status   48789 non-null  object\n",
      " 6   occupation       48789 non-null  object\n",
      " 7   relationship     48789 non-null  object\n",
      " 8   race             48789 non-null  object\n",
      " 9   gender           48789 non-null  object\n",
      " 10  capital-gain     48789 non-null  int64 \n",
      " 11  capital-loss     48789 non-null  int64 \n",
      " 12  hours-per-week   48789 non-null  int32 \n",
      " 13  native-country   48789 non-null  object\n",
      " 14  income_>_50K     48789 non-null  int64 \n",
      "dtypes: int32(3), int64(4), object(8)\n",
      "memory usage: 5.0+ MB\n"
     ]
    }
   ],
   "source": [
    "df.info()"
   ]
  },
  {
   "cell_type": "markdown",
   "id": "a71ed1fd",
   "metadata": {},
   "source": [
    "## Data Selection:"
   ]
  },
  {
   "cell_type": "code",
   "execution_count": 56,
   "id": "2c6a02c5",
   "metadata": {},
   "outputs": [
    {
     "data": {
      "text/plain": [
       "array([   0, 1721, 1876, 2415, 1887,  625, 1977, 2057, 1429, 1590, 1485,\n",
       "       2051, 2377, 1672, 1628, 1902, 1602, 1741, 2444, 1408, 2001, 2042,\n",
       "       1740, 1825, 1848, 1719, 3004, 2179, 1573, 2205, 1258, 2339, 1726,\n",
       "       2258, 1340, 1504, 2559, 1668, 1974, 1980, 1564, 2547, 2002, 1669,\n",
       "       1617,  323, 3175, 2472, 2174, 1579, 2129, 1510, 1735, 2282, 1870,\n",
       "       1411, 1911, 1651, 1092, 1762, 2457, 2231, 2238,  653, 1138, 2246,\n",
       "       2603, 2392, 1944, 1380, 2465, 1421, 3770, 1594,  213, 2149, 2824,\n",
       "       1844, 2467, 2163, 1816, 1648, 2206, 2352,  419, 1539,  880,  810,\n",
       "        974, 4356, 2489, 1755, 3683, 2267, 2080,  155, 3900, 2201, 2754],\n",
       "      dtype=int64)"
      ]
     },
     "execution_count": 56,
     "metadata": {},
     "output_type": "execute_result"
    }
   ],
   "source": [
    "df['capital-loss'].unique()"
   ]
  },
  {
   "cell_type": "code",
   "execution_count": 57,
   "id": "ee03eb5d",
   "metadata": {},
   "outputs": [
    {
     "data": {
      "text/plain": [
       "array([    0,  7688,  3103,  6418,  7298,  3908, 14084,  5178, 15024,\n",
       "       99999,  2597,  2907,  4650,  6497,  1055,  5013, 27828,  4934,\n",
       "        4064,  3674,  2174, 10605,  3418,   114,  2580,  3411,  4508,\n",
       "        4386,  8614, 13550,  6849,  2463,  3137,  2885,  2964,  1471,\n",
       "       10566,  2354,  1424,  1455,  3325,  4416, 25236,   594,  2105,\n",
       "        4787,  2829,   401,  4865,  1264,  1506, 10520,  3464,  2653,\n",
       "       20051,  4101,  1797,  2407,  3471,  1086,  1848, 14344,  1151,\n",
       "        2993,  2290, 15020,  9386,  2202,  3818,  2176,  5455, 11678,\n",
       "        7978,  7262,  6514, 41310,  3456,  7430,  2414,  2062, 34095,\n",
       "        1831,  6723,  5060, 15831,  2977,  2346,  3273,  2329,  9562,\n",
       "        2635,  4931,  1731,  6097,   914,  7896,  5556,  1409,  3781,\n",
       "        3942,  2538,  3887, 25124,  7443,  5721,  1173,  4687,  6612,\n",
       "        6767,  2961,   991,  2036,  2936,  2050,  1111,  2228, 22040,\n",
       "        3432,  6360,  2009,  1639, 18481,  2387], dtype=int64)"
      ]
     },
     "execution_count": 57,
     "metadata": {},
     "output_type": "execute_result"
    }
   ],
   "source": [
    "df['capital-gain'].unique()"
   ]
  },
  {
   "cell_type": "markdown",
   "id": "9238d40b",
   "metadata": {},
   "source": [
    "# As there is very less data available in both (capital-gain, capital-loss) columns, it is best to drop these columns to increase efficiency of our ML models."
   ]
  },
  {
   "cell_type": "code",
   "execution_count": 58,
   "id": "f21a0ff2",
   "metadata": {},
   "outputs": [],
   "source": [
    "df = df.drop(['capital-gain', 'capital-loss'], axis = 1)"
   ]
  },
  {
   "cell_type": "code",
   "execution_count": 59,
   "id": "9688083e",
   "metadata": {},
   "outputs": [
    {
     "data": {
      "text/html": [
       "<div>\n",
       "<style scoped>\n",
       "    .dataframe tbody tr th:only-of-type {\n",
       "        vertical-align: middle;\n",
       "    }\n",
       "\n",
       "    .dataframe tbody tr th {\n",
       "        vertical-align: top;\n",
       "    }\n",
       "\n",
       "    .dataframe thead th {\n",
       "        text-align: right;\n",
       "    }\n",
       "</style>\n",
       "<table border=\"1\" class=\"dataframe\">\n",
       "  <thead>\n",
       "    <tr style=\"text-align: right;\">\n",
       "      <th></th>\n",
       "      <th>age</th>\n",
       "      <th>workclass</th>\n",
       "      <th>fnlwgt</th>\n",
       "      <th>education</th>\n",
       "      <th>educational-num</th>\n",
       "      <th>marital-status</th>\n",
       "      <th>occupation</th>\n",
       "      <th>relationship</th>\n",
       "      <th>race</th>\n",
       "      <th>gender</th>\n",
       "      <th>hours-per-week</th>\n",
       "      <th>native-country</th>\n",
       "      <th>income_&gt;_50K</th>\n",
       "    </tr>\n",
       "  </thead>\n",
       "  <tbody>\n",
       "    <tr>\n",
       "      <th>0</th>\n",
       "      <td>25</td>\n",
       "      <td>Private</td>\n",
       "      <td>226802</td>\n",
       "      <td>11th</td>\n",
       "      <td>7</td>\n",
       "      <td>Never-married</td>\n",
       "      <td>Machine-op-inspct</td>\n",
       "      <td>Own-child</td>\n",
       "      <td>Black</td>\n",
       "      <td>Male</td>\n",
       "      <td>40</td>\n",
       "      <td>United-States</td>\n",
       "      <td>0</td>\n",
       "    </tr>\n",
       "    <tr>\n",
       "      <th>1</th>\n",
       "      <td>38</td>\n",
       "      <td>Private</td>\n",
       "      <td>89814</td>\n",
       "      <td>HS-grad</td>\n",
       "      <td>9</td>\n",
       "      <td>Married-civ-spouse</td>\n",
       "      <td>Farming-fishing</td>\n",
       "      <td>Husband</td>\n",
       "      <td>White</td>\n",
       "      <td>Male</td>\n",
       "      <td>50</td>\n",
       "      <td>United-States</td>\n",
       "      <td>0</td>\n",
       "    </tr>\n",
       "    <tr>\n",
       "      <th>2</th>\n",
       "      <td>28</td>\n",
       "      <td>Local-gov</td>\n",
       "      <td>336951</td>\n",
       "      <td>Assoc-acdm</td>\n",
       "      <td>12</td>\n",
       "      <td>Married-civ-spouse</td>\n",
       "      <td>Protective-serv</td>\n",
       "      <td>Husband</td>\n",
       "      <td>White</td>\n",
       "      <td>Male</td>\n",
       "      <td>40</td>\n",
       "      <td>United-States</td>\n",
       "      <td>1</td>\n",
       "    </tr>\n",
       "    <tr>\n",
       "      <th>3</th>\n",
       "      <td>44</td>\n",
       "      <td>Private</td>\n",
       "      <td>160323</td>\n",
       "      <td>Some-college</td>\n",
       "      <td>10</td>\n",
       "      <td>Married-civ-spouse</td>\n",
       "      <td>Machine-op-inspct</td>\n",
       "      <td>Husband</td>\n",
       "      <td>Black</td>\n",
       "      <td>Male</td>\n",
       "      <td>40</td>\n",
       "      <td>United-States</td>\n",
       "      <td>1</td>\n",
       "    </tr>\n",
       "    <tr>\n",
       "      <th>4</th>\n",
       "      <td>18</td>\n",
       "      <td>Private</td>\n",
       "      <td>103497</td>\n",
       "      <td>Some-college</td>\n",
       "      <td>10</td>\n",
       "      <td>Never-married</td>\n",
       "      <td>Prof-specialty</td>\n",
       "      <td>Own-child</td>\n",
       "      <td>White</td>\n",
       "      <td>Female</td>\n",
       "      <td>30</td>\n",
       "      <td>United-States</td>\n",
       "      <td>0</td>\n",
       "    </tr>\n",
       "    <tr>\n",
       "      <th>...</th>\n",
       "      <td>...</td>\n",
       "      <td>...</td>\n",
       "      <td>...</td>\n",
       "      <td>...</td>\n",
       "      <td>...</td>\n",
       "      <td>...</td>\n",
       "      <td>...</td>\n",
       "      <td>...</td>\n",
       "      <td>...</td>\n",
       "      <td>...</td>\n",
       "      <td>...</td>\n",
       "      <td>...</td>\n",
       "      <td>...</td>\n",
       "    </tr>\n",
       "    <tr>\n",
       "      <th>48784</th>\n",
       "      <td>27</td>\n",
       "      <td>Private</td>\n",
       "      <td>257302</td>\n",
       "      <td>Assoc-acdm</td>\n",
       "      <td>12</td>\n",
       "      <td>Married-civ-spouse</td>\n",
       "      <td>Tech-support</td>\n",
       "      <td>Wife</td>\n",
       "      <td>White</td>\n",
       "      <td>Female</td>\n",
       "      <td>38</td>\n",
       "      <td>United-States</td>\n",
       "      <td>0</td>\n",
       "    </tr>\n",
       "    <tr>\n",
       "      <th>48785</th>\n",
       "      <td>40</td>\n",
       "      <td>Private</td>\n",
       "      <td>154374</td>\n",
       "      <td>HS-grad</td>\n",
       "      <td>9</td>\n",
       "      <td>Married-civ-spouse</td>\n",
       "      <td>Machine-op-inspct</td>\n",
       "      <td>Husband</td>\n",
       "      <td>White</td>\n",
       "      <td>Male</td>\n",
       "      <td>40</td>\n",
       "      <td>United-States</td>\n",
       "      <td>1</td>\n",
       "    </tr>\n",
       "    <tr>\n",
       "      <th>48786</th>\n",
       "      <td>58</td>\n",
       "      <td>Private</td>\n",
       "      <td>151910</td>\n",
       "      <td>HS-grad</td>\n",
       "      <td>9</td>\n",
       "      <td>Widowed</td>\n",
       "      <td>Adm-clerical</td>\n",
       "      <td>Unmarried</td>\n",
       "      <td>White</td>\n",
       "      <td>Female</td>\n",
       "      <td>40</td>\n",
       "      <td>United-States</td>\n",
       "      <td>0</td>\n",
       "    </tr>\n",
       "    <tr>\n",
       "      <th>48787</th>\n",
       "      <td>22</td>\n",
       "      <td>Private</td>\n",
       "      <td>201490</td>\n",
       "      <td>HS-grad</td>\n",
       "      <td>9</td>\n",
       "      <td>Never-married</td>\n",
       "      <td>Adm-clerical</td>\n",
       "      <td>Own-child</td>\n",
       "      <td>White</td>\n",
       "      <td>Male</td>\n",
       "      <td>20</td>\n",
       "      <td>United-States</td>\n",
       "      <td>0</td>\n",
       "    </tr>\n",
       "    <tr>\n",
       "      <th>48788</th>\n",
       "      <td>52</td>\n",
       "      <td>Self-emp-inc</td>\n",
       "      <td>287927</td>\n",
       "      <td>HS-grad</td>\n",
       "      <td>9</td>\n",
       "      <td>Married-civ-spouse</td>\n",
       "      <td>Exec-managerial</td>\n",
       "      <td>Wife</td>\n",
       "      <td>White</td>\n",
       "      <td>Female</td>\n",
       "      <td>40</td>\n",
       "      <td>United-States</td>\n",
       "      <td>1</td>\n",
       "    </tr>\n",
       "  </tbody>\n",
       "</table>\n",
       "<p>48789 rows × 13 columns</p>\n",
       "</div>"
      ],
      "text/plain": [
       "       age     workclass  fnlwgt     education  educational-num  \\\n",
       "0       25       Private  226802          11th                7   \n",
       "1       38       Private   89814       HS-grad                9   \n",
       "2       28     Local-gov  336951    Assoc-acdm               12   \n",
       "3       44       Private  160323  Some-college               10   \n",
       "4       18       Private  103497  Some-college               10   \n",
       "...    ...           ...     ...           ...              ...   \n",
       "48784   27       Private  257302    Assoc-acdm               12   \n",
       "48785   40       Private  154374       HS-grad                9   \n",
       "48786   58       Private  151910       HS-grad                9   \n",
       "48787   22       Private  201490       HS-grad                9   \n",
       "48788   52  Self-emp-inc  287927       HS-grad                9   \n",
       "\n",
       "           marital-status         occupation relationship   race  gender  \\\n",
       "0           Never-married  Machine-op-inspct    Own-child  Black    Male   \n",
       "1      Married-civ-spouse    Farming-fishing      Husband  White    Male   \n",
       "2      Married-civ-spouse    Protective-serv      Husband  White    Male   \n",
       "3      Married-civ-spouse  Machine-op-inspct      Husband  Black    Male   \n",
       "4           Never-married     Prof-specialty    Own-child  White  Female   \n",
       "...                   ...                ...          ...    ...     ...   \n",
       "48784  Married-civ-spouse       Tech-support         Wife  White  Female   \n",
       "48785  Married-civ-spouse  Machine-op-inspct      Husband  White    Male   \n",
       "48786             Widowed       Adm-clerical    Unmarried  White  Female   \n",
       "48787       Never-married       Adm-clerical    Own-child  White    Male   \n",
       "48788  Married-civ-spouse    Exec-managerial         Wife  White  Female   \n",
       "\n",
       "       hours-per-week native-country  income_>_50K  \n",
       "0                  40  United-States             0  \n",
       "1                  50  United-States             0  \n",
       "2                  40  United-States             1  \n",
       "3                  40  United-States             1  \n",
       "4                  30  United-States             0  \n",
       "...               ...            ...           ...  \n",
       "48784              38  United-States             0  \n",
       "48785              40  United-States             1  \n",
       "48786              40  United-States             0  \n",
       "48787              20  United-States             0  \n",
       "48788              40  United-States             1  \n",
       "\n",
       "[48789 rows x 13 columns]"
      ]
     },
     "execution_count": 59,
     "metadata": {},
     "output_type": "execute_result"
    }
   ],
   "source": [
    "df"
   ]
  },
  {
   "cell_type": "code",
   "execution_count": 72,
   "id": "b084df01",
   "metadata": {},
   "outputs": [
    {
     "data": {
      "image/png": "[encoded data removed]",
      "text/plain": [
       "<Figure size 640x480 with 1 Axes>"
      ]
     },
     "metadata": {},
     "output_type": "display_data"
    }
   ],
   "source": [
    "plt.hist(df['age'], color = 'green', bins = [15,25,35,45,55,65,75, 85, 95], edgecolor = 'black', rwidth = 0.5)\n",
    "plt.show()"
   ]
  },
  {
   "cell_type": "markdown",
   "id": "6ea6ad2c",
   "metadata": {},
   "source": [
    "As shown above The distribution of the Age column is Positively skewed. \n",
    "The people between age 30-50 are more in number in our dataset."
   ]
  },
  {
   "cell_type": "code",
   "execution_count": 76,
   "id": "59f4b98a",
   "metadata": {},
   "outputs": [
    {
     "data": {
      "text/plain": [
       "Text(0.5, 1.0, 'Age Distribution')"
      ]
     },
     "execution_count": 76,
     "metadata": {},
     "output_type": "execute_result"
    },
    {
     "data": {
      "image/png": "[encoded data removed]",
      "text/plain": [
       "<Figure size 500x500 with 1 Axes>"
      ]
     },
     "metadata": {},
     "output_type": "display_data"
    }
   ],
   "source": [
    "sns.displot(df['workclass'], color = 'cyan', height = 5, aspect = 1)\n",
    "plt.xticks(rotation = 45)\n",
    "plt.title('Age Distribution')"
   ]
  },
  {
   "cell_type": "markdown",
   "id": "da9ecf4c",
   "metadata": {},
   "source": [
    "Workclass column is positively skewed. The number of Private category is more."
   ]
  },
  {
   "cell_type": "code",
   "execution_count": 77,
   "id": "96e617b8",
   "metadata": {},
   "outputs": [
    {
     "data": {
      "text/plain": [
       "array(['11th', 'HS-grad', 'Assoc-acdm', 'Some-college', '10th',\n",
       "       'Prof-school', '7th-8th', 'Bachelors', 'Masters', 'Doctorate',\n",
       "       '5th-6th', 'Assoc-voc', '9th', '12th', '1st-4th', 'Preschool'],\n",
       "      dtype=object)"
      ]
     },
     "execution_count": 77,
     "metadata": {},
     "output_type": "execute_result"
    }
   ],
   "source": [
    "df.education.unique()"
   ]
  },
  {
   "cell_type": "code",
   "execution_count": 78,
   "id": "3bef4815",
   "metadata": {},
   "outputs": [],
   "source": [
    "bach = df[df['education'] == 'Bachelors']"
   ]
  },
  {
   "cell_type": "code",
   "execution_count": 79,
   "id": "ac397d90",
   "metadata": {},
   "outputs": [],
   "source": [
    "mast = df[df['education'] == 'Masters']"
   ]
  },
  {
   "cell_type": "code",
   "execution_count": 80,
   "id": "baa23deb",
   "metadata": {},
   "outputs": [],
   "source": [
    "total_no = pd.concat([bach,mast], ignore_index = True)"
   ]
  },
  {
   "cell_type": "code",
   "execution_count": 81,
   "id": "b86d84a3",
   "metadata": {},
   "outputs": [
    {
     "data": {
      "text/plain": [
       "10669"
      ]
     },
     "execution_count": 81,
     "metadata": {},
     "output_type": "execute_result"
    }
   ],
   "source": [
    "total_no['education'].count()"
   ]
  },
  {
   "cell_type": "markdown",
   "id": "298a3cd3",
   "metadata": {},
   "source": [
    "# There are total 10669 people/person who have Bachelors or Masters degree."
   ]
  },
  {
   "cell_type": "code",
   "execution_count": 82,
   "id": "87369611",
   "metadata": {},
   "outputs": [
    {
     "data": {
      "text/plain": [
       "Text(0.5, 1.0, 'No. of People')"
      ]
     },
     "execution_count": 82,
     "metadata": {},
     "output_type": "execute_result"
    },
    {
     "data": {
      "image/png": "[encoded data removed]",
      "text/plain": [
       "<Figure size 500x500 with 1 Axes>"
      ]
     },
     "metadata": {},
     "output_type": "display_data"
    }
   ],
   "source": [
    "sns.displot(df['education'], color = 'purple')\n",
    "plt.xticks(rotation = 60)\n",
    "plt.title('No. of People')"
   ]
  },
  {
   "cell_type": "markdown",
   "id": "a26a0868",
   "metadata": {},
   "source": [
    "## Work class Getting The Highest Salary."
   ]
  },
  {
   "cell_type": "code",
   "execution_count": 4,
   "id": "3ade622e",
   "metadata": {},
   "outputs": [
    {
     "data": {
      "image/png": "[encoded data removed]",
      "text/plain": [
       "<Figure size 800x800 with 1 Axes>"
      ]
     },
     "metadata": {},
     "output_type": "display_data"
    }
   ],
   "source": [
    "import matplotlib.pyplot as plt\n",
    "\n",
    "labels = ['Private', 'Self-emp', 'Gov', 'Unemp', 'Non-profit', 'Other']\n",
    "sizes = [5000, 3000, 2000, 1500, 1200, 800]  # Corresponding values for each label\n",
    "colors = ['gold', 'lightcoral', 'lightskyblue', 'lightgreen', 'violet', 'lightpink']  # Colors for each slice\n",
    "explode = (0.1, 0, 0, 0, 0, 0)  # explode 1st slice (Private)\n",
    "\n",
    "# Creating the pie chart\n",
    "plt.figure(figsize=(8, 8))  # Set the figure size\n",
    "plt.title('Distribution of Work Classes with Salary > 50K', fontsize=14)\n",
    "plt.pie(sizes, explode=explode, labels=labels, colors=colors, autopct='%1.1f%%', shadow=True, startangle=140)\n",
    "\n",
    "plt.axis('equal')  \n",
    "plt.show()\n"
   ]
  },
  {
   "cell_type": "markdown",
   "id": "f54ffd3b",
   "metadata": {},
   "source": [
    "### ABOVE ARE THE WORKCLASSES WHICH ARE EARNING A HIGHER SALARY. "
   ]
  }
 ],
 "metadata": {
  "kernelspec": {
   "display_name": "Python 3 (ipykernel)",
   "language": "python",
   "name": "python3"
  },
  "language_info": {
   "codemirror_mode": {
    "name": "ipython",
    "version": 3
   },
   "file_extension": ".py",
   "mimetype": "text/x-python",
   "name": "python",
   "nbconvert_exporter": "python",
   "pygments_lexer": "ipython3",
   "version": "3.9.13"
  }
 },
 "nbformat": 4,
 "nbformat_minor": 5
}
