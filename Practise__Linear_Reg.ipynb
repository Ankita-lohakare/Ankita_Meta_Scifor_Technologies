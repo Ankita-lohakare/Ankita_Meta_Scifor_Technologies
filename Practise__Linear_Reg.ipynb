{
  "cells": [
    {
      "cell_type": "markdown",
      "metadata": {
        "id": "view-in-github",
        "colab_type": "text"
      },
      "source": [
        "<a href=\"https://colab.research.google.com/github/Ankita-lohakare/Ankita_Meta_Scifor_Technologies/blob/main/Practise__Linear_Reg.ipynb\" target=\"_parent\"><img src=\"https://colab.research.google.com/assets/colab-badge.svg\" alt=\"Open In Colab\"/></a>"
      ]
    },
    {
      "cell_type": "markdown",
      "id": "452ea449",
      "metadata": {
        "id": "452ea449"
      },
      "source": [
        "## LINEAR REGRESSION"
      ]
    },
    {
      "cell_type": "code",
      "execution_count": null,
      "id": "9b92c0a2",
      "metadata": {
        "id": "9b92c0a2"
      },
      "outputs": [],
      "source": [
        "import pandas as pd\n",
        "import numpy as np\n",
        "import matplotlib.pyplot as plt\n",
        "from sklearn.model_selection import train_test_split\n",
        "import warnings\n",
        "warnings.filterwarnings('ignore')"
      ]
    },
    {
      "cell_type": "code",
      "execution_count": null,
      "id": "1b6b2cfc",
      "metadata": {
        "id": "1b6b2cfc",
        "outputId": "271479a6-5296-434e-c69f-392d38d80d03"
      },
      "outputs": [
        {
          "data": {
            "text/html": [
              "<div>\n",
              "<style scoped>\n",
              "    .dataframe tbody tr th:only-of-type {\n",
              "        vertical-align: middle;\n",
              "    }\n",
              "\n",
              "    .dataframe tbody tr th {\n",
              "        vertical-align: top;\n",
              "    }\n",
              "\n",
              "    .dataframe thead th {\n",
              "        text-align: right;\n",
              "    }\n",
              "</style>\n",
              "<table border=\"1\" class=\"dataframe\">\n",
              "  <thead>\n",
              "    <tr style=\"text-align: right;\">\n",
              "      <th></th>\n",
              "      <th>total_bill</th>\n",
              "      <th>tip</th>\n",
              "      <th>gender</th>\n",
              "      <th>smoker</th>\n",
              "      <th>day</th>\n",
              "      <th>time</th>\n",
              "      <th>size</th>\n",
              "    </tr>\n",
              "  </thead>\n",
              "  <tbody>\n",
              "    <tr>\n",
              "      <th>0</th>\n",
              "      <td>16.99</td>\n",
              "      <td>1.01</td>\n",
              "      <td>Female</td>\n",
              "      <td>No</td>\n",
              "      <td>Sun</td>\n",
              "      <td>Dinner</td>\n",
              "      <td>2</td>\n",
              "    </tr>\n",
              "    <tr>\n",
              "      <th>1</th>\n",
              "      <td>10.34</td>\n",
              "      <td>1.66</td>\n",
              "      <td>Male</td>\n",
              "      <td>No</td>\n",
              "      <td>Sun</td>\n",
              "      <td>Dinner</td>\n",
              "      <td>3</td>\n",
              "    </tr>\n",
              "    <tr>\n",
              "      <th>2</th>\n",
              "      <td>21.01</td>\n",
              "      <td>3.50</td>\n",
              "      <td>Male</td>\n",
              "      <td>No</td>\n",
              "      <td>Sun</td>\n",
              "      <td>Dinner</td>\n",
              "      <td>3</td>\n",
              "    </tr>\n",
              "    <tr>\n",
              "      <th>3</th>\n",
              "      <td>23.68</td>\n",
              "      <td>3.31</td>\n",
              "      <td>Male</td>\n",
              "      <td>No</td>\n",
              "      <td>Sun</td>\n",
              "      <td>Dinner</td>\n",
              "      <td>2</td>\n",
              "    </tr>\n",
              "    <tr>\n",
              "      <th>4</th>\n",
              "      <td>24.59</td>\n",
              "      <td>3.61</td>\n",
              "      <td>Female</td>\n",
              "      <td>No</td>\n",
              "      <td>Sun</td>\n",
              "      <td>Dinner</td>\n",
              "      <td>4</td>\n",
              "    </tr>\n",
              "  </tbody>\n",
              "</table>\n",
              "</div>"
            ],
            "text/plain": [
              "   total_bill   tip  gender smoker  day    time  size\n",
              "0       16.99  1.01  Female     No  Sun  Dinner     2\n",
              "1       10.34  1.66    Male     No  Sun  Dinner     3\n",
              "2       21.01  3.50    Male     No  Sun  Dinner     3\n",
              "3       23.68  3.31    Male     No  Sun  Dinner     2\n",
              "4       24.59  3.61  Female     No  Sun  Dinner     4"
            ]
          },
          "execution_count": 2,
          "metadata": {},
          "output_type": "execute_result"
        }
      ],
      "source": [
        "# Importing the data\n",
        "df = pd.read_csv('tips.csv')\n",
        "df.head()"
      ]
    },
    {
      "cell_type": "code",
      "execution_count": null,
      "id": "d1ae81b9",
      "metadata": {
        "id": "d1ae81b9",
        "outputId": "310ec0cf-7a60-4997-ee30-de81d4d3fa1b"
      },
      "outputs": [
        {
          "data": {
            "text/plain": [
              "<matplotlib.collections.PathCollection at 0x272e1a898b0>"
            ]
          },
          "execution_count": 3,
          "metadata": {},
          "output_type": "execute_result"
        },
        {
          "data": {
            "image/png": "[encoded data removed]",
            "text/plain": [
              "<Figure size 640x480 with 1 Axes>"
            ]
          },
          "metadata": {},
          "output_type": "display_data"
        }
      ],
      "source": [
        "plt.xlabel('total_bill')\n",
        "plt.ylabel('tip')\n",
        "plt.scatter(df.total_bill,df.tip,color='red',marker='+')"
      ]
    },
    {
      "cell_type": "code",
      "execution_count": null,
      "id": "9af527c4",
      "metadata": {
        "id": "9af527c4"
      },
      "outputs": [],
      "source": [
        "x = df['total_bill'].values\n",
        "y = df['tip'].values"
      ]
    },
    {
      "cell_type": "code",
      "execution_count": null,
      "id": "914beee4",
      "metadata": {
        "id": "914beee4"
      },
      "outputs": [],
      "source": [
        "# Splitting the data into training and testing sets\n",
        "x_train, x_test, y_train, y_test = train_test_split(x, y, test_size=0.2, random_state=42)"
      ]
    },
    {
      "cell_type": "code",
      "execution_count": null,
      "id": "874bdafc",
      "metadata": {
        "id": "874bdafc"
      },
      "outputs": [],
      "source": [
        "# Adding a column of ones for the intercept term\n",
        "x_train = np.vstack((np.ones_like(x_train), x_train)).T\n",
        "x_test = np.vstack((np.ones_like(x_test), x_test)).T\n"
      ]
    },
    {
      "cell_type": "code",
      "execution_count": null,
      "id": "0d1081cd",
      "metadata": {
        "id": "0d1081cd"
      },
      "outputs": [],
      "source": [
        "# Function to perform linear regression\n",
        "#WE ARE WRITING LINEAR REGRESSION ALGORITHM\n",
        "\n",
        "def linear_regression(X, y, learning_rate, epochs):\n",
        "    m, n = X.shape\n",
        "    weights = np.zeros(n)  # Initialize weights with zeros\n",
        "    cost_list = []\n",
        "#gradient descent\n",
        "    for _ in range(epochs):\n",
        "        predictions = np.dot(X, weights)\n",
        "        error = predictions - y\n",
        "        gradient = np.dot(X.T, error) / m\n",
        "        weights -= learning_rate * gradient\n",
        "\n",
        "        # Calculate the cost\n",
        "        cost = (1/(2*m)) * np.sum(error**2)\n",
        "        cost_list.append(cost)\n",
        "\n",
        "    return weights, cost_list"
      ]
    },
    {
      "cell_type": "code",
      "execution_count": null,
      "id": "a3a14731",
      "metadata": {
        "id": "a3a14731"
      },
      "outputs": [],
      "source": [
        "# Train the model\n",
        "learning_rate = 0.000001\n",
        "epochs = 1000 # YOUR MODEL WILL GET PASS THROUGH THE DATASET 1000\n",
        "weights, cost_list = linear_regression(x_train, y_train, learning_rate, epochs)\n",
        "#learning rate is directly proportional to epochs\n",
        "\n",
        "# Predict on the test set\n",
        "y_pred_test = np.dot(x_test, weights)\n",
        "\n",
        "# Calculate regression metrics\n",
        "\n",
        "mse = np.mean((y_test - y_pred_test)**2)\n",
        "rmse = np.sqrt(mse)\n",
        "mae = np.mean(np.abs(y_test - y_pred_test))\n",
        "total_variance = np.sum((y_test - np.mean(y_test))**2)\n",
        "r_squared = 1 - (mse / total_variance)"
      ]
    },
    {
      "cell_type": "code",
      "execution_count": null,
      "id": "a563e9fa",
      "metadata": {
        "id": "a563e9fa",
        "outputId": "802c8dbd-d7b7-4d95-e757-9481e7b7cd19"
      },
      "outputs": [
        {
          "name": "stdout",
          "output_type": "stream",
          "text": [
            "Mean Squared Error (MSE): 3.2809972973598374\n",
            "Root Mean Squared Error (RMSE): 1.8113523393751525\n",
            "Mean Absolute Error (MAE): 1.6289799124754507\n",
            "R-squared: 0.9464314691926525\n"
          ]
        }
      ],
      "source": [
        "# Print regression metrics\n",
        "\n",
        "print(f\"Mean Squared Error (MSE): {mse}\")\n",
        "print(f\"Root Mean Squared Error (RMSE): {rmse}\")\n",
        "print(f\"Mean Absolute Error (MAE): {mae}\")\n",
        "print(f\"R-squared: {r_squared}\")"
      ]
    },
    {
      "cell_type": "code",
      "execution_count": null,
      "id": "77c5fa18",
      "metadata": {
        "id": "77c5fa18",
        "outputId": "193efd8c-9a18-48e6-f270-8640f1889553"
      },
      "outputs": [
        {
          "name": "stdout",
          "output_type": "stream",
          "text": [
            "   Actual Values  Predicted Values  Difference (Actual - Predicted)\n",
            "0           3.18          1.111069                         2.068931\n",
            "1           2.00          0.493009                         1.506991\n",
            "2           2.00          1.375633                         0.624367\n",
            "3           5.16          1.450583                         3.709417\n",
            "4           2.00          0.729606                         1.270394\n",
            "5           2.00          1.003119                         0.996881\n",
            "6           2.56          1.593212                         0.966788\n",
            "7           2.52          0.700521                         1.819479\n",
            "8           3.23          0.829167                         2.400833\n",
            "9           3.00          0.862727                         2.137273\n"
          ]
        }
      ],
      "source": [
        "# Create a DataFrame to display actual values, predicted values, and differences\n",
        "results_df = pd.DataFrame({\n",
        "    'Actual Values': y_test,\n",
        "    'Predicted Values': y_pred_test,\n",
        "    'Difference (Actual - Predicted)': y_test - y_pred_test\n",
        "})\n",
        "\n",
        "# Print the DataFrame\n",
        "print(results_df.head(10))"
      ]
    },
    {
      "cell_type": "code",
      "execution_count": null,
      "id": "c6298dcf",
      "metadata": {
        "id": "c6298dcf",
        "outputId": "1ca44540-34f9-41fc-c666-362df0581d90"
      },
      "outputs": [
        {
          "data": {
            "image/png": "[encoded data removed]",
            "text/plain": [
              "<Figure size 1000x600 with 1 Axes>"
            ]
          },
          "metadata": {},
          "output_type": "display_data"
        }
      ],
      "source": [
        "\n",
        "# Create a DataFrame\n",
        "data = {\n",
        "    'Actual Values': [3.18, 2.00, 2.00, 5.16, 2.00, 2.00, 2.56, 2.52, 3.23, 3.00],\n",
        "    'Predicted Values': [1.11, 0.49, 1.37, 1.45, 0.72, 1.00, 1.59, 0.70, 0.82, 0.86]\n",
        "}\n",
        "\n",
        "df = pd.DataFrame(data)\n",
        "\n",
        "# Create a line chart\n",
        "plt.figure(figsize=(10, 6))\n",
        "plt.plot(df['Actual Values'], df['Predicted Values'], marker='*', linestyle='-', color='Magenta')\n",
        "plt.xlabel('Actual Values')\n",
        "plt.ylabel('Predicted Values')\n",
        "plt.title('Actual vs. Predicted Values')\n",
        "plt.grid(True)\n",
        "\n",
        "# Display the plot\n",
        "plt.show()"
      ]
    }
  ],
  "metadata": {
    "kernelspec": {
      "display_name": "Python 3 (ipykernel)",
      "language": "python",
      "name": "python3"
    },
    "language_info": {
      "codemirror_mode": {
        "name": "ipython",
        "version": 3
      },
      "file_extension": ".py",
      "mimetype": "text/x-python",
      "name": "python",
      "nbconvert_exporter": "python",
      "pygments_lexer": "ipython3",
      "version": "3.9.13"
    },
    "colab": {
      "provenance": [],
      "include_colab_link": true
    }
  },
  "nbformat": 4,
  "nbformat_minor": 5
}