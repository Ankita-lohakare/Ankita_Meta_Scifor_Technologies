{
 "cells": [
  {
   "cell_type": "markdown",
   "id": "cf0f7b47",
   "metadata": {},
   "source": [
    "### Descriptive Statistics\n",
    "\n",
    "Descriptive statistics summarize the main features of a dataset. Common measures include mean, median, mode, and standard deviation.\n",
    "\n",
    "Example: Calculate the mean, median, and mode of a dataset."
   ]
  },
  {
   "cell_type": "code",
   "execution_count": 2,
   "id": "41dc9003",
   "metadata": {},
   "outputs": [
    {
     "name": "stdout",
     "output_type": "stream",
     "text": [
      "Mean: 6.0, Median: 4.5, Mode: 1\n"
     ]
    }
   ],
   "source": [
    "import numpy as np\n",
    "import pandas as pd\n",
    "from scipy import stats\n",
    "import warnings\n",
    "warnings.filterwarnings('ignore')\n",
    "\n",
    "# Sample data\n",
    "data = [1, 4, 6, 1, 8, 15, 18, 1, 5, 1]\n",
    "\n",
    "# Calculating mean, median, and mode\n",
    "mean = np.mean(data)\n",
    "median = np.median(data)\n",
    "mode = stats.mode(data)[0][0]\n",
    "\n",
    "print(f\"Mean: {mean}, Median: {median}, Mode: {mode}\")"
   ]
  },
  {
   "cell_type": "markdown",
   "id": "1660884b",
   "metadata": {},
   "source": [
    "### Inferential Statistics\n",
    "\n",
    "Inferential statistics allows us to make predictions or inferences about a population based on a sample.\n",
    "\n",
    "Example: Conduct a one-sample t-test to determine if the mean of a sample differs from a known value."
   ]
  },
  {
   "cell_type": "code",
   "execution_count": 3,
   "id": "ee986cf7",
   "metadata": {},
   "outputs": [
    {
     "name": "stdout",
     "output_type": "stream",
     "text": [
      "T-statistic: 0.0, P-value: 1.0\n"
     ]
    }
   ],
   "source": [
    "from scipy import stats\n",
    "\n",
    "# Sample data\n",
    "sample_data = [150, 160, 170, 155, 165]\n",
    "known_mean = 160\n",
    "\n",
    "# Perform one-sample t-test\n",
    "t_statistic, p_value = stats.ttest_1samp(sample_data, known_mean)\n",
    "\n",
    "print(f\"T-statistic: {t_statistic}, P-value: {p_value}\")"
   ]
  },
  {
   "cell_type": "markdown",
   "id": "72b4b0d7",
   "metadata": {},
   "source": [
    "### Probability\n",
    "\n",
    "Probability measures how likely an event is to occur.\n",
    "\n",
    "Example: Calculate the probability of drawing a red ball from a bag containing different colored balls."
   ]
  },
  {
   "cell_type": "code",
   "execution_count": 5,
   "id": "61b7fb9e",
   "metadata": {},
   "outputs": [
    {
     "name": "stdout",
     "output_type": "stream",
     "text": [
      "Probability of drawing a red ball: 0.25\n"
     ]
    }
   ],
   "source": [
    "# Total balls\n",
    "total_balls = 20\n",
    "red_balls = 5\n",
    "\n",
    "# Probability of drawing a red ball\n",
    "probability_red = red_balls / total_balls\n",
    "\n",
    "print(f\"Probability of drawing a red ball: {probability_red}\")"
   ]
  },
  {
   "cell_type": "markdown",
   "id": "fe1b3e9a",
   "metadata": {},
   "source": [
    "### Frequency Distribution\n",
    "\n",
    "Frequency distribution organizes data to show how often each value occurs within a dataset.\n",
    "\n",
    "Example: Create a frequency distribution table from a dataset."
   ]
  },
  {
   "cell_type": "code",
   "execution_count": 7,
   "id": "e0099efa",
   "metadata": {},
   "outputs": [
    {
     "name": "stdout",
     "output_type": "stream",
     "text": [
      "Frequency Distribution:\n",
      "1    1\n",
      "2    2\n",
      "3    3\n",
      "4    2\n",
      "dtype: int64\n"
     ]
    }
   ],
   "source": [
    "import pandas as pd\n",
    "\n",
    "# Sample data\n",
    "data = [1, 2, 2, 3, 3, 3, 4, 4]\n",
    "\n",
    "# Create frequency distribution table\n",
    "frequency_distribution = pd.Series(data).value_counts().sort_index()\n",
    "\n",
    "print(\"Frequency Distribution:\")\n",
    "print(frequency_distribution)"
   ]
  },
  {
   "cell_type": "code",
   "execution_count": null,
   "id": "590ae2dc",
   "metadata": {},
   "outputs": [],
   "source": []
  }
 ],
 "metadata": {
  "kernelspec": {
   "display_name": "Python 3 (ipykernel)",
   "language": "python",
   "name": "python3"
  },
  "language_info": {
   "codemirror_mode": {
    "name": "ipython",
    "version": 3
   },
   "file_extension": ".py",
   "mimetype": "text/x-python",
   "name": "python",
   "nbconvert_exporter": "python",
   "pygments_lexer": "ipython3",
   "version": "3.9.13"
  }
 },
 "nbformat": 4,
 "nbformat_minor": 5
}
