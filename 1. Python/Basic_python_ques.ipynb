{
 "cells": [
  {
   "cell_type": "markdown",
   "id": "2baaa757",
   "metadata": {},
   "source": [
    "Basic Python questions."
   ]
  },
  {
   "cell_type": "code",
   "execution_count": 2,
   "id": "b7b41969",
   "metadata": {},
   "outputs": [
    {
     "name": "stdout",
     "output_type": "stream",
     "text": [
      "Sum of list elements: 100\n"
     ]
    }
   ],
   "source": [
    "# 1. Find Sum of List Elements\n",
    "\n",
    "numbers = [10, 20, 30, 40]\n",
    "total_sum = sum(numbers)\n",
    "print(\"Sum of list elements:\", total_sum)\n"
   ]
  },
  {
   "cell_type": "code",
   "execution_count": 3,
   "id": "7f13a8ca",
   "metadata": {},
   "outputs": [
    {
     "name": "stdout",
     "output_type": "stream",
     "text": [
      "Largest element: 40\n"
     ]
    }
   ],
   "source": [
    "# 2. Largest Element in a List\n",
    "\n",
    "numbers = [10, 20, 30, 40]\n",
    "largest = max(numbers)\n",
    "print(\"Largest element:\", largest)\n"
   ]
  },
  {
   "cell_type": "code",
   "execution_count": 4,
   "id": "99d1b689",
   "metadata": {},
   "outputs": [
    {
     "name": "stdout",
     "output_type": "stream",
     "text": [
      "List after removing duplicates: [40, 10, 20, 30]\n"
     ]
    }
   ],
   "source": [
    "# 3. Remove Duplicates in a List \n",
    "\n",
    "numbers = [10, 20, 20, 30, 30, 40]\n",
    "unique_numbers = list(set(numbers))\n",
    "print(\"List after removing duplicates:\", unique_numbers)\n"
   ]
  },
  {
   "cell_type": "code",
   "execution_count": 5,
   "id": "391acd84",
   "metadata": {},
   "outputs": [
    {
     "name": "stdout",
     "output_type": "stream",
     "text": [
      "All elements unique: True\n"
     ]
    }
   ],
   "source": [
    "# 4. Check if All Elements in a List are Unique\n",
    "\n",
    "numbers = [10, 20, 30, 40]\n",
    "is_unique = len(numbers) == len(set(numbers))\n",
    "print(\"All elements unique:\", is_unique)\n"
   ]
  },
  {
   "cell_type": "code",
   "execution_count": 6,
   "id": "f48596cc",
   "metadata": {},
   "outputs": [
    {
     "name": "stdout",
     "output_type": "stream",
     "text": [
      "Reversed list: [40, 30, 20, 10]\n"
     ]
    }
   ],
   "source": [
    "# 5. Program to Reverse List\n",
    "\n",
    "numbers = [10, 20, 30, 40]\n",
    "reversed_list = numbers[::-1]\n",
    "print(\"Reversed list:\", reversed_list)\n"
   ]
  },
  {
   "cell_type": "code",
   "execution_count": 7,
   "id": "4fa64372",
   "metadata": {},
   "outputs": [
    {
     "name": "stdout",
     "output_type": "stream",
     "text": [
      "Odd numbers: 2 Even numbers: 3\n"
     ]
    }
   ],
   "source": [
    "# 6. Count Number of Odd and Even Numbers in a List\n",
    "\n",
    "numbers = [10, 15, 20, 25, 30]\n",
    "odd_count = len([num for num in numbers if num % 2 != 0])\n",
    "even_count = len([num for num in numbers if num % 2 == 0])\n",
    "print(\"Odd numbers:\", odd_count, \"Even numbers:\", even_count)\n"
   ]
  },
  {
   "cell_type": "code",
   "execution_count": 8,
   "id": "3f54a245",
   "metadata": {},
   "outputs": [
    {
     "name": "stdout",
     "output_type": "stream",
     "text": [
      "List1 is a subset of List2: True\n"
     ]
    }
   ],
   "source": [
    "# 7. Check if a List is a Subset of Another List\n",
    "\n",
    "list1 = [10, 20]\n",
    "list2 = [10, 20, 30, 40]\n",
    "is_subset = set(list1).issubset(list2)\n",
    "print(\"List1 is a subset of List2:\", is_subset)\n"
   ]
  },
  {
   "cell_type": "code",
   "execution_count": 9,
   "id": "2fc29e2d",
   "metadata": {},
   "outputs": [
    {
     "name": "stdout",
     "output_type": "stream",
     "text": [
      "Max difference between consecutive elements: 10\n"
     ]
    }
   ],
   "source": [
    "# 8. Max Difference Between Two Consecutive Elements in a List\n",
    "\n",
    "numbers = [10, 20, 30, 25, 15]\n",
    "max_diff = max(abs(numbers[i+1] - numbers[i]) for i in range(len(numbers)-1))\n",
    "print(\"Max difference between consecutive elements:\", max_diff)\n"
   ]
  },
  {
   "cell_type": "code",
   "execution_count": 10,
   "id": "ce45a219",
   "metadata": {},
   "outputs": [
    {
     "name": "stdout",
     "output_type": "stream",
     "text": [
      "Merged dictionary: {'a': 1, 'b': 3, 'c': 4}\n"
     ]
    }
   ],
   "source": [
    "# 9. Merge Multiple Dictionaries\n",
    "\n",
    "dict1 = {'a': 1, 'b': 2}\n",
    "dict2 = {'b': 3, 'c': 4}\n",
    "merged_dict = {**dict1, **dict2}\n",
    "print(\"Merged dictionary:\", merged_dict)\n"
   ]
  },
  {
   "cell_type": "code",
   "execution_count": 11,
   "id": "38b0a55c",
   "metadata": {},
   "outputs": [
    {
     "name": "stdout",
     "output_type": "stream",
     "text": [
      "Word frequency: Counter({'this': 2, 'is': 2, 'a': 1, 'test': 1, 'sentence.': 1, 'sentence': 1, 'for': 1, 'testing.': 1})\n"
     ]
    }
   ],
   "source": [
    "# 10. Find Word Frequency in a Sentence\n",
    "\n",
    "from collections import Counter\n",
    "\n",
    "sentence = \"This is a test sentence. This sentence is for testing.\"\n",
    "words = sentence.lower().split()\n",
    "word_count = Counter(words)\n",
    "print(\"Word frequency:\", word_count)\n"
   ]
  },
  {
   "cell_type": "code",
   "execution_count": null,
   "id": "6d971b5c",
   "metadata": {},
   "outputs": [],
   "source": []
  }
 ],
 "metadata": {
  "kernelspec": {
   "display_name": "Python 3 (ipykernel)",
   "language": "python",
   "name": "python3"
  },
  "language_info": {
   "codemirror_mode": {
    "name": "ipython",
    "version": 3
   },
   "file_extension": ".py",
   "mimetype": "text/x-python",
   "name": "python",
   "nbconvert_exporter": "python",
   "pygments_lexer": "ipython3",
   "version": "3.9.13"
  }
 },
 "nbformat": 4,
 "nbformat_minor": 5
}
