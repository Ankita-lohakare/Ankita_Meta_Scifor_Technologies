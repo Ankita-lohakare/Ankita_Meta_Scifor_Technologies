{
 "cells": [
  {
   "cell_type": "markdown",
   "id": "699f1fb9",
   "metadata": {},
   "source": [
    "## Python Questions:\n"
   ]
  },
  {
   "cell_type": "markdown",
   "id": "a46b89f6",
   "metadata": {},
   "source": [
    "### 1.Explain the difference between lists and tuples in Python. Why might you choose one over the other?\n",
    "\n",
    "Mutability:\n",
    "Lists are mutable, meaning you can change their content (add, remove, or modify elements).\n",
    "Tuples are immutable; once created, their content cannot be changed.\n",
    "Memory Consumption:\n",
    "\n",
    "Tuples typically use less memory than lists due to their fixed size and immutability.\n",
    "\n",
    "Performance:\n",
    "Accessing elements in tuples can be slightly faster than in lists due to optimizations related to immutability.\n",
    "\n",
    "Use Cases:\n",
    "Lists: Use when you need a dynamic collection of items that may change over time.\n",
    "Tuples: Use when you need a fixed collection of items, such as coordinates or records"
   ]
  },
  {
   "cell_type": "markdown",
   "id": "48ff9c4f",
   "metadata": {},
   "source": [
    "### 2.Write a function that takes a list of integers and returns a new list with only the even numbers."
   ]
  },
  {
   "cell_type": "code",
   "execution_count": 6,
   "id": "01f02bce",
   "metadata": {},
   "outputs": [
    {
     "name": "stdout",
     "output_type": "stream",
     "text": [
      "[2, 4, 6, 8, 10]\n"
     ]
    }
   ],
   "source": [
    "\n",
    "def filter_even_numbers(numbers):\n",
    "    \"\"\"Return a list of even numbers from the given list of integers.\"\"\"\n",
    "    even_numbers = [num for num in numbers if num % 2 == 0]\n",
    "    return even_numbers\n",
    "\n",
    "# Example:\n",
    "input_list = [1, 2, 3, 4, 5, 6, 7, 8, 9, 10]\n",
    "output_list = filter_even_numbers(input_list)\n",
    "print(output_list)  \n"
   ]
  },
  {
   "cell_type": "markdown",
   "id": "b51e14ab",
   "metadata": {},
   "source": [
    "### 3.Describe how Python’s garbage collection works. What are the main methods it uses to manage memory?"
   ]
  },
  {
   "cell_type": "markdown",
   "id": "a0b4697e",
   "metadata": {},
   "source": [
    "Python uses automatic garbage collection to manage memory by removing objects that are no longer needed. It primarily uses reference counting and a cyclic garbage collector.\n",
    "\n",
    "Reference counting keeps track of the number of references to each object. When the count drops to zero, the memory is freed.\n",
    "\n",
    "The cyclic garbage collector handles reference cycles (objects that reference each other) by periodically inspecting and collecting objects involved in cycles."
   ]
  },
  {
   "cell_type": "markdown",
   "id": "cd3c2bef",
   "metadata": {},
   "source": [
    "### 4.Given a dictionary where keys are student names and values are lists of their scores, write a function that returns the average score for each student."
   ]
  },
  {
   "cell_type": "code",
   "execution_count": 7,
   "id": "21905744",
   "metadata": {},
   "outputs": [
    {
     "name": "stdout",
     "output_type": "stream",
     "text": [
      "{'Anika': 84.33333333333333, 'Bobby': 75.0, 'Sam': 0}\n"
     ]
    }
   ],
   "source": [
    "def average_scores(students_scores):\n",
    "    averages = {}\n",
    "    for student, scores in students_scores.items():\n",
    "        if scores:  # Check if the list is not empty\n",
    "            averages[student] = sum(scores) / len(scores)\n",
    "        else:\n",
    "            averages[student] = 0\n",
    "    return averages\n",
    "\n",
    "# Example:\n",
    "scores_dict = {\n",
    "    \"Anika\": [85, 90, 78],\n",
    "    \"Bobby\": [70, 80],\n",
    "    \"Sam\": []\n",
    "}\n",
    "print(average_scores(scores_dict))  \n"
   ]
  },
  {
   "cell_type": "markdown",
   "id": "4ed96197",
   "metadata": {},
   "source": [
    "### 5.What are *args and **kwargs in Python functions, and how are they used?"
   ]
  },
  {
   "cell_type": "markdown",
   "id": "499e2242",
   "metadata": {},
   "source": [
    "*args: Allows you to pass a variable number of non-keyword arguments to a function. It collects these arguments into a tuple.\n",
    "\n",
    "**kwargs: Allows you to pass a variable number of keyword arguments (key-value pairs) to a function. It collects these arguments into a dictionary."
   ]
  },
  {
   "cell_type": "code",
   "execution_count": 9,
   "id": "b0bd7c2c",
   "metadata": {},
   "outputs": [
    {
     "name": "stdout",
     "output_type": "stream",
     "text": [
      "Positional arguments: (1, 2, 3)\n",
      "Keyword arguments: {'name': 'Anna', 'age': 30}\n"
     ]
    }
   ],
   "source": [
    "def example_function(*args, **kwargs):\n",
    "    print(\"Positional arguments:\", args)\n",
    "    print(\"Keyword arguments:\", kwargs)\n",
    "\n",
    "example_function(1, 2, 3, name=\"Anna\", age=30)\n"
   ]
  },
  {
   "cell_type": "markdown",
   "id": "c37f7d22",
   "metadata": {},
   "source": [
    "## Streamlit Questions:"
   ]
  },
  {
   "cell_type": "markdown",
   "id": "c3982662",
   "metadata": {},
   "source": [
    "### 1.Explain how Streamlit’s st.cache works and why it is useful. When should you avoid using it?"
   ]
  },
  {
   "cell_type": "markdown",
   "id": "6ca2e4f8",
   "metadata": {},
   "source": [
    "Explanation of st.cache:\n",
    "\n",
    "st.cache is used in Streamlit to cache the output of expensive computations so that they do not need to be recalculated on every interaction. This improves performance by speeding up app response times.\n",
    "\n",
    "When to Avoid Using st.cache:\n",
    "\n",
    "When the underlying data changes frequently and you need real-time updates.\n",
    "For functions that have side effects (e.g., modifying external state), as this can lead to unexpected behavior."
   ]
  },
  {
   "cell_type": "markdown",
   "id": "781d9eab",
   "metadata": {},
   "source": [
    "### 2.Write a simple Streamlit app that takes a user’s name as input and displays a personalized greeting message."
   ]
  },
  {
   "cell_type": "code",
   "execution_count": 11,
   "id": "40101856",
   "metadata": {},
   "outputs": [
    {
     "name": "stderr",
     "output_type": "stream",
     "text": [
      "2024-11-04 20:26:36.641 Thread 'MainThread': missing ScriptRunContext! This warning can be ignored when running in bare mode.\n",
      "2024-11-04 20:26:36.641 Thread 'MainThread': missing ScriptRunContext! This warning can be ignored when running in bare mode.\n",
      "2024-11-04 20:26:36.641 Thread 'MainThread': missing ScriptRunContext! This warning can be ignored when running in bare mode.\n",
      "2024-11-04 20:26:36.641 Thread 'MainThread': missing ScriptRunContext! This warning can be ignored when running in bare mode.\n",
      "2024-11-04 20:26:36.649 Thread 'MainThread': missing ScriptRunContext! This warning can be ignored when running in bare mode.\n",
      "2024-11-04 20:26:36.649 Thread 'MainThread': missing ScriptRunContext! This warning can be ignored when running in bare mode.\n",
      "2024-11-04 20:26:36.658 Thread 'MainThread': missing ScriptRunContext! This warning can be ignored when running in bare mode.\n",
      "2024-11-04 20:26:36.658 Thread 'MainThread': missing ScriptRunContext! This warning can be ignored when running in bare mode.\n"
     ]
    }
   ],
   "source": [
    "import warnings\n",
    "warnings.filterwarnings('ignore')\n",
    "\n",
    "import streamlit as st\n",
    "\n",
    "def main():\n",
    "    st.title(\"Greeting App\")\n",
    "    \n",
    "    name = st.text_input(\"Enter your name:\")\n",
    "    \n",
    "    if name:\n",
    "        st.write(f\"Hello, {name}! Welcome to our app!\")\n",
    "\n",
    "if __name__ == \"__main__\":\n",
    "    main()"
   ]
  },
  {
   "cell_type": "markdown",
   "id": "b6cc6bf2",
   "metadata": {},
   "source": [
    "### 3.Describe the st.sidebar component in Streamlit. How does it improve user experience in Streamlit applications?"
   ]
  },
  {
   "cell_type": "markdown",
   "id": "ea2ce210",
   "metadata": {},
   "source": [
    "The st.sidebar component allows developers to create a sidebar in their Streamlit apps where users can interact with controls like sliders and buttons without cluttering the main interface.\n",
    "This improves user experience by organizing inputs separately from the main content area."
   ]
  },
  {
   "cell_type": "markdown",
   "id": "a136d214",
   "metadata": {},
   "source": [
    "### 4.Create a Streamlit app that displays a line chart of random data. Allow the user to select the number of data points they want in the chart using a slider."
   ]
  },
  {
   "cell_type": "code",
   "execution_count": 12,
   "id": "5956eacd",
   "metadata": {},
   "outputs": [
    {
     "name": "stderr",
     "output_type": "stream",
     "text": [
      "2024-11-04 20:30:48.648 Thread 'MainThread': missing ScriptRunContext! This warning can be ignored when running in bare mode.\n",
      "2024-11-04 20:30:48.648 Thread 'MainThread': missing ScriptRunContext! This warning can be ignored when running in bare mode.\n",
      "2024-11-04 20:30:48.648 Thread 'MainThread': missing ScriptRunContext! This warning can be ignored when running in bare mode.\n",
      "2024-11-04 20:30:48.648 Thread 'MainThread': missing ScriptRunContext! This warning can be ignored when running in bare mode.\n",
      "2024-11-04 20:30:48.648 Thread 'MainThread': missing ScriptRunContext! This warning can be ignored when running in bare mode.\n",
      "2024-11-04 20:30:48.648 Thread 'MainThread': missing ScriptRunContext! This warning can be ignored when running in bare mode.\n",
      "2024-11-04 20:30:48.648 Thread 'MainThread': missing ScriptRunContext! This warning can be ignored when running in bare mode.\n",
      "2024-11-04 20:30:48.663 Thread 'MainThread': missing ScriptRunContext! This warning can be ignored when running in bare mode.\n",
      "2024-11-04 20:30:50.417 Thread 'MainThread': missing ScriptRunContext! This warning can be ignored when running in bare mode.\n",
      "2024-11-04 20:30:50.417 Thread 'MainThread': missing ScriptRunContext! This warning can be ignored when running in bare mode.\n"
     ]
    }
   ],
   "source": [
    "import streamlit as st\n",
    "import numpy as np\n",
    "import pandas as pd\n",
    "\n",
    "def main():\n",
    "    st.title(\"Random Data Line Chart\")\n",
    "    \n",
    "    num_points = st.slider(\"Select number of data points\", min_value=1, max_value=100)\n",
    "    \n",
    "    data = np.random.randn(num_points)\n",
    "    df = pd.DataFrame(data, columns=[\"Random Data\"])\n",
    "    \n",
    "    st.line_chart(df)\n",
    "\n",
    "if __name__ == \"__main__\":\n",
    "    main()"
   ]
  },
  {
   "cell_type": "markdown",
   "id": "1e512089",
   "metadata": {},
   "source": [
    "### 5.How does Streamlit handle real-time data updates with st.button or st.checkbox? Explain a scenario where this can be useful."
   ]
  },
  {
   "cell_type": "markdown",
   "id": "2b448396",
   "metadata": {},
   "source": [
    "Streamlit handles real-time updates using components like st.button or st.checkbox. When these components are interacted with clicked, they trigger reruns of the script from top to bottom.\n",
    "\n",
    "Useful Scenario:\n",
    "\n",
    "For example, in an interactive dashboard where users can toggle between different data views or refresh data by clicking a button. This allows users to dynamically explore datasets without needing to reload the entire application. "
   ]
  },
  {
   "cell_type": "code",
   "execution_count": null,
   "id": "7567d994",
   "metadata": {},
   "outputs": [],
   "source": []
  }
 ],
 "metadata": {
  "kernelspec": {
   "display_name": "Python 3 (ipykernel)",
   "language": "python",
   "name": "python3"
  },
  "language_info": {
   "codemirror_mode": {
    "name": "ipython",
    "version": 3
   },
   "file_extension": ".py",
   "mimetype": "text/x-python",
   "name": "python",
   "nbconvert_exporter": "python",
   "pygments_lexer": "ipython3",
   "version": "3.9.13"
  }
 },
 "nbformat": 4,
 "nbformat_minor": 5
}
