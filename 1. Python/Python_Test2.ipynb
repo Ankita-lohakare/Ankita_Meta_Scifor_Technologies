{
 "cells": [
  {
   "cell_type": "markdown",
   "id": "deeb1668",
   "metadata": {},
   "source": [
    "1. What are decorators in python? Provide a code of same.\n",
    "\n",
    "Decorators are functions that modify the behavior of other functions or methods. They allow you to wrap another function in order to extend its behavior without permanently modifying it."
   ]
  },
  {
   "cell_type": "code",
   "execution_count": 2,
   "id": "edee1cdd",
   "metadata": {},
   "outputs": [
    {
     "name": "stdout",
     "output_type": "stream",
     "text": [
      "Something is happening before the function is called.\n",
      "Hello!\n",
      "Something is happening after the function is called.\n"
     ]
    }
   ],
   "source": [
    "def my_decorator(func):\n",
    "    def wrapper():\n",
    "        print(\"Something is happening before the function is called.\")\n",
    "        func()\n",
    "        print(\"Something is happening after the function is called.\")\n",
    "    return wrapper\n",
    "\n",
    "@my_decorator\n",
    "def say_hello():\n",
    "    print(\"Hello!\")\n",
    "\n",
    "say_hello()\n"
   ]
  },
  {
   "cell_type": "markdown",
   "id": "779bd7d5",
   "metadata": {},
   "source": [
    "2. What do you understand by method overriding and method overloading? Give the complete implementation.\n",
    "\n",
    "Method Overriding: When a subclass provides a specific implementation of a method that is already defined in its superclass.\n",
    "Method Overloading: Python doesn’t natively support method overloading, but it can be implemented by defining default parameters or using conditional logic."
   ]
  },
  {
   "cell_type": "code",
   "execution_count": 3,
   "id": "45e73b08",
   "metadata": {},
   "outputs": [
    {
     "name": "stdout",
     "output_type": "stream",
     "text": [
      "Bark\n",
      "5\n",
      "15\n"
     ]
    }
   ],
   "source": [
    "# Method Overriding\n",
    "class Animal:\n",
    "    def sound(self):\n",
    "        print(\"Animal Sound\")\n",
    "\n",
    "class Dog(Animal):\n",
    "    def sound(self):  # Overriding\n",
    "        print(\"Bark\")\n",
    "\n",
    "# Method Overloading\n",
    "class Math:\n",
    "    def add(self, a, b=0):\n",
    "        return a + b\n",
    "\n",
    "dog = Dog()\n",
    "dog.sound()  # Output: Bark\n",
    "\n",
    "math_obj = Math()\n",
    "print(math_obj.add(5))       # Output: 5\n",
    "print(math_obj.add(5, 10))   # Output: 15\n"
   ]
  },
  {
   "cell_type": "markdown",
   "id": "76e81b36",
   "metadata": {},
   "source": [
    "3. Code for hybrid inheritance."
   ]
  },
  {
   "cell_type": "code",
   "execution_count": 4,
   "id": "af72461c",
   "metadata": {},
   "outputs": [
    {
     "name": "stdout",
     "output_type": "stream",
     "text": [
      "This is an Electric Car\n",
      "This is a Car\n",
      "This vehicle is Electric\n"
     ]
    }
   ],
   "source": [
    "class Vehicle:\n",
    "    def info(self):\n",
    "        print(\"This is a Vehicle\")\n",
    "\n",
    "class Car(Vehicle):  # Single Inheritance\n",
    "    def car_info(self):\n",
    "        print(\"This is a Car\")\n",
    "\n",
    "class Electric:\n",
    "    def electric_info(self):\n",
    "        print(\"This vehicle is Electric\")\n",
    "\n",
    "class ElectricCar(Car, Electric):  # Hybrid Inheritance\n",
    "    def info(self):\n",
    "        print(\"This is an Electric Car\")\n",
    "\n",
    "ecar = ElectricCar()\n",
    "ecar.info()\n",
    "ecar.car_info()\n",
    "ecar.electric_info()\n"
   ]
  },
  {
   "cell_type": "markdown",
   "id": "475bd30d",
   "metadata": {},
   "source": [
    "4. Explain about the time complexity and space complexity of stacks, queues, Linekdin list.\n",
    "\n",
    "Stack:\n",
    "\n",
    "Time Complexity: Inserting or removing from the stack (push and pop) takes \n",
    "𝑂(1)time.\n",
    "Space Complexity: \n",
    "𝑂(𝑛)\n",
    "O(n), where \n",
    "𝑛\n",
    "n is the number of elements in the stack.\n",
    "\n",
    "Queue:\n",
    "\n",
    "Time Complexity: Enqueue (insertion) and dequeue (removal) operations both take \n",
    "𝑂\n",
    "(\n",
    "1\n",
    ")\n",
    "O(1) time in a queue.\n",
    "Space Complexity: \n",
    "𝑂\n",
    "(\n",
    "𝑛\n",
    ")\n",
    "O(n), where \n",
    "𝑛\n",
    "n is the number of elements in the queue.\n",
    "\n",
    "Linked List:\n",
    "\n",
    "Time Complexity: Accessing or modifying nodes in a singly linked list is \n",
    "𝑂\n",
    "(\n",
    "𝑛\n",
    ")\n",
    "O(n), inserting or deleting is \n",
    "𝑂\n",
    "(\n",
    "1\n",
    ")\n",
    "O(1) if at the head.\n",
    "Space Complexity: \n",
    "𝑂\n",
    "(\n",
    "𝑛\n",
    ")\n",
    "O(n), as each node requires space for the data and the reference to the next node."
   ]
  },
  {
   "cell_type": "markdown",
   "id": "28351562",
   "metadata": {},
   "source": [
    "5. Explain any 3 widgets in Streamlit "
   ]
  },
  {
   "cell_type": "code",
   "execution_count": null,
   "id": "b6da72d3",
   "metadata": {},
   "outputs": [],
   "source": [
    "# 1) st.button(): Creates a clickable button.\n",
    "\n",
    "import streamlit as st\n",
    "if st.button('Click Me'):\n",
    "    st.write(\"Button was clicked!\")\n",
    "\n",
    "# 2) st.slider(): Creates a slider to select a range of values.\n",
    "\n",
    "age = st.slider('Select your age:', 0, 100, 25)\n",
    "st.write(\"Selected age is:\", age)\n",
    "\n",
    "# 3) st.selectbox(): Creates a dropdown selection box.\n",
    "\n",
    "option = st.selectbox('Select a fruit:', ['Apple', 'Banana', 'Cherry'])\n",
    "st.write(\"You selected:\", option)\n"
   ]
  },
  {
   "cell_type": "markdown",
   "id": "20e0f0c8",
   "metadata": {},
   "source": [
    "6. Explain session in Streamlit "
   ]
  },
  {
   "cell_type": "markdown",
   "id": "ad2fdbdc",
   "metadata": {},
   "source": [
    "Streamlit’s session state allows you to store and persist variables throughout the interaction with the app. This is useful for managing values that need to persist between user interactions."
   ]
  },
  {
   "cell_type": "code",
   "execution_count": null,
   "id": "f9a4d114",
   "metadata": {},
   "outputs": [],
   "source": [
    "import streamlit as st\n",
    "\n",
    "if 'counter' not in st.session_state:\n",
    "    st.session_state.counter = 0\n",
    "\n",
    "if st.button(\"Increment\"):\n",
    "    st.session_state.counter += 1\n",
    "\n",
    "st.write(\"Counter:\", st.session_state.counter)\n"
   ]
  },
  {
   "cell_type": "markdown",
   "id": "1ecad978",
   "metadata": {},
   "source": [
    "7. How will you run any file in Streamlit \n"
   ]
  },
  {
   "cell_type": "markdown",
   "id": "a39ae6f2",
   "metadata": {},
   "source": [
    "streamlit run filename.py\n"
   ]
  },
  {
   "cell_type": "markdown",
   "id": "1c1a613f",
   "metadata": {},
   "source": [
    "8. Plot Graphs Such as Bar Chart and Pie Chart\n"
   ]
  },
  {
   "cell_type": "code",
   "execution_count": null,
   "id": "75487004",
   "metadata": {},
   "outputs": [],
   "source": [
    "import streamlit as st\n",
    "import matplotlib.pyplot as plt\n",
    "\n",
    "# Bar Chart\n",
    "st.write(\"Bar Chart Example\")\n",
    "data = [5, 10, 15, 7]\n",
    "labels = ['A', 'B', 'C', 'D']\n",
    "plt.bar(labels, data)\n",
    "st.pyplot(plt)\n",
    "\n",
    "# Pie Chart\n",
    "st.write(\"Pie Chart Example\")\n",
    "plt.figure()\n",
    "plt.pie(data, labels=labels, autopct='%1.1f%%')\n",
    "st.pyplot(plt)\n"
   ]
  }
 ],
 "metadata": {
  "kernelspec": {
   "display_name": "Python 3 (ipykernel)",
   "language": "python",
   "name": "python3"
  },
  "language_info": {
   "codemirror_mode": {
    "name": "ipython",
    "version": 3
   },
   "file_extension": ".py",
   "mimetype": "text/x-python",
   "name": "python",
   "nbconvert_exporter": "python",
   "pygments_lexer": "ipython3",
   "version": "3.9.13"
  }
 },
 "nbformat": 4,
 "nbformat_minor": 5
}
