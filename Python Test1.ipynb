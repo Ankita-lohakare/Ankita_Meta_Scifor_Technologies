{
 "cells": [
  {
   "cell_type": "markdown",
   "id": "a94b96e6",
   "metadata": {},
   "source": [
    "## 1. What are Python data types?"
   ]
  },
  {
   "cell_type": "code",
   "execution_count": 1,
   "id": "5101330e",
   "metadata": {},
   "outputs": [
    {
     "name": "stdout",
     "output_type": "stream",
     "text": [
      "<class 'int'> 36\n",
      "<class 'float'> 14.9\n",
      "<class 'str'> I like Python Programming\n",
      "<class 'list'> [1, 'a', 2.5, 'hello']\n",
      "<class 'tuple'> (16, 17, 6, 6, 5)\n",
      "<class 'dict'> {'name': 'sam', 'marks': [75, 89, 92]}\n",
      "<class 'set'> {1, 3, 4, 5}\n"
     ]
    }
   ],
   "source": [
    "# 1.Integers – It contains positive or negative whole numbers (without fractions or decimals). \n",
    "# In Python, there is no limit to how long an integer value can be.\n",
    "a=36\n",
    "print(type(a),a)\n",
    "      \n",
    "# 2.Float- It is a real number with a floating-point representation. It is specified by a decimal point\n",
    "b=14.9\n",
    "print(type(b),b)\n",
    "      \n",
    "# 3.String-  A string is a collection of one or more characters put in a single quote, double-quote, or triple-quote. \n",
    "# In Python, there is no character data type Python, a character is a string of length one. \n",
    "# It is represented by str class.\n",
    "c=\"I like Python Programming\"\n",
    "print(type(c),c)\n",
    "      \n",
    "# 4.List- Lists are just like arrays, it is an ordered collection of data.\n",
    "# It is very flexible as the items in a list do not need to be of the same type.\n",
    "a=[1,'a',2.5,\"hello\"]\n",
    "print(type(a),a)\n",
    "      \n",
    "# 5.Tuples- Just like a list, a tuple is also an ordered collection of Python objects.\n",
    "# The only difference between a tuple and a list is that tuples are immutable i.e. tuples cannot be modified after it is created.\n",
    "tup=(16,17,6,6,5)\n",
    "print(type(tup),tup)\n",
    "      \n",
    "# 6.Dictionary- A dictionary in Python is an unordered collection of data values, used to store data values like a map.\n",
    "# a Dictionary holds a key: value pair.\n",
    "d={\"name\":\"sam\",\"marks\":[75,89,92]}\n",
    "print(type(d),d)\n",
    "\n",
    "# 7.Sets- In Python Data Types, a Set is an unordered collection of data types that is iterable, mutable, and has no duplicate elements.\n",
    "# The order of elements in a set is undefined though it may consist of various elements.\n",
    "a={1,3,4,5}\n",
    "print(type(a),a)"
   ]
  },
  {
   "cell_type": "markdown",
   "id": "db7cd29e",
   "metadata": {},
   "source": [
    "## 2. Explain the difference between list, tuple, and set.\n"
   ]
  },
  {
   "cell_type": "markdown",
   "id": "fe5ebe50",
   "metadata": {},
   "source": [
    " 1.List: List is mutable datatype, Insertion order get preserved.\n",
    " Duplicate Elements are allowed, Heterogeneous elements are allowed.\n",
    "\n",
    " 2.Tuple: Tuple are immutalbe Datatypes, insertion order gets preserved.\n",
    " Duplicate elements are allowed, Heterogeneous elements are allowed.\n",
    "\n",
    " 3.Set: Set is Unordered Datatype, Set Eliminates Dublicate values.\n",
    " Set is mutalbe datatype. Hetorgeneous Elements are allowed."
   ]
  },
  {
   "cell_type": "markdown",
   "id": "faa29d43",
   "metadata": {},
   "source": [
    "## 3. How do you handle exceptions in Python?"
   ]
  },
  {
   "cell_type": "code",
   "execution_count": 3,
   "id": "43826e07",
   "metadata": {},
   "outputs": [
    {
     "name": "stdout",
     "output_type": "stream",
     "text": [
      "Error: cannot add an int and a str\n"
     ]
    }
   ],
   "source": [
    "#  Answer - To handle exceptions in Python, we can use the try, else, finally and except keywords to create a try-except block:\n",
    "# 1) Try: Place the code that might raise an exception in the try block.\n",
    "# 2) Except: If an exception occurs in the try block, the program will jump to the except block to handle the error.\n",
    "# 3) Else: If no exceptions are raised in the try block, the else block runs. \n",
    "# 4) Finally: The finally block runs regardless of whether an exception occurred or not.\n",
    "#    It's often used for clean-up tasks like closing files or releasing resources.\n",
    "\n",
    "x = 5\n",
    "y = \"hello\"\n",
    "try:\n",
    "    z = x + y\n",
    "except TypeError:\n",
    "    print(\"Error: cannot add an int and a str\")"
   ]
  },
  {
   "cell_type": "markdown",
   "id": "dc5f8e9b",
   "metadata": {},
   "source": [
    "##  4. What are Python decorators?"
   ]
  },
  {
   "cell_type": "markdown",
   "id": "e8198b11",
   "metadata": {},
   "source": [
    " Python decorators are functions that modify the behavior of another function, class, or method without changing its code: \n",
    " Decorators add new functionality to an existing object, such as logging, timing, or authentication.\n",
    "\n",
    " Python provides some built-in decorators like:\n",
    "\n",
    " @staticmethod and @classmethod for methods in classes.\n",
    " @property for defining class properties."
   ]
  },
  {
   "cell_type": "code",
   "execution_count": 4,
   "id": "cbd3125b",
   "metadata": {},
   "outputs": [
    {
     "name": "stdout",
     "output_type": "stream",
     "text": [
      "Something before the function runs\n",
      "Display function ran\n",
      "Something after the function runs\n"
     ]
    }
   ],
   "source": [
    "\n",
    "def decorator_function(original_function):\n",
    "    def wrapper_function(*args, **kwargs):\n",
    "        # Add extra functionality here\n",
    "        print(\"Something before the function runs\")\n",
    "        result = original_function(*args, **kwargs)\n",
    "        print(\"Something after the function runs\")\n",
    "        return result\n",
    "    return wrapper_function\n",
    "\n",
    "@decorator_function\n",
    "def display():\n",
    "    print(\"Display function ran\")\n",
    "\n",
    "display()\n"
   ]
  },
  {
   "cell_type": "markdown",
   "id": "3fdfc0b6",
   "metadata": {},
   "source": [
    "## 5. What is a lambda function?"
   ]
  },
  {
   "cell_type": "code",
   "execution_count": 5,
   "id": "907d1b54",
   "metadata": {},
   "outputs": [
    {
     "name": "stdout",
     "output_type": "stream",
     "text": [
      "7\n"
     ]
    }
   ],
   "source": [
    "# A lambda function in Python is a small, anonymous function defined using the lambda keyword. \n",
    "# Unlike regular functions, lambda functions are not given a name and are typically used for short, simple operations.\n",
    "# Lambda functions can take any number of arguments but can only contain a single expression, which is evaluated and returned.\n",
    "\n",
    "# Anonymous: They don’t have a name (hence \"anonymous\").\n",
    "# Single Expression: Lambda functions can only contain one expression and cannot include multiple lines or statements.\n",
    "# Short-term use: They are often used when a function is required for a short period, especially as an argument to other functions like map(), filter(), or sorted().\n",
    "\n",
    "\n",
    "# Lambda function to add two numbers\n",
    "add = lambda x, y: x + y\n",
    "\n",
    "# Using the lambda function\n",
    "print(add(3, 4))  # Output: 7"
   ]
  },
  {
   "cell_type": "markdown",
   "id": "17574538",
   "metadata": {},
   "source": [
    "## 6. How does Python handle multithreading?"
   ]
  },
  {
   "cell_type": "code",
   "execution_count": 6,
   "id": "6b9c966c",
   "metadata": {},
   "outputs": [
    {
     "name": "stdout",
     "output_type": "stream",
     "text": [
      "1\n",
      "2\n",
      "3\n",
      "4\n",
      "5\n",
      "Thread has finished\n"
     ]
    }
   ],
   "source": [
    "# Python supports multithreading through the threading module, allowing developers to run multiple threads (lighter units of execution) within a program.\n",
    "# However, Python's multithreading behavior is somewhat limited due to the Global Interpreter Lock (GIL),\n",
    "# which allows only one thread to execute Python bytecode at a time, even in a multithreaded program.\n",
    "\n",
    "# Multithreading and multiprocessing:\n",
    " \n",
    "# Multithreading: Involves running multiple threads (lighter, concurrent units of execution) within the same process. \n",
    "# Threads share the same memory space, which allows them to communicate and share data more easily, but it can also lead to race conditions if not handled properly.\n",
    "\n",
    "# Multiprocessing: Involves running multiple processes, each with its own memory space and Python interpreter.\n",
    "# Each process is independent of the others and does not share memory, which avoids the race conditions seen in multithreading but requires explicit communication between processes.\n",
    "\n",
    "\n",
    "\n",
    "\n",
    "import threading\n",
    "import time\n",
    "\n",
    "# Function to be run in a thread\n",
    "def print_numbers():\n",
    "    for i in range(1, 6):\n",
    "        print(i)\n",
    "        time.sleep(1)\n",
    "\n",
    "# Create a thread\n",
    "thread = threading.Thread(target=print_numbers)\n",
    "\n",
    "# Start the thread\n",
    "thread.start()\n",
    "\n",
    "# Wait for the thread to complete\n",
    "thread.join()\n",
    "print(\"Thread has finished\")\n"
   ]
  },
  {
   "cell_type": "markdown",
   "id": "4fcbbca9",
   "metadata": {},
   "source": [
    "## 7. How do you work with files in Python?"
   ]
  },
  {
   "cell_type": "markdown",
   "id": "3bcb45e2",
   "metadata": {},
   "source": [
    " Python provides built-in functions to perform various file operations like opening, reading, writing, and closing files.\n",
    " The most common function for working with files is open(), \n",
    " and it supports several file modes to define how a file will be accessed (read, write, etc.)\n",
    " \n",
    " open(): Opens a file and returns a file object.\n",
    " read()/readline()/readlines(): Reads data from a file.\n",
    " write()/writelines(): Writes data to a file.\n",
    " close(): Closes the file.\n",
    " File Modes: Determines how the file is opened (read, write, append, etc.).\n",
    "\n",
    " Different modes are\n",
    "\n",
    " 'r': read\n",
    " 'w': write at the begining(overrites the file)\n",
    " 'a': write at the end(add to the end of the content of the file)"
   ]
  },
  {
   "cell_type": "markdown",
   "id": "46de5cf8",
   "metadata": {},
   "source": [
    "## OOP Implementation:"
   ]
  },
  {
   "cell_type": "markdown",
   "id": "869c266c",
   "metadata": {},
   "source": [
    "## 1. What is Object-Oriented Programming (OOP)?"
   ]
  },
  {
   "cell_type": "markdown",
   "id": "e169ea27",
   "metadata": {},
   "source": [
    "Object-Oriented Programming (OOP) is a programming that uses classes and objects to model real-world concepts and create reusable code.\n",
    "\n",
    "Encapsulation:\n",
    "This principle binds data and methods together in a class to hide implementation details and protect data from unauthorized access.\n",
    "Abstraction:\n",
    "It simplifies complex systems by hiding implementation details.\n",
    "Inheritance:\n",
    "This principle allows one class to inherit the functions and properties of another class.\n",
    "Polymorphism:\n",
    "This principle allows developers to assign and perform several actions using a single function.\n"
   ]
  },
  {
   "cell_type": "markdown",
   "id": "8678efed",
   "metadata": {},
   "source": [
    "## 2. What is a class and an object in Python?"
   ]
  },
  {
   "cell_type": "code",
   "execution_count": 8,
   "id": "a6c38799",
   "metadata": {},
   "outputs": [],
   "source": [
    "# Classes in Python are blueprints for creating objects. They define the attributes (data) and methods (functions) that objects of the class will have.\n",
    "# Objects are instances of classes. They are created from the class blueprint and can have their own unique data while sharing common methods defined in the class.\n",
    "\n",
    "class Car:\n",
    "    def __init__(self, make, model, year):\n",
    "        self.make = make  # Attribute\n",
    "        self.model = model  # Attribute\n",
    "        self.year = year  # Attribute\n",
    "\n",
    "    def drive(self):\n",
    "        print(f\"{self.make} {self.model} is driving!\")\n",
    "\n",
    "    def stop(self):\n",
    "        print(f\"{self.make} {self.model} has stopped.\")\n"
   ]
  },
  {
   "cell_type": "markdown",
   "id": "7d12c05d",
   "metadata": {},
   "source": [
    "## 3. How do you create a class in Python?"
   ]
  },
  {
   "cell_type": "code",
   "execution_count": 9,
   "id": "2e2bd6d0",
   "metadata": {},
   "outputs": [
    {
     "name": "stdout",
     "output_type": "stream",
     "text": [
      "mammal\n",
      "I'm a mammal\n",
      "I'm a dog\n"
     ]
    }
   ],
   "source": [
    "\n",
    "class Dog:\n",
    "\n",
    "    # A simple class\n",
    "    # attribute\n",
    "    attr1 = \"mammal\"\n",
    "    attr2 = \"dog\"\n",
    "\n",
    "    # A sample method\n",
    "    def fun(self):\n",
    "        print(\"I'm a\", self.attr1)\n",
    "        print(\"I'm a\", self.attr2)\n",
    "\n",
    "Rodger = Dog()\n",
    "\n",
    "print(Rodger.attr1)\n",
    "Rodger.fun()"
   ]
  },
  {
   "cell_type": "markdown",
   "id": "9b57bb74",
   "metadata": {},
   "source": [
    "## 4. What are instance variables and class variables?"
   ]
  },
  {
   "cell_type": "markdown",
   "id": "3ea39cb7",
   "metadata": {},
   "source": [
    "Instance Variables: Defined within methods like __init__, these variables are unique to each instance of a class.\n",
    "Class Variables: Defined directly within the class but outside any method, these variables are shared across all instances."
   ]
  },
  {
   "cell_type": "code",
   "execution_count": 10,
   "id": "557a8609",
   "metadata": {},
   "outputs": [],
   "source": [
    "class Car:\n",
    "    # Class variable\n",
    "    wheels = 4\n",
    "\n",
    "    def __init__(self, color):\n",
    "        # Instance variable\n",
    "        self.color = color\n"
   ]
  },
  {
   "cell_type": "markdown",
   "id": "a1feb0bc",
   "metadata": {},
   "source": [
    "## 5. What is the purpose of the __init__ method?"
   ]
  },
  {
   "cell_type": "markdown",
   "id": "019a690c",
   "metadata": {},
   "source": [
    "The __init__ method is the constructor in Python. It initializes new objects, setting up instance variables and providing initial values."
   ]
  },
  {
   "cell_type": "code",
   "execution_count": 11,
   "id": "f76d7990",
   "metadata": {},
   "outputs": [],
   "source": [
    "class Car:\n",
    "    def __init__(self, color):\n",
    "        self.color = color  # Initializes the 'color' attribute for each instance\n"
   ]
  },
  {
   "cell_type": "markdown",
   "id": "fbc0e6f5",
   "metadata": {},
   "source": [
    "## 6. What are self and cls?"
   ]
  },
  {
   "cell_type": "markdown",
   "id": "c465c20c",
   "metadata": {},
   "source": [
    "Self: Refers to the current instance of the class, allowing access to instance variables.     \n",
    "\n",
    "Cls: Refers to the class itself and is used in class methods to access class variables."
   ]
  },
  {
   "cell_type": "code",
   "execution_count": 12,
   "id": "218eb4ec",
   "metadata": {},
   "outputs": [],
   "source": [
    "class Car:\n",
    "    wheels = 4\n",
    "\n",
    "    def __init__(self, color):\n",
    "        self.color = color  # Using 'self' for an instance attribute\n",
    "\n",
    "    @classmethod\n",
    "    def get_wheels(cls):\n",
    "        return cls.wheels  # Using 'cls' to access a class attribute\n"
   ]
  },
  {
   "cell_type": "markdown",
   "id": "dc4b4012",
   "metadata": {},
   "source": [
    "## 7. What is inheritance?"
   ]
  },
  {
   "cell_type": "markdown",
   "id": "443704de",
   "metadata": {},
   "source": [
    "Inheritance allows a class (child) to inherit attributes and methods from another class (parent), promoting reusability.\n"
   ]
  },
  {
   "cell_type": "code",
   "execution_count": 13,
   "id": "f6c853f8",
   "metadata": {},
   "outputs": [
    {
     "name": "stdout",
     "output_type": "stream",
     "text": [
      "Starting vehicle\n",
      "Driving car\n",
      "Charging electric car\n"
     ]
    }
   ],
   "source": [
    "# Multilevel Inheritance\n",
    "class Vehicle:\n",
    "    def start(self):\n",
    "        return \"Starting vehicle\"\n",
    "\n",
    "class Car(Vehicle):\n",
    "    def drive(self):\n",
    "        return \"Driving car\"\n",
    "\n",
    "class ElectricCar(Car):\n",
    "    def charge(self):\n",
    "        return \"Charging electric car\"\n",
    "\n",
    "electric_car = ElectricCar()\n",
    "\n",
    "print(electric_car.start())  # Output: \"Starting vehicle\"\n",
    "print(electric_car.drive())  # Output: \"Driving car\"\n",
    "print(electric_car.charge()) # Output: \"Charging electric car\""
   ]
  },
  {
   "cell_type": "markdown",
   "id": "be9dccbc",
   "metadata": {},
   "source": [
    "## 8. Explain method overriding and method overloading.\n"
   ]
  },
  {
   "cell_type": "markdown",
   "id": "5a3d36e4",
   "metadata": {},
   "source": [
    "Method Overriding: When a subclass provides a specific implementation of a method that’s already defined in its superclass.\n",
    "\n",
    "Method Overloading: It is a programming language feature that allows multiple functions to have the same name but different implementations."
   ]
  },
  {
   "cell_type": "code",
   "execution_count": 14,
   "id": "741e2d28",
   "metadata": {},
   "outputs": [],
   "source": [
    "class Animal:\n",
    "    def sound(self):\n",
    "        print(\"Some sound\")\n",
    "\n",
    "class Dog(Animal):\n",
    "    def sound(self):  # Overriding\n",
    "        print(\"Bark\")\n",
    "\n",
    "# Overloading example with default parameters\n",
    "class Math:\n",
    "    def add(self, a, b=0):  # Single method for two cases\n",
    "        return a + b\n"
   ]
  },
  {
   "cell_type": "markdown",
   "id": "645ede14",
   "metadata": {},
   "source": [
    "## 9. What is multiple inheritance? How does Python handle it?"
   ]
  },
  {
   "cell_type": "markdown",
   "id": "b2454df9",
   "metadata": {},
   "source": [
    "Multiple inheritance allows a class to inherit from more than one parent class. Python resolves conflicts using the Method Resolution Order (MRO)."
   ]
  },
  {
   "cell_type": "code",
   "execution_count": 15,
   "id": "147606da",
   "metadata": {},
   "outputs": [
    {
     "name": "stdout",
     "output_type": "stream",
     "text": [
      "A\n"
     ]
    }
   ],
   "source": [
    "class A:\n",
    "    def show(self):\n",
    "        print(\"A\")\n",
    "\n",
    "class B:\n",
    "    def show(self):\n",
    "        print(\"B\")\n",
    "\n",
    "class C(A, B):  # C inherits from both A and B\n",
    "    pass\n",
    "\n",
    "c = C()\n",
    "c.show()  # MRO will decide which 'show' method to use\n"
   ]
  },
  {
   "cell_type": "markdown",
   "id": "f4d896d4",
   "metadata": {},
   "source": [
    "## 10. What are abstract classes and interfaces in Python?"
   ]
  },
  {
   "cell_type": "markdown",
   "id": "576d6473",
   "metadata": {},
   "source": [
    "Abstract Classes:ABCs are classes that cannot be instantiated on their own, but are designed to be inherited by other classes. They define a set of methods and properties that must be implemented by any subclass. ABCs are implemented using the abc module.\n",
    "Interfaces: It Specify the inputs and outputs of something, but do not specify the implementation."
   ]
  },
  {
   "cell_type": "code",
   "execution_count": 16,
   "id": "a4d8af10",
   "metadata": {},
   "outputs": [
    {
     "name": "stdout",
     "output_type": "stream",
     "text": [
      "Abstract Base Class\n",
      "subclass \n"
     ]
    }
   ],
   "source": [
    "\n",
    "from abc import ABC\n",
    "\n",
    "class R(ABC):\n",
    "    def rk(self):\n",
    "        print(\"Abstract Base Class\")\n",
    "\n",
    "class K(R):\n",
    "    def rk(self):\n",
    "        super().rk()\n",
    "        print(\"subclass \")\n",
    "\n",
    "# Driver code\n",
    "r = K()\n",
    "r.rk()\n"
   ]
  },
  {
   "cell_type": "markdown",
   "id": "debcd924",
   "metadata": {},
   "source": [
    "## 11. What is polymorphism in Python?"
   ]
  },
  {
   "cell_type": "markdown",
   "id": "1a82e18e",
   "metadata": {},
   "source": [
    "Polymorphism is a concept in Python that allows objects to take on different forms or behaviors depending on the context. It allows different classes to be treated as instances of the same class through a common interface"
   ]
  },
  {
   "cell_type": "code",
   "execution_count": 17,
   "id": "3f4b92e4",
   "metadata": {},
   "outputs": [
    {
     "name": "stdout",
     "output_type": "stream",
     "text": [
      "Bark\n",
      "Meow\n"
     ]
    }
   ],
   "source": [
    "class Dog:\n",
    "    def sound(self):\n",
    "        return \"Bark\"\n",
    "\n",
    "class Cat:\n",
    "    def sound(self):\n",
    "        return \"Meow\"\n",
    "\n",
    "def animal_sound(animal):\n",
    "    print(animal.sound())\n",
    "\n",
    "animal_sound(Dog())  # Prints \"Bark\"\n",
    "animal_sound(Cat())  # Prints \"Meow\"\n"
   ]
  },
  {
   "cell_type": "markdown",
   "id": "1c116b6e",
   "metadata": {},
   "source": [
    "## 12. What is encapsulation in OOP?"
   ]
  },
  {
   "cell_type": "markdown",
   "id": "def68268",
   "metadata": {},
   "source": [
    "Encapsulation is a technique that bundles data and methods into a single unit and hides the implementation details of that unit.\n",
    "Encapsulation works by making data private, it can only be accessed and modified through methods within the same class. These methods are called public getter and setter methods, and they allow the programmer to define which attributes can be read or updated, and to validate new values before changing them"
   ]
  },
  {
   "cell_type": "code",
   "execution_count": 18,
   "id": "dfd560a1",
   "metadata": {},
   "outputs": [],
   "source": [
    "class Car:\n",
    "    def __init__(self):\n",
    "        self.__speed = 0  # Private variable\n",
    "\n",
    "    def set_speed(self, speed):\n",
    "        if speed > 0:\n",
    "            self.__speed = speed\n",
    "\n",
    "    def get_speed(self):\n",
    "        return self.__speed\n"
   ]
  },
  {
   "cell_type": "markdown",
   "id": "a27ff35a",
   "metadata": {},
   "source": [
    "## 13. What are getters and setters in Python?"
   ]
  },
  {
   "cell_type": "markdown",
   "id": "0bb7e9cc",
   "metadata": {},
   "source": [
    "Getters and setters provide controlled access to class attributes. Python uses @property and @<name>.setter for this."
   ]
  },
  {
   "cell_type": "code",
   "execution_count": 19,
   "id": "af8ebf79",
   "metadata": {},
   "outputs": [],
   "source": [
    "class Car:\n",
    "    def __init__(self, speed):\n",
    "        self._speed = speed\n",
    "\n",
    "    @property\n",
    "    def speed(self):\n",
    "        return self._speed\n",
    "\n",
    "    @speed.setter\n",
    "    def speed(self, value):\n",
    "        if value >= 0:\n",
    "            self._speed = value\n"
   ]
  },
  {
   "cell_type": "markdown",
   "id": "d85fdff4",
   "metadata": {},
   "source": [
    "## 14. How do you implement operator overloading in Python?"
   ]
  },
  {
   "cell_type": "markdown",
   "id": "50b2b401",
   "metadata": {},
   "source": [
    "Operator overloading uses special methods to change the behavior of operators for class instances.\n",
    "To implement operator overloading in Python, you can define special methods in your class definition that correspond to built-in operators and functions. These methods are also known as dunder methods, which is short for double underscore methods.\n",
    "To perform operator overloading, Python provides some special function or magic function that is automatically invoked when it is associated with that particular operator. For example, when we use + operator, the magic method __add__ is automatically invoked in which the operation for + operator is defined."
   ]
  },
  {
   "cell_type": "code",
   "execution_count": 20,
   "id": "ef363d29",
   "metadata": {},
   "outputs": [
    {
     "name": "stdout",
     "output_type": "stream",
     "text": [
      "(3, 5)\n"
     ]
    }
   ],
   "source": [
    "\n",
    "class complex:\n",
    "    def __init__(self, a, b):\n",
    "        self.a = a\n",
    "        self.b = b\n",
    "\n",
    "     # adding two objects \n",
    "    def __add__(self, other):\n",
    "        return self.a + other.a, self.b + other.b\n",
    "\n",
    "Ob1 = complex(1, 2)\n",
    "Ob2 = complex(2, 3)\n",
    "Ob3 = Ob1 + Ob2\n",
    "print(Ob3)\n"
   ]
  },
  {
   "cell_type": "markdown",
   "id": "dc31ba7c",
   "metadata": {},
   "source": [
    "## 15. What is a static method and a class method in Python?"
   ]
  },
  {
   "cell_type": "markdown",
   "id": "0c1f6547",
   "metadata": {},
   "source": [
    "Static Method: Defined with @staticmethod, a static method does not access class or instance variables.\n",
    "Class Method: Defined with @classmethod, a class method takes cls as the first parameter and can access class variables."
   ]
  },
  {
   "cell_type": "code",
   "execution_count": 22,
   "id": "4ebd1f6c",
   "metadata": {},
   "outputs": [
    {
     "name": "stdout",
     "output_type": "stream",
     "text": [
      "10\n",
      "30\n",
      "30\n"
     ]
    }
   ],
   "source": [
    "class MyClass:\n",
    "    def __init__(self, value):\n",
    "        self.value = value\n",
    "\n",
    "    def get_value(self):\n",
    "        return self.value\n",
    "\n",
    "# Create an instance of MyClass\n",
    "obj = MyClass(10)\n",
    "\n",
    "# Call the get_value method on the instance\n",
    "print(obj.get_value())  # Output: 10\n",
    "\n",
    "\n",
    "class MyClass:\n",
    "    def __init__(self, value):\n",
    "        self.value = value\n",
    "\n",
    "    @staticmethod\n",
    "    def get_max_value(x, y):\n",
    "        return max(x, y)\n",
    "\n",
    "# Create an instance of MyClass\n",
    "obj = MyClass(10)\n",
    "\n",
    "print(MyClass.get_max_value(20, 30))  \n",
    "\n",
    "print(obj.get_max_value(20, 30))"
   ]
  }
 ],
 "metadata": {
  "kernelspec": {
   "display_name": "Python 3 (ipykernel)",
   "language": "python",
   "name": "python3"
  },
  "language_info": {
   "codemirror_mode": {
    "name": "ipython",
    "version": 3
   },
   "file_extension": ".py",
   "mimetype": "text/x-python",
   "name": "python",
   "nbconvert_exporter": "python",
   "pygments_lexer": "ipython3",
   "version": "3.9.13"
  }
 },
 "nbformat": 4,
 "nbformat_minor": 5
}
